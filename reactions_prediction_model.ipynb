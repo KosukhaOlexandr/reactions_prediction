{
  "nbformat": 4,
  "nbformat_minor": 0,
  "metadata": {
    "colab": {
      "provenance": [],
      "authorship_tag": "ABX9TyNM6OK2V1EeIww3noK/8EZp",
      "include_colab_link": true
    },
    "kernelspec": {
      "name": "python3",
      "display_name": "Python 3"
    },
    "language_info": {
      "name": "python"
    }
  },
  "cells": [
    {
      "cell_type": "markdown",
      "metadata": {
        "id": "view-in-github",
        "colab_type": "text"
      },
      "source": [
        "<a href=\"https://colab.research.google.com/github/KosukhaOlexandr/reactions_prediction/blob/main/reactions_prediction_model.ipynb\" target=\"_parent\"><img src=\"https://colab.research.google.com/assets/colab-badge.svg\" alt=\"Open In Colab\"/></a>"
      ]
    },
    {
      "cell_type": "code",
      "source": [
        "from google.colab import drive\n",
        "drive.mount('/content/drive/')"
      ],
      "metadata": {
        "colab": {
          "base_uri": "https://localhost:8080/"
        },
        "id": "Aa3PD_kF8D27",
        "outputId": "85f8012b-39c6-497e-bb6d-01be65e6a7a3"
      },
      "execution_count": null,
      "outputs": [
        {
          "output_type": "stream",
          "name": "stdout",
          "text": [
            "Drive already mounted at /content/drive/; to attempt to forcibly remount, call drive.mount(\"/content/drive/\", force_remount=True).\n"
          ]
        }
      ]
    },
    {
      "cell_type": "code",
      "source": [
        "import pandas as pd\n",
        "\n",
        "with open('/content/drive/MyDrive/reaction_prediction/concatenated_pos_neg.csv') as f:\n",
        "  data = pd.read_csv(f, index_col = 0)"
      ],
      "metadata": {
        "id": "5VPgHPv18G5E"
      },
      "execution_count": null,
      "outputs": []
    },
    {
      "cell_type": "code",
      "source": [
        "data"
      ],
      "metadata": {
        "colab": {
          "base_uri": "https://localhost:8080/",
          "height": 424
        },
        "id": "toU2lFzO8P2K",
        "outputId": "a5ed5c7f-7eee-47a5-aff6-ca6f2ff3a37b"
      },
      "execution_count": null,
      "outputs": [
        {
          "output_type": "execute_result",
          "data": {
            "text/plain": [
              "                                                msg_text  reaction_type\n",
              "0      чий борщ у п’ятницю 1 липня юнеско вирішить до...              1\n",
              "1      зруйнований міст у демидові на київщині планую...              1\n",
              "2      безперечно головне слово сьогодні зміїний мабу...              1\n",
              "3      прокремлівське видання общественная служба нов...              1\n",
              "4      продовжується відвантаження боєприпасів продов...              1\n",
              "...                                                  ...            ...\n",
              "32378  перша леді олена зеленська та прем єр міністр ...              1\n",
              "32379  українські захисники поцілили у військову коме...              1\n",
              "32380  росіяни обстріляли заес пошкоджено обладнання ...              0\n",
              "32381  тсн ua пропонує дізнатися головні події ночі я...              1\n",
              "32382  ситуація на передовій чітко свідчить про те що...              1\n",
              "\n",
              "[32383 rows x 2 columns]"
            ],
            "text/html": [
              "\n",
              "  <div id=\"df-8f8bba4f-201a-416a-8add-6eb3cb499c7b\">\n",
              "    <div class=\"colab-df-container\">\n",
              "      <div>\n",
              "<style scoped>\n",
              "    .dataframe tbody tr th:only-of-type {\n",
              "        vertical-align: middle;\n",
              "    }\n",
              "\n",
              "    .dataframe tbody tr th {\n",
              "        vertical-align: top;\n",
              "    }\n",
              "\n",
              "    .dataframe thead th {\n",
              "        text-align: right;\n",
              "    }\n",
              "</style>\n",
              "<table border=\"1\" class=\"dataframe\">\n",
              "  <thead>\n",
              "    <tr style=\"text-align: right;\">\n",
              "      <th></th>\n",
              "      <th>msg_text</th>\n",
              "      <th>reaction_type</th>\n",
              "    </tr>\n",
              "  </thead>\n",
              "  <tbody>\n",
              "    <tr>\n",
              "      <th>0</th>\n",
              "      <td>чий борщ у п’ятницю 1 липня юнеско вирішить до...</td>\n",
              "      <td>1</td>\n",
              "    </tr>\n",
              "    <tr>\n",
              "      <th>1</th>\n",
              "      <td>зруйнований міст у демидові на київщині планую...</td>\n",
              "      <td>1</td>\n",
              "    </tr>\n",
              "    <tr>\n",
              "      <th>2</th>\n",
              "      <td>безперечно головне слово сьогодні зміїний мабу...</td>\n",
              "      <td>1</td>\n",
              "    </tr>\n",
              "    <tr>\n",
              "      <th>3</th>\n",
              "      <td>прокремлівське видання общественная служба нов...</td>\n",
              "      <td>1</td>\n",
              "    </tr>\n",
              "    <tr>\n",
              "      <th>4</th>\n",
              "      <td>продовжується відвантаження боєприпасів продов...</td>\n",
              "      <td>1</td>\n",
              "    </tr>\n",
              "    <tr>\n",
              "      <th>...</th>\n",
              "      <td>...</td>\n",
              "      <td>...</td>\n",
              "    </tr>\n",
              "    <tr>\n",
              "      <th>32378</th>\n",
              "      <td>перша леді олена зеленська та прем єр міністр ...</td>\n",
              "      <td>1</td>\n",
              "    </tr>\n",
              "    <tr>\n",
              "      <th>32379</th>\n",
              "      <td>українські захисники поцілили у військову коме...</td>\n",
              "      <td>1</td>\n",
              "    </tr>\n",
              "    <tr>\n",
              "      <th>32380</th>\n",
              "      <td>росіяни обстріляли заес пошкоджено обладнання ...</td>\n",
              "      <td>0</td>\n",
              "    </tr>\n",
              "    <tr>\n",
              "      <th>32381</th>\n",
              "      <td>тсн ua пропонує дізнатися головні події ночі я...</td>\n",
              "      <td>1</td>\n",
              "    </tr>\n",
              "    <tr>\n",
              "      <th>32382</th>\n",
              "      <td>ситуація на передовій чітко свідчить про те що...</td>\n",
              "      <td>1</td>\n",
              "    </tr>\n",
              "  </tbody>\n",
              "</table>\n",
              "<p>32383 rows × 2 columns</p>\n",
              "</div>\n",
              "      <button class=\"colab-df-convert\" onclick=\"convertToInteractive('df-8f8bba4f-201a-416a-8add-6eb3cb499c7b')\"\n",
              "              title=\"Convert this dataframe to an interactive table.\"\n",
              "              style=\"display:none;\">\n",
              "        \n",
              "  <svg xmlns=\"http://www.w3.org/2000/svg\" height=\"24px\"viewBox=\"0 0 24 24\"\n",
              "       width=\"24px\">\n",
              "    <path d=\"M0 0h24v24H0V0z\" fill=\"none\"/>\n",
              "    <path d=\"M18.56 5.44l.94 2.06.94-2.06 2.06-.94-2.06-.94-.94-2.06-.94 2.06-2.06.94zm-11 1L8.5 8.5l.94-2.06 2.06-.94-2.06-.94L8.5 2.5l-.94 2.06-2.06.94zm10 10l.94 2.06.94-2.06 2.06-.94-2.06-.94-.94-2.06-.94 2.06-2.06.94z\"/><path d=\"M17.41 7.96l-1.37-1.37c-.4-.4-.92-.59-1.43-.59-.52 0-1.04.2-1.43.59L10.3 9.45l-7.72 7.72c-.78.78-.78 2.05 0 2.83L4 21.41c.39.39.9.59 1.41.59.51 0 1.02-.2 1.41-.59l7.78-7.78 2.81-2.81c.8-.78.8-2.07 0-2.86zM5.41 20L4 18.59l7.72-7.72 1.47 1.35L5.41 20z\"/>\n",
              "  </svg>\n",
              "      </button>\n",
              "      \n",
              "  <style>\n",
              "    .colab-df-container {\n",
              "      display:flex;\n",
              "      flex-wrap:wrap;\n",
              "      gap: 12px;\n",
              "    }\n",
              "\n",
              "    .colab-df-convert {\n",
              "      background-color: #E8F0FE;\n",
              "      border: none;\n",
              "      border-radius: 50%;\n",
              "      cursor: pointer;\n",
              "      display: none;\n",
              "      fill: #1967D2;\n",
              "      height: 32px;\n",
              "      padding: 0 0 0 0;\n",
              "      width: 32px;\n",
              "    }\n",
              "\n",
              "    .colab-df-convert:hover {\n",
              "      background-color: #E2EBFA;\n",
              "      box-shadow: 0px 1px 2px rgba(60, 64, 67, 0.3), 0px 1px 3px 1px rgba(60, 64, 67, 0.15);\n",
              "      fill: #174EA6;\n",
              "    }\n",
              "\n",
              "    [theme=dark] .colab-df-convert {\n",
              "      background-color: #3B4455;\n",
              "      fill: #D2E3FC;\n",
              "    }\n",
              "\n",
              "    [theme=dark] .colab-df-convert:hover {\n",
              "      background-color: #434B5C;\n",
              "      box-shadow: 0px 1px 3px 1px rgba(0, 0, 0, 0.15);\n",
              "      filter: drop-shadow(0px 1px 2px rgba(0, 0, 0, 0.3));\n",
              "      fill: #FFFFFF;\n",
              "    }\n",
              "  </style>\n",
              "\n",
              "      <script>\n",
              "        const buttonEl =\n",
              "          document.querySelector('#df-8f8bba4f-201a-416a-8add-6eb3cb499c7b button.colab-df-convert');\n",
              "        buttonEl.style.display =\n",
              "          google.colab.kernel.accessAllowed ? 'block' : 'none';\n",
              "\n",
              "        async function convertToInteractive(key) {\n",
              "          const element = document.querySelector('#df-8f8bba4f-201a-416a-8add-6eb3cb499c7b');\n",
              "          const dataTable =\n",
              "            await google.colab.kernel.invokeFunction('convertToInteractive',\n",
              "                                                     [key], {});\n",
              "          if (!dataTable) return;\n",
              "\n",
              "          const docLinkHtml = 'Like what you see? Visit the ' +\n",
              "            '<a target=\"_blank\" href=https://colab.research.google.com/notebooks/data_table.ipynb>data table notebook</a>'\n",
              "            + ' to learn more about interactive tables.';\n",
              "          element.innerHTML = '';\n",
              "          dataTable['output_type'] = 'display_data';\n",
              "          await google.colab.output.renderOutput(dataTable, element);\n",
              "          const docLink = document.createElement('div');\n",
              "          docLink.innerHTML = docLinkHtml;\n",
              "          element.appendChild(docLink);\n",
              "        }\n",
              "      </script>\n",
              "    </div>\n",
              "  </div>\n",
              "  "
            ]
          },
          "metadata": {},
          "execution_count": 3
        }
      ]
    },
    {
      "cell_type": "markdown",
      "source": [
        "#Naive Bayes"
      ],
      "metadata": {
        "id": "UjaxuFTc0E8a"
      }
    },
    {
      "cell_type": "markdown",
      "source": [
        "##Count Vectorizer"
      ],
      "metadata": {
        "id": "z23v7gV262Pr"
      }
    },
    {
      "cell_type": "code",
      "source": [
        "import numpy as np\n",
        "from sklearn.feature_extraction.text import CountVectorizer\n",
        "count_vec = CountVectorizer()\n",
        "bow = count_vec.fit_transform(data.msg_text)\n",
        "\n",
        "X = bow\n",
        "Y = data.reaction_type"
      ],
      "metadata": {
        "id": "kXu2-50TrXF-"
      },
      "execution_count": null,
      "outputs": []
    },
    {
      "cell_type": "code",
      "source": [
        "from sklearn.model_selection import train_test_split\n",
        "X_train_cv, X_test_cv, Y_train_cv, Y_test_cv = train_test_split(X, Y, test_size = 0.30, stratify = Y, random_state=42)"
      ],
      "metadata": {
        "id": "hos3pKugAbrq"
      },
      "execution_count": null,
      "outputs": []
    },
    {
      "cell_type": "code",
      "source": [
        "from sklearn.naive_bayes import MultinomialNB\n",
        "nb_cv = MultinomialNB(alpha = 0.01).fit(X_train_cv, Y_train_cv)"
      ],
      "metadata": {
        "id": "QGYyoT79BV1o"
      },
      "execution_count": null,
      "outputs": []
    },
    {
      "cell_type": "code",
      "source": [
        "Y_pred_test = nb_cv.predict(X_test_cv)\n",
        "Y_pred_train = nb_cv.predict(X_train_cv)"
      ],
      "metadata": {
        "id": "y9-eYR83BvVV"
      },
      "execution_count": null,
      "outputs": []
    },
    {
      "cell_type": "code",
      "source": [
        "from sklearn.metrics import accuracy_score\n",
        "\n",
        "print('Test set accuracy:', accuracy_score(Y_test_cv, Y_pred_test))\n",
        "print('Train set accuracy:', accuracy_score(Y_train_cv, Y_pred_train))"
      ],
      "metadata": {
        "colab": {
          "base_uri": "https://localhost:8080/"
        },
        "id": "cr3p0g8tXcIG",
        "outputId": "376582b5-936f-488f-d18d-a3438b4b2bc9"
      },
      "execution_count": null,
      "outputs": [
        {
          "output_type": "stream",
          "name": "stdout",
          "text": [
            "Test set accuracy: 0.7965002573340195\n",
            "Train set accuracy: 0.9449885300864656\n"
          ]
        }
      ]
    },
    {
      "cell_type": "code",
      "source": [
        "from sklearn.metrics import f1_score\n",
        "\n",
        "print('Test set F1 score:', f1_score(Y_test_cv, Y_pred_test))\n",
        "print('Train set F1 score:', f1_score(Y_train_cv, Y_pred_train))"
      ],
      "metadata": {
        "colab": {
          "base_uri": "https://localhost:8080/"
        },
        "id": "IjWgBItbR3eg",
        "outputId": "6d7a528c-837c-4e5e-c4c3-650720975eab"
      },
      "execution_count": null,
      "outputs": [
        {
          "output_type": "stream",
          "name": "stdout",
          "text": [
            "Test set F1 score: 0.8364358401588483\n",
            "Train set F1 score: 0.9550776324795562\n"
          ]
        }
      ]
    },
    {
      "cell_type": "markdown",
      "source": [
        "##TF-IDF Vectorizer"
      ],
      "metadata": {
        "id": "DZCVlm5b65JS"
      }
    },
    {
      "cell_type": "code",
      "source": [
        "import numpy as np\n",
        "from sklearn.feature_extraction.text import TfidfVectorizer\n",
        "\n",
        "tf_idf_vec = TfidfVectorizer()\n",
        "bow_ti = tf_idf_vec.fit_transform(data.msg_text)\n",
        "#bow_ti = np.array(bow_ti.todense())\n",
        "bow_ti"
      ],
      "metadata": {
        "colab": {
          "base_uri": "https://localhost:8080/"
        },
        "id": "wFeCnhzCVGC5",
        "outputId": "d70d4323-ce0e-40a1-bdc4-69b7364f0a35"
      },
      "execution_count": null,
      "outputs": [
        {
          "output_type": "execute_result",
          "data": {
            "text/plain": [
              "<32383x89653 sparse matrix of type '<class 'numpy.float64'>'\n",
              "\twith 1161146 stored elements in Compressed Sparse Row format>"
            ]
          },
          "metadata": {},
          "execution_count": 10
        }
      ]
    },
    {
      "cell_type": "code",
      "source": [
        "from sklearn.model_selection import train_test_split\n",
        "from sklearn.naive_bayes import MultinomialNB\n",
        "\n",
        "X = bow_ti\n",
        "Y = data.reaction_type\n",
        "\n",
        "X_train_ti, X_test_ti, Y_train_ti, Y_test_ti = train_test_split(X, Y, test_size = 0.30, stratify = Y, random_state = 42)\n",
        "\n",
        "nb_tf_idf = MultinomialNB(alpha = 0.01).fit(X_train_ti, Y_train_ti)"
      ],
      "metadata": {
        "id": "WXahwCeJVYvJ"
      },
      "execution_count": null,
      "outputs": []
    },
    {
      "cell_type": "code",
      "source": [
        "Y_pred_test = nb_tf_idf.predict(X_test_ti)\n",
        "Y_pred_train = nb_tf_idf.predict(X_train_ti)"
      ],
      "metadata": {
        "id": "yk2fMqRUVs0C"
      },
      "execution_count": null,
      "outputs": []
    },
    {
      "cell_type": "code",
      "source": [
        "from sklearn.metrics import accuracy_score\n",
        "\n",
        "print('Test set accuracy:', accuracy_score(Y_test_ti, Y_pred_test))\n",
        "print('Train set accuracy:', accuracy_score(Y_train_ti, Y_pred_train))"
      ],
      "metadata": {
        "colab": {
          "base_uri": "https://localhost:8080/"
        },
        "id": "OHLzxC8CVvU3",
        "outputId": "420e9731-0233-4839-c071-6489c548e90b"
      },
      "execution_count": null,
      "outputs": [
        {
          "output_type": "stream",
          "name": "stdout",
          "text": [
            "Test set accuracy: 0.8090581574884199\n",
            "Train set accuracy: 0.956546673725075\n"
          ]
        }
      ]
    },
    {
      "cell_type": "code",
      "source": [
        "from sklearn.metrics import f1_score\n",
        "\n",
        "print('Test set F1 score:', f1_score(Y_test_ti, Y_pred_test))\n",
        "print('Train set F1 score:', f1_score(Y_train_ti, Y_pred_train))"
      ],
      "metadata": {
        "colab": {
          "base_uri": "https://localhost:8080/"
        },
        "id": "5uHWelF4YM47",
        "outputId": "8e9c3fc6-8f67-437e-eb8f-70c20f763270"
      },
      "execution_count": null,
      "outputs": [
        {
          "output_type": "stream",
          "name": "stdout",
          "text": [
            "Test set F1 score: 0.8529994452809256\n",
            "Train set F1 score: 0.9652103274114365\n"
          ]
        }
      ]
    },
    {
      "cell_type": "markdown",
      "source": [
        "#Misscalssified analysis"
      ],
      "metadata": {
        "id": "veO4YMhtz8e-"
      }
    },
    {
      "cell_type": "code",
      "source": [
        "X_test_ser = pd.Series(tf_idf_vec.inverse_transform(X_test_ti))"
      ],
      "metadata": {
        "id": "bke6J0WNj0Tx"
      },
      "execution_count": null,
      "outputs": []
    },
    {
      "cell_type": "code",
      "source": [
        "Y_test_ti.reset_index(drop = True).loc[(Y_test_ti.reset_index(drop = True) != pd.Series(Y_pred_test))]"
      ],
      "metadata": {
        "colab": {
          "base_uri": "https://localhost:8080/"
        },
        "id": "DT83MlR1maEE",
        "outputId": "2e52dbf1-ecfd-4107-be1c-835bd8b5fe4a"
      },
      "execution_count": null,
      "outputs": [
        {
          "output_type": "execute_result",
          "data": {
            "text/plain": [
              "1       1\n",
              "9       0\n",
              "10      0\n",
              "11      1\n",
              "13      0\n",
              "       ..\n",
              "9683    1\n",
              "9690    0\n",
              "9691    1\n",
              "9698    1\n",
              "9712    0\n",
              "Name: reaction_type, Length: 1855, dtype: int64"
            ]
          },
          "metadata": {},
          "execution_count": 16
        }
      ]
    },
    {
      "cell_type": "code",
      "source": [
        "pd.set_option('display.max_colwidth', None)\n",
        "misclass = pd.concat([X_test_ser.loc[(Y_test_ti.reset_index(drop = True) != pd.Series(Y_pred_test))],\n",
        "          Y_test_ti.reset_index(drop = True).loc[(Y_test_ti.reset_index(drop = True) != pd.Series(Y_pred_test))],\n",
        "          pd.Series(Y_pred_test).loc[(Y_test_ti.reset_index(drop = True) != pd.Series(Y_pred_test))]], axis = 1)\n",
        "misclass.columns = ['text', 'true_reaction', 'pred_reaction']\n",
        "misclass"
      ],
      "metadata": {
        "colab": {
          "base_uri": "https://localhost:8080/",
          "height": 711
        },
        "id": "_wz4V_2Kj8S9",
        "outputId": "2445b6a4-b1e8-491e-fc08-95bcf723548c"
      },
      "execution_count": null,
      "outputs": [
        {
          "output_type": "execute_result",
          "data": {
            "text/plain": [
              "                                                                                                                                                                                                                                                                                                                                                                                                                                                                                                                                                                      text  \\\n",
              "1                                                                                                                                                                                                                                                                                                                                                                                                                      [чати, повідомляла, запусків, саперів, чують, моніторингові, київщини, зафіксували, вибухи, ймовірно, жителі, робота, яку, ова, ракет, що, не, про]   \n",
              "9                                                                                                             [mohajer, вкрасти, shahed, менших, тегерана, ірану, літаком, виготовити, 136, іран, nlaw, доправила, західне, 140, news, sky, схоже, передав, javelin, відправила, stinger, безпілотних, західну, аеропорт, технології, серпня, 160, потрібне, 131, дрони, євро, таємно, обмін, озброєння, комплекси, зброю, безпілотників, серед, 20, апаратів, літальних, понад, 100, військовим, шість, 60, млн, росія, яких, щоб, даними, щось, видання, за, на, та, рф]   \n",
              "10                                                                                                                                                                                                                                [риженко, правого, лівий, берег, схеми, грабують, вивозять, берега, костянтин, службовий, херсонський, херсон, наближення, цивільний, дніпра, відчувають, особового, складу, транспорт, показали, переміщення, все, повідомив, окупанти, знімки, зокрема, часом, тим, зсу, супутникові, можуть, це, техніки, журналіст, що, на, та, про]   \n",
              "11                                                                                                                                                                                                                                                                                                                                                                                                                                                                                                                                                               [черкаси]   \n",
              "13                                                                                                                                                                                                                     [заступили, чаес, змінитись, 211, технічне, психологічну, ремонт, фізичну, втому, зміну, захопленої, проводити, персонал, новини, працюють, майже, магате, напередодні, вторгнення, обслуговування, станції, останні, безперервно, людей, повідомили, уже, російського, можуть, ua, тсн, youtube, більше, через, може, які, не, тижні, три, на, та]   \n",
              "...                                                                                                                                                                                                                                                                                                                                                                                                                                                                                                                                                                    ...   \n",
              "9683                                                                                                                                                                                                                                                                                                                           [богатирській, проспекті, завершують, оболоні, домівки, лобановського, солом, мешканці, кличко, віталій, оновлені, пошкоджених, києва, відновлення, янському, повертаються, будинків, мер, вулиці, повідомив, столиці, районі, на, вже, та]   \n",
              "9690                                                                                         [влучній, стовпами, оповите, надзусиллями, розбитий, стрілецькі, нескорений, зупиняють, розривів, шкодують, стійкості, піхоти, цілодобово, артилеристів, запеклі, диму, важких, насамперед, захопити, точаться, бої, донецької, снарядів, міни, українським, терористів, снаряди, сюжеті, околицях, бахмут, йдеться, аби, залишається, роботі, атаки, бійці, людей, окупанти, завдяки, зсу, області, але, тсн, місто, ракети, техніки, після, російський, тільки, не, на, та]   \n",
              "9691                                                                                                                                                                                                                                                                                                                                                                                                                                                             [єйську, росзмі, літака, госпіталізовано, падіння, загинуло, 15, унаслідок, житловий, будинок, людей, на]   \n",
              "9698                                                                                                                                                                                                                                                                                                                                                                                                                           [погодніх, грозу, прогнозують, погіршення, київській, умов, попередили, жителів, києву, 11, столиці, області, по, сьогодні, та, про, липня]   \n",
              "9712  [включалися, відключали, yasno, диспетчери, опаленням, енергомережі, низка, подається, короткий, здебільшого, коваленко, критичну, дефіцит, світло, графіка, розраховують, стабільно, учорашнього, змінився, зберігається, наближення, рівні, директор, стан, водою, мали, користувачів, інфраструктуру, майже, водночас, близько, постачання, будинків, хоча, ранку, райони, києві, навіть, генеральний, все, практично, сергій, намагаються, компанії, столиці, повідомляє, млн, від, 50, щоб, але, час, місто, зробити, які, до, день, так, не, поки, за, на, та]   \n",
              "\n",
              "      true_reaction  pred_reaction  \n",
              "1                 1              0  \n",
              "9                 0              1  \n",
              "10                0              1  \n",
              "11                1              0  \n",
              "13                0              1  \n",
              "...             ...            ...  \n",
              "9683              1              0  \n",
              "9690              0              1  \n",
              "9691              1              0  \n",
              "9698              1              0  \n",
              "9712              0              1  \n",
              "\n",
              "[1855 rows x 3 columns]"
            ],
            "text/html": [
              "\n",
              "  <div id=\"df-f6113ba2-e0c7-4d0e-8dbc-a72576b37a67\">\n",
              "    <div class=\"colab-df-container\">\n",
              "      <div>\n",
              "<style scoped>\n",
              "    .dataframe tbody tr th:only-of-type {\n",
              "        vertical-align: middle;\n",
              "    }\n",
              "\n",
              "    .dataframe tbody tr th {\n",
              "        vertical-align: top;\n",
              "    }\n",
              "\n",
              "    .dataframe thead th {\n",
              "        text-align: right;\n",
              "    }\n",
              "</style>\n",
              "<table border=\"1\" class=\"dataframe\">\n",
              "  <thead>\n",
              "    <tr style=\"text-align: right;\">\n",
              "      <th></th>\n",
              "      <th>text</th>\n",
              "      <th>true_reaction</th>\n",
              "      <th>pred_reaction</th>\n",
              "    </tr>\n",
              "  </thead>\n",
              "  <tbody>\n",
              "    <tr>\n",
              "      <th>1</th>\n",
              "      <td>[чати, повідомляла, запусків, саперів, чують, моніторингові, київщини, зафіксували, вибухи, ймовірно, жителі, робота, яку, ова, ракет, що, не, про]</td>\n",
              "      <td>1</td>\n",
              "      <td>0</td>\n",
              "    </tr>\n",
              "    <tr>\n",
              "      <th>9</th>\n",
              "      <td>[mohajer, вкрасти, shahed, менших, тегерана, ірану, літаком, виготовити, 136, іран, nlaw, доправила, західне, 140, news, sky, схоже, передав, javelin, відправила, stinger, безпілотних, західну, аеропорт, технології, серпня, 160, потрібне, 131, дрони, євро, таємно, обмін, озброєння, комплекси, зброю, безпілотників, серед, 20, апаратів, літальних, понад, 100, військовим, шість, 60, млн, росія, яких, щоб, даними, щось, видання, за, на, та, рф]</td>\n",
              "      <td>0</td>\n",
              "      <td>1</td>\n",
              "    </tr>\n",
              "    <tr>\n",
              "      <th>10</th>\n",
              "      <td>[риженко, правого, лівий, берег, схеми, грабують, вивозять, берега, костянтин, службовий, херсонський, херсон, наближення, цивільний, дніпра, відчувають, особового, складу, транспорт, показали, переміщення, все, повідомив, окупанти, знімки, зокрема, часом, тим, зсу, супутникові, можуть, це, техніки, журналіст, що, на, та, про]</td>\n",
              "      <td>0</td>\n",
              "      <td>1</td>\n",
              "    </tr>\n",
              "    <tr>\n",
              "      <th>11</th>\n",
              "      <td>[черкаси]</td>\n",
              "      <td>1</td>\n",
              "      <td>0</td>\n",
              "    </tr>\n",
              "    <tr>\n",
              "      <th>13</th>\n",
              "      <td>[заступили, чаес, змінитись, 211, технічне, психологічну, ремонт, фізичну, втому, зміну, захопленої, проводити, персонал, новини, працюють, майже, магате, напередодні, вторгнення, обслуговування, станції, останні, безперервно, людей, повідомили, уже, російського, можуть, ua, тсн, youtube, більше, через, може, які, не, тижні, три, на, та]</td>\n",
              "      <td>0</td>\n",
              "      <td>1</td>\n",
              "    </tr>\n",
              "    <tr>\n",
              "      <th>...</th>\n",
              "      <td>...</td>\n",
              "      <td>...</td>\n",
              "      <td>...</td>\n",
              "    </tr>\n",
              "    <tr>\n",
              "      <th>9683</th>\n",
              "      <td>[богатирській, проспекті, завершують, оболоні, домівки, лобановського, солом, мешканці, кличко, віталій, оновлені, пошкоджених, києва, відновлення, янському, повертаються, будинків, мер, вулиці, повідомив, столиці, районі, на, вже, та]</td>\n",
              "      <td>1</td>\n",
              "      <td>0</td>\n",
              "    </tr>\n",
              "    <tr>\n",
              "      <th>9690</th>\n",
              "      <td>[влучній, стовпами, оповите, надзусиллями, розбитий, стрілецькі, нескорений, зупиняють, розривів, шкодують, стійкості, піхоти, цілодобово, артилеристів, запеклі, диму, важких, насамперед, захопити, точаться, бої, донецької, снарядів, міни, українським, терористів, снаряди, сюжеті, околицях, бахмут, йдеться, аби, залишається, роботі, атаки, бійці, людей, окупанти, завдяки, зсу, області, але, тсн, місто, ракети, техніки, після, російський, тільки, не, на, та]</td>\n",
              "      <td>0</td>\n",
              "      <td>1</td>\n",
              "    </tr>\n",
              "    <tr>\n",
              "      <th>9691</th>\n",
              "      <td>[єйську, росзмі, літака, госпіталізовано, падіння, загинуло, 15, унаслідок, житловий, будинок, людей, на]</td>\n",
              "      <td>1</td>\n",
              "      <td>0</td>\n",
              "    </tr>\n",
              "    <tr>\n",
              "      <th>9698</th>\n",
              "      <td>[погодніх, грозу, прогнозують, погіршення, київській, умов, попередили, жителів, києву, 11, столиці, області, по, сьогодні, та, про, липня]</td>\n",
              "      <td>1</td>\n",
              "      <td>0</td>\n",
              "    </tr>\n",
              "    <tr>\n",
              "      <th>9712</th>\n",
              "      <td>[включалися, відключали, yasno, диспетчери, опаленням, енергомережі, низка, подається, короткий, здебільшого, коваленко, критичну, дефіцит, світло, графіка, розраховують, стабільно, учорашнього, змінився, зберігається, наближення, рівні, директор, стан, водою, мали, користувачів, інфраструктуру, майже, водночас, близько, постачання, будинків, хоча, ранку, райони, києві, навіть, генеральний, все, практично, сергій, намагаються, компанії, столиці, повідомляє, млн, від, 50, щоб, але, час, місто, зробити, які, до, день, так, не, поки, за, на, та]</td>\n",
              "      <td>0</td>\n",
              "      <td>1</td>\n",
              "    </tr>\n",
              "  </tbody>\n",
              "</table>\n",
              "<p>1855 rows × 3 columns</p>\n",
              "</div>\n",
              "      <button class=\"colab-df-convert\" onclick=\"convertToInteractive('df-f6113ba2-e0c7-4d0e-8dbc-a72576b37a67')\"\n",
              "              title=\"Convert this dataframe to an interactive table.\"\n",
              "              style=\"display:none;\">\n",
              "        \n",
              "  <svg xmlns=\"http://www.w3.org/2000/svg\" height=\"24px\"viewBox=\"0 0 24 24\"\n",
              "       width=\"24px\">\n",
              "    <path d=\"M0 0h24v24H0V0z\" fill=\"none\"/>\n",
              "    <path d=\"M18.56 5.44l.94 2.06.94-2.06 2.06-.94-2.06-.94-.94-2.06-.94 2.06-2.06.94zm-11 1L8.5 8.5l.94-2.06 2.06-.94-2.06-.94L8.5 2.5l-.94 2.06-2.06.94zm10 10l.94 2.06.94-2.06 2.06-.94-2.06-.94-.94-2.06-.94 2.06-2.06.94z\"/><path d=\"M17.41 7.96l-1.37-1.37c-.4-.4-.92-.59-1.43-.59-.52 0-1.04.2-1.43.59L10.3 9.45l-7.72 7.72c-.78.78-.78 2.05 0 2.83L4 21.41c.39.39.9.59 1.41.59.51 0 1.02-.2 1.41-.59l7.78-7.78 2.81-2.81c.8-.78.8-2.07 0-2.86zM5.41 20L4 18.59l7.72-7.72 1.47 1.35L5.41 20z\"/>\n",
              "  </svg>\n",
              "      </button>\n",
              "      \n",
              "  <style>\n",
              "    .colab-df-container {\n",
              "      display:flex;\n",
              "      flex-wrap:wrap;\n",
              "      gap: 12px;\n",
              "    }\n",
              "\n",
              "    .colab-df-convert {\n",
              "      background-color: #E8F0FE;\n",
              "      border: none;\n",
              "      border-radius: 50%;\n",
              "      cursor: pointer;\n",
              "      display: none;\n",
              "      fill: #1967D2;\n",
              "      height: 32px;\n",
              "      padding: 0 0 0 0;\n",
              "      width: 32px;\n",
              "    }\n",
              "\n",
              "    .colab-df-convert:hover {\n",
              "      background-color: #E2EBFA;\n",
              "      box-shadow: 0px 1px 2px rgba(60, 64, 67, 0.3), 0px 1px 3px 1px rgba(60, 64, 67, 0.15);\n",
              "      fill: #174EA6;\n",
              "    }\n",
              "\n",
              "    [theme=dark] .colab-df-convert {\n",
              "      background-color: #3B4455;\n",
              "      fill: #D2E3FC;\n",
              "    }\n",
              "\n",
              "    [theme=dark] .colab-df-convert:hover {\n",
              "      background-color: #434B5C;\n",
              "      box-shadow: 0px 1px 3px 1px rgba(0, 0, 0, 0.15);\n",
              "      filter: drop-shadow(0px 1px 2px rgba(0, 0, 0, 0.3));\n",
              "      fill: #FFFFFF;\n",
              "    }\n",
              "  </style>\n",
              "\n",
              "      <script>\n",
              "        const buttonEl =\n",
              "          document.querySelector('#df-f6113ba2-e0c7-4d0e-8dbc-a72576b37a67 button.colab-df-convert');\n",
              "        buttonEl.style.display =\n",
              "          google.colab.kernel.accessAllowed ? 'block' : 'none';\n",
              "\n",
              "        async function convertToInteractive(key) {\n",
              "          const element = document.querySelector('#df-f6113ba2-e0c7-4d0e-8dbc-a72576b37a67');\n",
              "          const dataTable =\n",
              "            await google.colab.kernel.invokeFunction('convertToInteractive',\n",
              "                                                     [key], {});\n",
              "          if (!dataTable) return;\n",
              "\n",
              "          const docLinkHtml = 'Like what you see? Visit the ' +\n",
              "            '<a target=\"_blank\" href=https://colab.research.google.com/notebooks/data_table.ipynb>data table notebook</a>'\n",
              "            + ' to learn more about interactive tables.';\n",
              "          element.innerHTML = '';\n",
              "          dataTable['output_type'] = 'display_data';\n",
              "          await google.colab.output.renderOutput(dataTable, element);\n",
              "          const docLink = document.createElement('div');\n",
              "          docLink.innerHTML = docLinkHtml;\n",
              "          element.appendChild(docLink);\n",
              "        }\n",
              "      </script>\n",
              "    </div>\n",
              "  </div>\n",
              "  "
            ]
          },
          "metadata": {},
          "execution_count": 17
        }
      ]
    },
    {
      "cell_type": "code",
      "source": [
        "Y_test_ti[Y_test_ti == 1].shape"
      ],
      "metadata": {
        "colab": {
          "base_uri": "https://localhost:8080/"
        },
        "id": "9wanP1Z27W0H",
        "outputId": "fcae3936-56fc-49a9-d818-9a97eda38459"
      },
      "execution_count": null,
      "outputs": [
        {
          "output_type": "execute_result",
          "data": {
            "text/plain": [
              "(6035,)"
            ]
          },
          "metadata": {},
          "execution_count": 18
        }
      ]
    },
    {
      "cell_type": "code",
      "source": [
        "Y_test_ti.shape"
      ],
      "metadata": {
        "colab": {
          "base_uri": "https://localhost:8080/"
        },
        "id": "-SRafKqXFLer",
        "outputId": "d2f4d129-f715-4cc8-bd61-2dbc0b98dd56"
      },
      "execution_count": null,
      "outputs": [
        {
          "output_type": "execute_result",
          "data": {
            "text/plain": [
              "(9715,)"
            ]
          },
          "metadata": {},
          "execution_count": 19
        }
      ]
    },
    {
      "cell_type": "code",
      "source": [
        "misclass.loc[(misclass.true_reaction == 1) & (misclass.pred_reaction == 0)].shape"
      ],
      "metadata": {
        "colab": {
          "base_uri": "https://localhost:8080/"
        },
        "id": "2Ys_4qYm6WuU",
        "outputId": "a064041b-a5af-4417-ad25-89baffd7d1c3"
      },
      "execution_count": null,
      "outputs": [
        {
          "output_type": "execute_result",
          "data": {
            "text/plain": [
              "(653, 3)"
            ]
          },
          "metadata": {},
          "execution_count": 20
        }
      ]
    },
    {
      "cell_type": "markdown",
      "source": [
        "#SVC"
      ],
      "metadata": {
        "id": "LqkdqDSa0CVU"
      }
    },
    {
      "cell_type": "code",
      "source": [
        "import numpy as np\n",
        "from sklearn.pipeline import make_pipeline\n",
        "from sklearn.preprocessing import StandardScaler\n",
        "from sklearn.svm import SVC\n",
        "\n",
        "X = bow_ti\n",
        "Y = data.reaction_type\n",
        "\n",
        "svc_tf_idf = make_pipeline(StandardScaler(with_mean=False), SVC(C = 1, gamma='auto'))\n",
        "svc_tf_idf.fit(X_train_ti, Y_train_ti)"
      ],
      "metadata": {
        "colab": {
          "base_uri": "https://localhost:8080/"
        },
        "id": "w3I2fzYa6GfY",
        "outputId": "b613ba48-ee67-47e7-f0a3-88b5c22d8bf3"
      },
      "execution_count": null,
      "outputs": [
        {
          "output_type": "execute_result",
          "data": {
            "text/plain": [
              "Pipeline(steps=[('standardscaler', StandardScaler(with_mean=False)),\n",
              "                ('svc', SVC(C=1, gamma='auto'))])"
            ]
          },
          "metadata": {},
          "execution_count": 21
        }
      ]
    },
    {
      "cell_type": "code",
      "source": [
        "Y_pred_test = svc_tf_idf.predict(X_test_ti)\n",
        "Y_pred_train = svc_tf_idf.predict(X_train_ti)"
      ],
      "metadata": {
        "id": "_iMelUeo6W4i"
      },
      "execution_count": null,
      "outputs": []
    },
    {
      "cell_type": "code",
      "source": [
        "from sklearn.metrics import accuracy_score\n",
        "\n",
        "print('Test set accuracy:', accuracy_score(Y_test_ti, Y_pred_test))\n",
        "print('Train set accuracy:', accuracy_score(Y_train_ti, Y_pred_train))"
      ],
      "metadata": {
        "colab": {
          "base_uri": "https://localhost:8080/"
        },
        "id": "OjWsJBTi6agp",
        "outputId": "51dc87ed-0e0f-4103-cb94-3b2ad34e5654"
      },
      "execution_count": null,
      "outputs": [
        {
          "output_type": "stream",
          "name": "stdout",
          "text": [
            "Test set accuracy: 0.7930005146680391\n",
            "Train set accuracy: 0.977810128815952\n"
          ]
        }
      ]
    },
    {
      "cell_type": "code",
      "source": [
        "from sklearn.metrics import f1_score\n",
        "\n",
        "print('Test set F1 score:', f1_score(Y_test_ti, Y_pred_test))\n",
        "print('Train set F1 score:', f1_score(Y_train_ti, Y_pred_train))"
      ],
      "metadata": {
        "colab": {
          "base_uri": "https://localhost:8080/"
        },
        "id": "eLOtlrLZA5TY",
        "outputId": "fabcd6ce-c8c6-475a-dd7a-8692570f4dec"
      },
      "execution_count": null,
      "outputs": [
        {
          "output_type": "stream",
          "name": "stdout",
          "text": [
            "Test set F1 score: 0.8539684844964055\n",
            "Train set F1 score: 0.9823391032618237\n"
          ]
        }
      ]
    },
    {
      "cell_type": "code",
      "source": [
        "svc_cv = make_pipeline(StandardScaler(with_mean=False), SVC(C = 1, gamma='auto'))\n",
        "svc_cv.fit(X_train_cv, Y_train_cv)"
      ],
      "metadata": {
        "colab": {
          "base_uri": "https://localhost:8080/"
        },
        "id": "uqicPIZZOHeo",
        "outputId": "4dac5508-3843-4583-e70d-ae3b6dd0e229"
      },
      "execution_count": null,
      "outputs": [
        {
          "output_type": "execute_result",
          "data": {
            "text/plain": [
              "Pipeline(steps=[('standardscaler', StandardScaler(with_mean=False)),\n",
              "                ('svc', SVC(C=1, gamma='auto'))])"
            ]
          },
          "metadata": {},
          "execution_count": 25
        }
      ]
    },
    {
      "cell_type": "code",
      "source": [
        "Y_pred_test = svc_cv.predict(X_test_cv)\n",
        "Y_pred_train = svc_cv.predict(X_train_cv)"
      ],
      "metadata": {
        "id": "Q0jtIHGnRVgW"
      },
      "execution_count": null,
      "outputs": []
    },
    {
      "cell_type": "code",
      "source": [
        "print('Test set accuracy:', accuracy_score(Y_test_cv, Y_pred_test))\n",
        "print('Train set accuracy:', accuracy_score(Y_train_cv, Y_pred_train))\n",
        "\n",
        "print('Test set F1 score:', f1_score(Y_test_cv, Y_pred_test))\n",
        "print('Train set F1 score:', f1_score(Y_train_cv, Y_pred_train))"
      ],
      "metadata": {
        "colab": {
          "base_uri": "https://localhost:8080/"
        },
        "id": "3QHyr3swO8hY",
        "outputId": "d0d259d7-be38-41ca-ff96-31d21117efa0"
      },
      "execution_count": null,
      "outputs": [
        {
          "output_type": "stream",
          "name": "stdout",
          "text": [
            "Test set accuracy: 0.7924858466289243\n",
            "Train set accuracy: 0.9578701252867479\n",
            "Test set F1 score: 0.8539553752535497\n",
            "Train set F1 score: 0.9670177862199965\n"
          ]
        }
      ]
    },
    {
      "cell_type": "markdown",
      "source": [
        "#ROC"
      ],
      "metadata": {
        "id": "x9tQgUdm04i1"
      }
    },
    {
      "cell_type": "markdown",
      "source": [
        "So now we have 4 models:\n",
        "- nb_cv\n",
        "- nb_tf_idf\n",
        "- svc_cv\n",
        "- svc_tf_idf\n"
      ],
      "metadata": {
        "id": "uW5DbCgx0oq-"
      }
    },
    {
      "cell_type": "code",
      "source": [
        "import matplotlib.pyplot as plt\n",
        "\n",
        "from sklearn.metrics import roc_curve, auc\n",
        "\n",
        "nb_cv_score = nb_cv.predict_proba(X_test_cv)\n",
        "nb_tf_idf_score = nb_tf_idf.predict_proba(X_test_ti)\n",
        "#svc_cv_score = svc_cv.predict_proba(X_test_cv)\n",
        "#svc_tf_idf_score = svc_tf_idf.predict_proba(X_test_ti)\n",
        "\n",
        "fpr_nb_cv_gnb, tpr_nb_cv_gnb, thresholds_gnb = roc_curve(Y_test_cv, nb_cv_score[:, 1])\n",
        "fpr_nb_tf_idf, tpr_nb_tf_idf, _ = roc_curve(Y_test_ti, nb_tf_idf_score[:, 1])\n",
        "#fpr_svc_cv, tpr_svc_cv, _ = roc_curve(Y_test_cv, svc_cv_score[:, 1])\n",
        "#fpr_svc_tf_idf, tpr_svc_tf_idf, _ = roc_curve(Y_test_ti, svc_tf_idf_score[:, 1]) \n",
        "\n",
        "#plt.plot(fpr_svc_cv, tpr_svc_cv, marker='.', label = 'svc_cv')\n",
        "#plt.plot(fpr_svc_tf_idf, tpr_svc_tf_idf, marker='.', label = 'svc_tf_idf')\n",
        "plt.plot(fpr_nb_tf_idf, tpr_nb_tf_idf, marker='.', label='nb_ti')\n",
        "plt.plot(fpr_nb_cv_gnb, tpr_nb_cv_gnb, marker='.', label='nb_cv')\n"
      ],
      "metadata": {
        "colab": {
          "base_uri": "https://localhost:8080/",
          "height": 282
        },
        "id": "Al6gB9uN01Ps",
        "outputId": "5255912c-b1df-4736-ec58-6330ca2ec495"
      },
      "execution_count": null,
      "outputs": [
        {
          "output_type": "execute_result",
          "data": {
            "text/plain": [
              "[<matplotlib.lines.Line2D at 0x7f8b3570a8e0>]"
            ]
          },
          "metadata": {},
          "execution_count": 28
        },
        {
          "output_type": "display_data",
          "data": {
            "text/plain": [
              "<Figure size 432x288 with 1 Axes>"
            ],
            "image/png": "[encoded data removed]"
          },
          "metadata": {
            "needs_background": "light"
          }
        }
      ]
    },
    {
      "cell_type": "markdown",
      "source": [
        "# Choosing and saving the best model"
      ],
      "metadata": {
        "id": "ZOjkE9UW5gHF"
      }
    },
    {
      "cell_type": "markdown",
      "source": [
        "The best model so far is Naive Bayes with TF-IDF vectorization and f1_score 0.86"
      ],
      "metadata": {
        "id": "KZRF_55M5sUk"
      }
    },
    {
      "cell_type": "code",
      "source": [
        "# we need to save vectorizer and fitter\n",
        "from joblib import dump, load\n",
        "\n",
        "dump(tf_idf_vec, '/content/drive/My Drive/reaction_prediction/vectorizer.joblib')\n",
        "dump(nb_tf_idf, '/content/drive/My Drive/reaction_prediction/model.joblib')\n",
        "\n",
        "# saving training set\n",
        "data.to_csv('/content/drive/My Drive/reaction_prediction/train_set.csv')"
      ],
      "metadata": {
        "id": "P2irTvQC56A5"
      },
      "execution_count": null,
      "outputs": []
    }
  ]
}