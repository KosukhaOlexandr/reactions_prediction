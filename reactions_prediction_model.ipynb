{
  "nbformat": 4,
  "nbformat_minor": 0,
  "metadata": {
    "colab": {
      "provenance": [],
      "authorship_tag": "ABX9TyNZRSN7gCztcSIbF+K1ICMz",
      "include_colab_link": true
    },
    "kernelspec": {
      "name": "python3",
      "display_name": "Python 3"
    },
    "language_info": {
      "name": "python"
    }
  },
  "cells": [
    {
      "cell_type": "markdown",
      "metadata": {
        "id": "view-in-github",
        "colab_type": "text"
      },
      "source": [
        "<a href=\"https://colab.research.google.com/github/KosukhaOlexandr/reactions_prediction/blob/main/reactions_prediction_model.ipynb\" target=\"_parent\"><img src=\"https://colab.research.google.com/assets/colab-badge.svg\" alt=\"Open In Colab\"/></a>"
      ]
    },
    {
      "cell_type": "code",
      "execution_count": 1,
      "metadata": {
        "id": "rxvbV2HQjDcT",
        "colab": {
          "base_uri": "https://localhost:8080/"
        },
        "outputId": "10685136-2a41-4d08-cf07-29e21a42a4de"
      },
      "outputs": [
        {
          "output_type": "stream",
          "name": "stdout",
          "text": [
            "Drive already mounted at /content/drive/; to attempt to forcibly remount, call drive.mount(\"/content/drive/\", force_remount=True).\n"
          ]
        }
      ],
      "source": [
        "from google.colab import drive\n",
        "drive.mount('/content/drive/')"
      ]
    },
    {
      "cell_type": "code",
      "source": [
        "import pandas as pd\n",
        "\n",
        "with open('/content/drive/MyDrive/reaction_prediction/tsn_reactions_dataset.csv') as f:\n",
        "  data = pd.read_csv(f, index_col = 0)\n",
        "  \n",
        "with open('/content/drive/My Drive/reaction_prediction/tsn_reactions_dataset_from_2_jul.csv') as f:\n",
        "  data_from_2_jul = pd.read_csv(f, index_col = 0)"
      ],
      "metadata": {
        "id": "f8Nl3pvIk4PC"
      },
      "execution_count": 2,
      "outputs": []
    },
    {
      "cell_type": "code",
      "source": [
        "data = pd.concat([data.reset_index(drop=True), data_from_2_jul.reset_index(drop=True)], axis = 0)"
      ],
      "metadata": {
        "id": "XDiph4jrdrdJ"
      },
      "execution_count": 3,
      "outputs": []
    },
    {
      "cell_type": "code",
      "source": [
        "data.head()"
      ],
      "metadata": {
        "colab": {
          "base_uri": "https://localhost:8080/",
          "height": 548
        },
        "id": "i3mHi2djleg5",
        "outputId": "848174ff-f433-417a-99d4-23dd4eadc0f1"
      },
      "execution_count": 4,
      "outputs": [
        {
          "output_type": "execute_result",
          "data": {
            "text/plain": [
              "                                            msg_text  clown_face  thumbs_up  \\\n",
              "0  чий борщ у п’ятницю 1 липня юнеско вирішить до...         0.0   0.046779   \n",
              "1  зруйнований міст у демидові на київщині планую...         0.0   0.807922   \n",
              "2  безперечно головне слово сьогодні зміїний мабу...         0.0   0.750110   \n",
              "3  прокремлівське видання общественная служба нов...         0.0   0.081781   \n",
              "4  продовжується відвантаження боєприпасів продов...         0.0   0.453347   \n",
              "\n",
              "   thumbs_down  red_heart      fire  smiling_face_with_hearts  clapping_hands  \\\n",
              "0     0.000000   0.720624  0.004455                  0.019677        0.004270   \n",
              "1     0.002555   0.081772  0.011499                  0.004259        0.001278   \n",
              "2     0.002428   0.168874  0.015673                  0.031788        0.023179   \n",
              "3     0.001136   0.001817  0.006815                  0.002953        0.011586   \n",
              "4     0.006853   0.007380  0.007380                  0.000000        0.002636   \n",
              "\n",
              "   beaming_face_with_smiling_eyes  thinking_face  exploding_head  \\\n",
              "0                        0.142565       0.013922        0.036570   \n",
              "1                        0.002981       0.058773        0.000000   \n",
              "2                        0.001987       0.001987        0.000000   \n",
              "3                        0.814630       0.004998        0.034757   \n",
              "4                        0.003163       0.033737        0.055351   \n",
              "\n",
              "   face_screaming_in_fear  face_with_symbols_on_mouth  crying_face  \\\n",
              "0                     0.0                    0.007611     0.001114   \n",
              "1                     0.0                    0.000000     0.024702   \n",
              "2                     0.0                    0.000000     0.000000   \n",
              "3                     0.0                    0.006134     0.000000   \n",
              "4                     0.0                    0.397470     0.018977   \n",
              "\n",
              "   party_popper  star-struck  face_vomiting  pile_of_poo  \n",
              "0      0.002413          0.0       0.000000     0.000000  \n",
              "1      0.000000          0.0       0.001278     0.002981  \n",
              "2      0.000000          0.0       0.003974     0.000000  \n",
              "3      0.000000          0.0       0.033394     0.000000  \n",
              "4      0.000000          0.0       0.013706     0.000000  "
            ],
            "text/html": [
              "\n",
              "  <div id=\"df-f2000b0f-08e2-47dd-8a88-3296dc2cb178\">\n",
              "    <div class=\"colab-df-container\">\n",
              "      <div>\n",
              "<style scoped>\n",
              "    .dataframe tbody tr th:only-of-type {\n",
              "        vertical-align: middle;\n",
              "    }\n",
              "\n",
              "    .dataframe tbody tr th {\n",
              "        vertical-align: top;\n",
              "    }\n",
              "\n",
              "    .dataframe thead th {\n",
              "        text-align: right;\n",
              "    }\n",
              "</style>\n",
              "<table border=\"1\" class=\"dataframe\">\n",
              "  <thead>\n",
              "    <tr style=\"text-align: right;\">\n",
              "      <th></th>\n",
              "      <th>msg_text</th>\n",
              "      <th>clown_face</th>\n",
              "      <th>thumbs_up</th>\n",
              "      <th>thumbs_down</th>\n",
              "      <th>red_heart</th>\n",
              "      <th>fire</th>\n",
              "      <th>smiling_face_with_hearts</th>\n",
              "      <th>clapping_hands</th>\n",
              "      <th>beaming_face_with_smiling_eyes</th>\n",
              "      <th>thinking_face</th>\n",
              "      <th>exploding_head</th>\n",
              "      <th>face_screaming_in_fear</th>\n",
              "      <th>face_with_symbols_on_mouth</th>\n",
              "      <th>crying_face</th>\n",
              "      <th>party_popper</th>\n",
              "      <th>star-struck</th>\n",
              "      <th>face_vomiting</th>\n",
              "      <th>pile_of_poo</th>\n",
              "    </tr>\n",
              "  </thead>\n",
              "  <tbody>\n",
              "    <tr>\n",
              "      <th>0</th>\n",
              "      <td>чий борщ у п’ятницю 1 липня юнеско вирішить до...</td>\n",
              "      <td>0.0</td>\n",
              "      <td>0.046779</td>\n",
              "      <td>0.000000</td>\n",
              "      <td>0.720624</td>\n",
              "      <td>0.004455</td>\n",
              "      <td>0.019677</td>\n",
              "      <td>0.004270</td>\n",
              "      <td>0.142565</td>\n",
              "      <td>0.013922</td>\n",
              "      <td>0.036570</td>\n",
              "      <td>0.0</td>\n",
              "      <td>0.007611</td>\n",
              "      <td>0.001114</td>\n",
              "      <td>0.002413</td>\n",
              "      <td>0.0</td>\n",
              "      <td>0.000000</td>\n",
              "      <td>0.000000</td>\n",
              "    </tr>\n",
              "    <tr>\n",
              "      <th>1</th>\n",
              "      <td>зруйнований міст у демидові на київщині планую...</td>\n",
              "      <td>0.0</td>\n",
              "      <td>0.807922</td>\n",
              "      <td>0.002555</td>\n",
              "      <td>0.081772</td>\n",
              "      <td>0.011499</td>\n",
              "      <td>0.004259</td>\n",
              "      <td>0.001278</td>\n",
              "      <td>0.002981</td>\n",
              "      <td>0.058773</td>\n",
              "      <td>0.000000</td>\n",
              "      <td>0.0</td>\n",
              "      <td>0.000000</td>\n",
              "      <td>0.024702</td>\n",
              "      <td>0.000000</td>\n",
              "      <td>0.0</td>\n",
              "      <td>0.001278</td>\n",
              "      <td>0.002981</td>\n",
              "    </tr>\n",
              "    <tr>\n",
              "      <th>2</th>\n",
              "      <td>безперечно головне слово сьогодні зміїний мабу...</td>\n",
              "      <td>0.0</td>\n",
              "      <td>0.750110</td>\n",
              "      <td>0.002428</td>\n",
              "      <td>0.168874</td>\n",
              "      <td>0.015673</td>\n",
              "      <td>0.031788</td>\n",
              "      <td>0.023179</td>\n",
              "      <td>0.001987</td>\n",
              "      <td>0.001987</td>\n",
              "      <td>0.000000</td>\n",
              "      <td>0.0</td>\n",
              "      <td>0.000000</td>\n",
              "      <td>0.000000</td>\n",
              "      <td>0.000000</td>\n",
              "      <td>0.0</td>\n",
              "      <td>0.003974</td>\n",
              "      <td>0.000000</td>\n",
              "    </tr>\n",
              "    <tr>\n",
              "      <th>3</th>\n",
              "      <td>прокремлівське видання общественная служба нов...</td>\n",
              "      <td>0.0</td>\n",
              "      <td>0.081781</td>\n",
              "      <td>0.001136</td>\n",
              "      <td>0.001817</td>\n",
              "      <td>0.006815</td>\n",
              "      <td>0.002953</td>\n",
              "      <td>0.011586</td>\n",
              "      <td>0.814630</td>\n",
              "      <td>0.004998</td>\n",
              "      <td>0.034757</td>\n",
              "      <td>0.0</td>\n",
              "      <td>0.006134</td>\n",
              "      <td>0.000000</td>\n",
              "      <td>0.000000</td>\n",
              "      <td>0.0</td>\n",
              "      <td>0.033394</td>\n",
              "      <td>0.000000</td>\n",
              "    </tr>\n",
              "    <tr>\n",
              "      <th>4</th>\n",
              "      <td>продовжується відвантаження боєприпасів продов...</td>\n",
              "      <td>0.0</td>\n",
              "      <td>0.453347</td>\n",
              "      <td>0.006853</td>\n",
              "      <td>0.007380</td>\n",
              "      <td>0.007380</td>\n",
              "      <td>0.000000</td>\n",
              "      <td>0.002636</td>\n",
              "      <td>0.003163</td>\n",
              "      <td>0.033737</td>\n",
              "      <td>0.055351</td>\n",
              "      <td>0.0</td>\n",
              "      <td>0.397470</td>\n",
              "      <td>0.018977</td>\n",
              "      <td>0.000000</td>\n",
              "      <td>0.0</td>\n",
              "      <td>0.013706</td>\n",
              "      <td>0.000000</td>\n",
              "    </tr>\n",
              "  </tbody>\n",
              "</table>\n",
              "</div>\n",
              "      <button class=\"colab-df-convert\" onclick=\"convertToInteractive('df-f2000b0f-08e2-47dd-8a88-3296dc2cb178')\"\n",
              "              title=\"Convert this dataframe to an interactive table.\"\n",
              "              style=\"display:none;\">\n",
              "        \n",
              "  <svg xmlns=\"http://www.w3.org/2000/svg\" height=\"24px\"viewBox=\"0 0 24 24\"\n",
              "       width=\"24px\">\n",
              "    <path d=\"M0 0h24v24H0V0z\" fill=\"none\"/>\n",
              "    <path d=\"M18.56 5.44l.94 2.06.94-2.06 2.06-.94-2.06-.94-.94-2.06-.94 2.06-2.06.94zm-11 1L8.5 8.5l.94-2.06 2.06-.94-2.06-.94L8.5 2.5l-.94 2.06-2.06.94zm10 10l.94 2.06.94-2.06 2.06-.94-2.06-.94-.94-2.06-.94 2.06-2.06.94z\"/><path d=\"M17.41 7.96l-1.37-1.37c-.4-.4-.92-.59-1.43-.59-.52 0-1.04.2-1.43.59L10.3 9.45l-7.72 7.72c-.78.78-.78 2.05 0 2.83L4 21.41c.39.39.9.59 1.41.59.51 0 1.02-.2 1.41-.59l7.78-7.78 2.81-2.81c.8-.78.8-2.07 0-2.86zM5.41 20L4 18.59l7.72-7.72 1.47 1.35L5.41 20z\"/>\n",
              "  </svg>\n",
              "      </button>\n",
              "      \n",
              "  <style>\n",
              "    .colab-df-container {\n",
              "      display:flex;\n",
              "      flex-wrap:wrap;\n",
              "      gap: 12px;\n",
              "    }\n",
              "\n",
              "    .colab-df-convert {\n",
              "      background-color: #E8F0FE;\n",
              "      border: none;\n",
              "      border-radius: 50%;\n",
              "      cursor: pointer;\n",
              "      display: none;\n",
              "      fill: #1967D2;\n",
              "      height: 32px;\n",
              "      padding: 0 0 0 0;\n",
              "      width: 32px;\n",
              "    }\n",
              "\n",
              "    .colab-df-convert:hover {\n",
              "      background-color: #E2EBFA;\n",
              "      box-shadow: 0px 1px 2px rgba(60, 64, 67, 0.3), 0px 1px 3px 1px rgba(60, 64, 67, 0.15);\n",
              "      fill: #174EA6;\n",
              "    }\n",
              "\n",
              "    [theme=dark] .colab-df-convert {\n",
              "      background-color: #3B4455;\n",
              "      fill: #D2E3FC;\n",
              "    }\n",
              "\n",
              "    [theme=dark] .colab-df-convert:hover {\n",
              "      background-color: #434B5C;\n",
              "      box-shadow: 0px 1px 3px 1px rgba(0, 0, 0, 0.15);\n",
              "      filter: drop-shadow(0px 1px 2px rgba(0, 0, 0, 0.3));\n",
              "      fill: #FFFFFF;\n",
              "    }\n",
              "  </style>\n",
              "\n",
              "      <script>\n",
              "        const buttonEl =\n",
              "          document.querySelector('#df-f2000b0f-08e2-47dd-8a88-3296dc2cb178 button.colab-df-convert');\n",
              "        buttonEl.style.display =\n",
              "          google.colab.kernel.accessAllowed ? 'block' : 'none';\n",
              "\n",
              "        async function convertToInteractive(key) {\n",
              "          const element = document.querySelector('#df-f2000b0f-08e2-47dd-8a88-3296dc2cb178');\n",
              "          const dataTable =\n",
              "            await google.colab.kernel.invokeFunction('convertToInteractive',\n",
              "                                                     [key], {});\n",
              "          if (!dataTable) return;\n",
              "\n",
              "          const docLinkHtml = 'Like what you see? Visit the ' +\n",
              "            '<a target=\"_blank\" href=https://colab.research.google.com/notebooks/data_table.ipynb>data table notebook</a>'\n",
              "            + ' to learn more about interactive tables.';\n",
              "          element.innerHTML = '';\n",
              "          dataTable['output_type'] = 'display_data';\n",
              "          await google.colab.output.renderOutput(dataTable, element);\n",
              "          const docLink = document.createElement('div');\n",
              "          docLink.innerHTML = docLinkHtml;\n",
              "          element.appendChild(docLink);\n",
              "        }\n",
              "      </script>\n",
              "    </div>\n",
              "  </div>\n",
              "  "
            ]
          },
          "metadata": {},
          "execution_count": 4
        }
      ]
    },
    {
      "cell_type": "code",
      "source": [
        "data.shape"
      ],
      "metadata": {
        "colab": {
          "base_uri": "https://localhost:8080/"
        },
        "id": "AuIqV6aGefmq",
        "outputId": "301383b3-9c96-4198-83df-547b45c698c3"
      },
      "execution_count": 5,
      "outputs": [
        {
          "output_type": "execute_result",
          "data": {
            "text/plain": [
              "(21455, 18)"
            ]
          },
          "metadata": {},
          "execution_count": 5
        }
      ]
    },
    {
      "cell_type": "markdown",
      "source": [
        "For this model we will divide reactions into two categories: \n",
        "- positive - 1 \n",
        "- negative - 0\n",
        "\n",
        "Positive consist of 👍, 👎, ❤, 🔥, 🥰, 👏, 😁, 🤯, 🎉, 🤩\n",
        "\n",
        "Negative consist of 🤡, 🤔, 😱, 🤬, 😢, 🤮, 💩"
      ],
      "metadata": {
        "id": "LtvvSi7sboYO"
      }
    },
    {
      "cell_type": "code",
      "source": [
        "data.columns"
      ],
      "metadata": {
        "colab": {
          "base_uri": "https://localhost:8080/"
        },
        "id": "Qg8X-8EUzG1d",
        "outputId": "2d451b6d-1b3c-4702-9381-6e66669e47c9"
      },
      "execution_count": 6,
      "outputs": [
        {
          "output_type": "execute_result",
          "data": {
            "text/plain": [
              "Index(['msg_text', 'clown_face', 'thumbs_up', 'thumbs_down', 'red_heart',\n",
              "       'fire', 'smiling_face_with_hearts', 'clapping_hands',\n",
              "       'beaming_face_with_smiling_eyes', 'thinking_face', 'exploding_head',\n",
              "       'face_screaming_in_fear', 'face_with_symbols_on_mouth', 'crying_face',\n",
              "       'party_popper', 'star-struck', 'face_vomiting', 'pile_of_poo'],\n",
              "      dtype='object')"
            ]
          },
          "metadata": {},
          "execution_count": 6
        }
      ]
    },
    {
      "cell_type": "code",
      "source": [
        "pos_reacts = ['thumbs_up', 'thumbs_down', 'red_heart', 'fire', 'smiling_face_with_hearts', 'clapping_hands',\n",
        "             'beaming_face_with_smiling_eyes', 'exploding_head', 'party_popper', 'star-struck']\n",
        "neg_reacts = ['clown_face', 'thinking_face', 'face_screaming_in_fear', 'face_with_symbols_on_mouth', 'crying_face',\n",
        "              'face_vomiting', 'pile_of_poo']"
      ],
      "metadata": {
        "id": "TYPTEN12yhQW"
      },
      "execution_count": 7,
      "outputs": []
    },
    {
      "cell_type": "code",
      "source": [
        "data['pos_sum'] = data[pos_reacts].sum(axis = 1)\n",
        "data['neg_sum'] = data[neg_reacts].sum(axis = 1)\n",
        "data.loc[:, ['pos_sum', 'neg_sum']]"
      ],
      "metadata": {
        "colab": {
          "base_uri": "https://localhost:8080/",
          "height": 424
        },
        "id": "Wf2-qrBh0OcU",
        "outputId": "e606b778-2adc-4ff9-bb63-504035471e8f"
      },
      "execution_count": 8,
      "outputs": [
        {
          "output_type": "execute_result",
          "data": {
            "text/plain": [
              "        pos_sum   neg_sum\n",
              "0      0.977353  0.022647\n",
              "1      0.912266  0.087734\n",
              "2      0.994040  0.005960\n",
              "3      0.955475  0.044525\n",
              "4      0.536110  0.463890\n",
              "...         ...       ...\n",
              "10136  0.072111  0.927889\n",
              "10137  0.993582  0.006418\n",
              "10138  0.996099  0.003901\n",
              "10139  0.902312  0.097688\n",
              "10140  0.700722  0.299278\n",
              "\n",
              "[21455 rows x 2 columns]"
            ],
            "text/html": [
              "\n",
              "  <div id=\"df-870ba7bc-f3a4-4af1-9169-d04ad9429fd6\">\n",
              "    <div class=\"colab-df-container\">\n",
              "      <div>\n",
              "<style scoped>\n",
              "    .dataframe tbody tr th:only-of-type {\n",
              "        vertical-align: middle;\n",
              "    }\n",
              "\n",
              "    .dataframe tbody tr th {\n",
              "        vertical-align: top;\n",
              "    }\n",
              "\n",
              "    .dataframe thead th {\n",
              "        text-align: right;\n",
              "    }\n",
              "</style>\n",
              "<table border=\"1\" class=\"dataframe\">\n",
              "  <thead>\n",
              "    <tr style=\"text-align: right;\">\n",
              "      <th></th>\n",
              "      <th>pos_sum</th>\n",
              "      <th>neg_sum</th>\n",
              "    </tr>\n",
              "  </thead>\n",
              "  <tbody>\n",
              "    <tr>\n",
              "      <th>0</th>\n",
              "      <td>0.977353</td>\n",
              "      <td>0.022647</td>\n",
              "    </tr>\n",
              "    <tr>\n",
              "      <th>1</th>\n",
              "      <td>0.912266</td>\n",
              "      <td>0.087734</td>\n",
              "    </tr>\n",
              "    <tr>\n",
              "      <th>2</th>\n",
              "      <td>0.994040</td>\n",
              "      <td>0.005960</td>\n",
              "    </tr>\n",
              "    <tr>\n",
              "      <th>3</th>\n",
              "      <td>0.955475</td>\n",
              "      <td>0.044525</td>\n",
              "    </tr>\n",
              "    <tr>\n",
              "      <th>4</th>\n",
              "      <td>0.536110</td>\n",
              "      <td>0.463890</td>\n",
              "    </tr>\n",
              "    <tr>\n",
              "      <th>...</th>\n",
              "      <td>...</td>\n",
              "      <td>...</td>\n",
              "    </tr>\n",
              "    <tr>\n",
              "      <th>10136</th>\n",
              "      <td>0.072111</td>\n",
              "      <td>0.927889</td>\n",
              "    </tr>\n",
              "    <tr>\n",
              "      <th>10137</th>\n",
              "      <td>0.993582</td>\n",
              "      <td>0.006418</td>\n",
              "    </tr>\n",
              "    <tr>\n",
              "      <th>10138</th>\n",
              "      <td>0.996099</td>\n",
              "      <td>0.003901</td>\n",
              "    </tr>\n",
              "    <tr>\n",
              "      <th>10139</th>\n",
              "      <td>0.902312</td>\n",
              "      <td>0.097688</td>\n",
              "    </tr>\n",
              "    <tr>\n",
              "      <th>10140</th>\n",
              "      <td>0.700722</td>\n",
              "      <td>0.299278</td>\n",
              "    </tr>\n",
              "  </tbody>\n",
              "</table>\n",
              "<p>21455 rows × 2 columns</p>\n",
              "</div>\n",
              "      <button class=\"colab-df-convert\" onclick=\"convertToInteractive('df-870ba7bc-f3a4-4af1-9169-d04ad9429fd6')\"\n",
              "              title=\"Convert this dataframe to an interactive table.\"\n",
              "              style=\"display:none;\">\n",
              "        \n",
              "  <svg xmlns=\"http://www.w3.org/2000/svg\" height=\"24px\"viewBox=\"0 0 24 24\"\n",
              "       width=\"24px\">\n",
              "    <path d=\"M0 0h24v24H0V0z\" fill=\"none\"/>\n",
              "    <path d=\"M18.56 5.44l.94 2.06.94-2.06 2.06-.94-2.06-.94-.94-2.06-.94 2.06-2.06.94zm-11 1L8.5 8.5l.94-2.06 2.06-.94-2.06-.94L8.5 2.5l-.94 2.06-2.06.94zm10 10l.94 2.06.94-2.06 2.06-.94-2.06-.94-.94-2.06-.94 2.06-2.06.94z\"/><path d=\"M17.41 7.96l-1.37-1.37c-.4-.4-.92-.59-1.43-.59-.52 0-1.04.2-1.43.59L10.3 9.45l-7.72 7.72c-.78.78-.78 2.05 0 2.83L4 21.41c.39.39.9.59 1.41.59.51 0 1.02-.2 1.41-.59l7.78-7.78 2.81-2.81c.8-.78.8-2.07 0-2.86zM5.41 20L4 18.59l7.72-7.72 1.47 1.35L5.41 20z\"/>\n",
              "  </svg>\n",
              "      </button>\n",
              "      \n",
              "  <style>\n",
              "    .colab-df-container {\n",
              "      display:flex;\n",
              "      flex-wrap:wrap;\n",
              "      gap: 12px;\n",
              "    }\n",
              "\n",
              "    .colab-df-convert {\n",
              "      background-color: #E8F0FE;\n",
              "      border: none;\n",
              "      border-radius: 50%;\n",
              "      cursor: pointer;\n",
              "      display: none;\n",
              "      fill: #1967D2;\n",
              "      height: 32px;\n",
              "      padding: 0 0 0 0;\n",
              "      width: 32px;\n",
              "    }\n",
              "\n",
              "    .colab-df-convert:hover {\n",
              "      background-color: #E2EBFA;\n",
              "      box-shadow: 0px 1px 2px rgba(60, 64, 67, 0.3), 0px 1px 3px 1px rgba(60, 64, 67, 0.15);\n",
              "      fill: #174EA6;\n",
              "    }\n",
              "\n",
              "    [theme=dark] .colab-df-convert {\n",
              "      background-color: #3B4455;\n",
              "      fill: #D2E3FC;\n",
              "    }\n",
              "\n",
              "    [theme=dark] .colab-df-convert:hover {\n",
              "      background-color: #434B5C;\n",
              "      box-shadow: 0px 1px 3px 1px rgba(0, 0, 0, 0.15);\n",
              "      filter: drop-shadow(0px 1px 2px rgba(0, 0, 0, 0.3));\n",
              "      fill: #FFFFFF;\n",
              "    }\n",
              "  </style>\n",
              "\n",
              "      <script>\n",
              "        const buttonEl =\n",
              "          document.querySelector('#df-870ba7bc-f3a4-4af1-9169-d04ad9429fd6 button.colab-df-convert');\n",
              "        buttonEl.style.display =\n",
              "          google.colab.kernel.accessAllowed ? 'block' : 'none';\n",
              "\n",
              "        async function convertToInteractive(key) {\n",
              "          const element = document.querySelector('#df-870ba7bc-f3a4-4af1-9169-d04ad9429fd6');\n",
              "          const dataTable =\n",
              "            await google.colab.kernel.invokeFunction('convertToInteractive',\n",
              "                                                     [key], {});\n",
              "          if (!dataTable) return;\n",
              "\n",
              "          const docLinkHtml = 'Like what you see? Visit the ' +\n",
              "            '<a target=\"_blank\" href=https://colab.research.google.com/notebooks/data_table.ipynb>data table notebook</a>'\n",
              "            + ' to learn more about interactive tables.';\n",
              "          element.innerHTML = '';\n",
              "          dataTable['output_type'] = 'display_data';\n",
              "          await google.colab.output.renderOutput(dataTable, element);\n",
              "          const docLink = document.createElement('div');\n",
              "          docLink.innerHTML = docLinkHtml;\n",
              "          element.appendChild(docLink);\n",
              "        }\n",
              "      </script>\n",
              "    </div>\n",
              "  </div>\n",
              "  "
            ]
          },
          "metadata": {},
          "execution_count": 8
        }
      ]
    },
    {
      "cell_type": "code",
      "source": [
        "data.loc[:, ['pos_sum', 'neg_sum']] = data.loc[:, ['pos_sum', 'neg_sum']].applymap(lambda x: 1 if x > 0.5 else 0)"
      ],
      "metadata": {
        "id": "t8souQYm3FBD"
      },
      "execution_count": 9,
      "outputs": []
    },
    {
      "cell_type": "code",
      "source": [
        "data.loc[:,['pos_sum','neg_sum']].sum(axis = 0)"
      ],
      "metadata": {
        "colab": {
          "base_uri": "https://localhost:8080/"
        },
        "id": "GBFohe0N5hUD",
        "outputId": "76000f42-6fd0-4360-d89a-4fca2866b83b"
      },
      "execution_count": 10,
      "outputs": [
        {
          "output_type": "execute_result",
          "data": {
            "text/plain": [
              "pos_sum    13333\n",
              "neg_sum     8122\n",
              "dtype: int64"
            ]
          },
          "metadata": {},
          "execution_count": 10
        }
      ]
    },
    {
      "cell_type": "code",
      "source": [
        "import matplotlib.pyplot as plt\n",
        "import numpy as np\n",
        "\n",
        "y = np.array([13333, 8122])\n",
        "mylabels = ['Позитивні', 'Негативні']\n",
        "\n",
        "plt.figure(figsize=(11, 8))\n",
        "plt.pie(y, labels = mylabels, autopct='%1.1f%%')\n",
        "plt.legend(bbox_to_anchor =(1, 1.05),title = \"Співвідношення кількості позитивних та негативних повідомлень в наборі даних:\")\n",
        "plt.savefig('pos_neg_pie.png')\n",
        "\n",
        "plt.show()"
      ],
      "metadata": {
        "colab": {
          "base_uri": "https://localhost:8080/",
          "height": 483
        },
        "id": "avc_LNdQpvm0",
        "outputId": "71ce2bd3-5a38-4c99-99d5-9c09f222219f"
      },
      "execution_count": 11,
      "outputs": [
        {
          "output_type": "display_data",
          "data": {
            "text/plain": [
              "<Figure size 792x576 with 1 Axes>"
            ],
            "image/png": "[encoded data removed]"
          },
          "metadata": {}
        }
      ]
    },
    {
      "cell_type": "markdown",
      "source": [
        "let's make one column for reaction type: 1 for positive, 0 for negative"
      ],
      "metadata": {
        "id": "hG7PL2Dq_Hm2"
      }
    },
    {
      "cell_type": "code",
      "source": [
        "data['reaction_type'] = data['pos_sum']"
      ],
      "metadata": {
        "id": "-CXZksNQ-6Mx"
      },
      "execution_count": 12,
      "outputs": []
    },
    {
      "cell_type": "code",
      "source": [
        "data = data.loc[:, ['msg_text', 'reaction_type']]"
      ],
      "metadata": {
        "id": "EJ3EOBkf-SYF"
      },
      "execution_count": 13,
      "outputs": []
    },
    {
      "cell_type": "markdown",
      "source": [
        "#Naive Bayes"
      ],
      "metadata": {
        "id": "UjaxuFTc0E8a"
      }
    },
    {
      "cell_type": "code",
      "source": [
        "import numpy as np\n",
        "from sklearn.feature_extraction.text import CountVectorizer\n",
        "count_vec = CountVectorizer()\n",
        "bow = count_vec.fit_transform(data.msg_text)\n",
        "\n",
        "X = bow\n",
        "Y = data.reaction_type"
      ],
      "metadata": {
        "id": "kXu2-50TrXF-"
      },
      "execution_count": 14,
      "outputs": []
    },
    {
      "cell_type": "code",
      "source": [
        "from sklearn.model_selection import train_test_split\n",
        "X_train_cv, X_test_cv, Y_train_cv, Y_test_cv = train_test_split(X, Y, test_size = 0.30, stratify = Y, random_state=42)"
      ],
      "metadata": {
        "id": "hos3pKugAbrq"
      },
      "execution_count": 15,
      "outputs": []
    },
    {
      "cell_type": "code",
      "source": [
        "from sklearn.naive_bayes import MultinomialNB\n",
        "nb_cv = MultinomialNB(alpha = 0.01).fit(X_train_cv, Y_train_cv)"
      ],
      "metadata": {
        "id": "QGYyoT79BV1o"
      },
      "execution_count": 16,
      "outputs": []
    },
    {
      "cell_type": "code",
      "source": [
        "Y_pred_test = nb_cv.predict(X_test_cv)\n",
        "Y_pred_train = nb_cv.predict(X_train_cv)"
      ],
      "metadata": {
        "id": "y9-eYR83BvVV"
      },
      "execution_count": 17,
      "outputs": []
    },
    {
      "cell_type": "code",
      "source": [
        "from sklearn.metrics import accuracy_score\n",
        "\n",
        "print('Test set accuracy:', accuracy_score(Y_test_cv, Y_pred_test))\n",
        "print('Train set accuracy:', accuracy_score(Y_train_cv, Y_pred_train))"
      ],
      "metadata": {
        "colab": {
          "base_uri": "https://localhost:8080/"
        },
        "id": "cr3p0g8tXcIG",
        "outputId": "3b297f19-7f73-4017-de32-5ed4a1912342"
      },
      "execution_count": 18,
      "outputs": [
        {
          "output_type": "stream",
          "name": "stdout",
          "text": [
            "Test set accuracy: 0.8117135311480503\n",
            "Train set accuracy: 0.9605140498068984\n"
          ]
        }
      ]
    },
    {
      "cell_type": "code",
      "source": [
        "from sklearn.metrics import f1_score\n",
        "\n",
        "print('Test set F1 score:', f1_score(Y_test_cv, Y_pred_test))\n",
        "print('Train set F1 score:', f1_score(Y_train_cv, Y_pred_train))"
      ],
      "metadata": {
        "colab": {
          "base_uri": "https://localhost:8080/"
        },
        "id": "IjWgBItbR3eg",
        "outputId": "c91a714c-d8e6-4eb7-f416-4f69d55c2433"
      },
      "execution_count": 19,
      "outputs": [
        {
          "output_type": "stream",
          "name": "stdout",
          "text": [
            "Test set F1 score: 0.8519423405814807\n",
            "Train set F1 score: 0.9680202771935502\n"
          ]
        }
      ]
    },
    {
      "cell_type": "code",
      "source": [
        "import numpy as np\n",
        "from sklearn.feature_extraction.text import TfidfVectorizer\n",
        "\n",
        "tf_idf_vec = TfidfVectorizer()\n",
        "bow_ti = tf_idf_vec.fit_transform(data.msg_text)\n",
        "#bow_ti = np.array(bow_ti.todense())\n",
        "bow_ti"
      ],
      "metadata": {
        "colab": {
          "base_uri": "https://localhost:8080/"
        },
        "id": "wFeCnhzCVGC5",
        "outputId": "7fca9860-4945-456e-f6c2-1358cf88071d"
      },
      "execution_count": 20,
      "outputs": [
        {
          "output_type": "execute_result",
          "data": {
            "text/plain": [
              "<21455x74965 sparse matrix of type '<class 'numpy.float64'>'\n",
              "\twith 797946 stored elements in Compressed Sparse Row format>"
            ]
          },
          "metadata": {},
          "execution_count": 20
        }
      ]
    },
    {
      "cell_type": "code",
      "source": [
        "from sklearn.model_selection import train_test_split\n",
        "from sklearn.naive_bayes import MultinomialNB\n",
        "\n",
        "X = bow_ti\n",
        "Y = data.reaction_type\n",
        "\n",
        "X_train_ti, X_test_ti, Y_train_ti, Y_test_ti = train_test_split(X, Y, test_size = 0.30, stratify = Y, random_state = 42)\n",
        "\n",
        "nb_tf_idf = MultinomialNB(alpha = 0.01).fit(X_train_ti, Y_train_ti)"
      ],
      "metadata": {
        "id": "WXahwCeJVYvJ"
      },
      "execution_count": 21,
      "outputs": []
    },
    {
      "cell_type": "code",
      "source": [
        "Y_pred_test = nb_tf_idf.predict(X_test_ti)\n",
        "Y_pred_train = nb_tf_idf.predict(X_train_ti)"
      ],
      "metadata": {
        "id": "yk2fMqRUVs0C"
      },
      "execution_count": 22,
      "outputs": []
    },
    {
      "cell_type": "code",
      "source": [
        "from sklearn.metrics import accuracy_score\n",
        "\n",
        "print('Test set accuracy:', accuracy_score(Y_test_ti, Y_pred_test))\n",
        "print('Train set accuracy:', accuracy_score(Y_train_ti, Y_pred_train))"
      ],
      "metadata": {
        "colab": {
          "base_uri": "https://localhost:8080/"
        },
        "id": "OHLzxC8CVvU3",
        "outputId": "095f85db-1af3-48f6-8aa4-570c599e3514"
      },
      "execution_count": 23,
      "outputs": [
        {
          "output_type": "stream",
          "name": "stdout",
          "text": [
            "Test set accuracy: 0.8179276060276527\n",
            "Train set accuracy: 0.968504461313091\n"
          ]
        }
      ]
    },
    {
      "cell_type": "code",
      "source": [
        "from sklearn.metrics import f1_score\n",
        "\n",
        "print('Test set F1 score:', f1_score(Y_test_ti, Y_pred_test))\n",
        "print('Train set F1 score:', f1_score(Y_train_ti, Y_pred_train))"
      ],
      "metadata": {
        "colab": {
          "base_uri": "https://localhost:8080/"
        },
        "id": "5uHWelF4YM47",
        "outputId": "c23c5a96-79b4-4c23-aa75-56b4dd657ed8"
      },
      "execution_count": 24,
      "outputs": [
        {
          "output_type": "stream",
          "name": "stdout",
          "text": [
            "Test set F1 score: 0.8612360880890363\n",
            "Train set F1 score: 0.9747934985345058\n"
          ]
        }
      ]
    },
    {
      "cell_type": "markdown",
      "source": [
        "#Misscalssified analysis"
      ],
      "metadata": {
        "id": "veO4YMhtz8e-"
      }
    },
    {
      "cell_type": "code",
      "source": [
        "X_test_ser = pd.Series(tf_idf_vec.inverse_transform(X_test_ti))"
      ],
      "metadata": {
        "id": "bke6J0WNj0Tx"
      },
      "execution_count": 25,
      "outputs": []
    },
    {
      "cell_type": "code",
      "source": [
        "Y_test_ti.reset_index(drop = True).loc[(Y_test_ti.reset_index(drop = True) != pd.Series(Y_pred_test))]"
      ],
      "metadata": {
        "colab": {
          "base_uri": "https://localhost:8080/"
        },
        "id": "DT83MlR1maEE",
        "outputId": "2083dba2-1509-4944-98df-9b4516cabf48"
      },
      "execution_count": 26,
      "outputs": [
        {
          "output_type": "execute_result",
          "data": {
            "text/plain": [
              "15      0\n",
              "19      1\n",
              "22      1\n",
              "25      0\n",
              "29      0\n",
              "       ..\n",
              "6416    0\n",
              "6423    0\n",
              "6426    0\n",
              "6432    0\n",
              "6436    0\n",
              "Name: reaction_type, Length: 1172, dtype: int64"
            ]
          },
          "metadata": {},
          "execution_count": 26
        }
      ]
    },
    {
      "cell_type": "code",
      "source": [
        "pd.set_option('display.max_colwidth', None)\n",
        "misclass = pd.concat([X_test_ser.loc[(Y_test_ti.reset_index(drop = True) != pd.Series(Y_pred_test))],\n",
        "          Y_test_ti.reset_index(drop = True).loc[(Y_test_ti.reset_index(drop = True) != pd.Series(Y_pred_test))],\n",
        "          pd.Series(Y_pred_test).loc[(Y_test_ti.reset_index(drop = True) != pd.Series(Y_pred_test))]], axis = 1)\n",
        "misclass.columns = ['text', 'true_reaction', 'pred_reaction']\n",
        "misclass"
      ],
      "metadata": {
        "colab": {
          "base_uri": "https://localhost:8080/",
          "height": 0
        },
        "id": "_wz4V_2Kj8S9",
        "outputId": "ab6411b0-1bd9-4902-eb50-048dc85eaadc"
      },
      "execution_count": 27,
      "outputs": [
        {
          "output_type": "execute_result",
          "data": {
            "text/plain": [
              "                                                                                                                                                                                                                                                                                                                                                                                                                                                                                                                                 text  \\\n",
              "15                                                                                                                                                                    [окопуватись, тривогокупанти, стадію, посилені, позиційної, реагувати, попередив, перевести, оборонної, тижнями, взяли, сирени, найближчими, розумію, посилити, ракетні, тактику, намагається, операції, росія, бути, можуть, зараз, будуть, це, україни, обстріли, вони, війну, потрібно, україні, жданов, олег, експерт, військовий, як, повітряних, на, про]   \n",
              "19                                                                                                                                    [соціологія, переселених, залишитись, центральні, закарпаття, показує, полтаві, їхали, евакуювати, регіони, говоримо, переселенців, полтавщині, хочуть, донецької, львівська, повномасштабної, 94, більшість, місяці, західні, найбільше, осіб, жити, 200, перші, ірина, верещук, сказала, тис, людей, область, із, області, ми, це, україни, війни, що, коли, сьогодні, планують, на, та, про]   \n",
              "22                                                                                                                                                                                                                                                                                                                                                                  [розгорілася, захопленому, стався, загарбники, вибух, азовсталі, вибуху, самі, маріуполі, внаслідок, постраждали, пожежі, військами, російськими, яка, після, на]   \n",
              "25                                                                                                                                        [ейфелеву, євдокименко, ротару, онук, сторіз, знімків, парижа, сторінки, розмістив, зумів, невдалої, парубок, легендарної, фотографії, схоже, софії, співачки, вежу, instagram, анатолій, втекти, своєї, спроби, ці, таки, видно, вдалося, вулиці, молдови, йому, виїхати, повідомив, столиці, франції, прокоментував, яких, україни, ніяк, до, як, після, само, так, не, на, декілька, та]   \n",
              "29                                                                                                                                                                                                         [складами, схоже, запущені, придністров, помітили, звинувачують, дрони, традиційно, мвс, новини, невизнаної, стрілецької, військовими, останні, все, нашої, здійснили, крім, зброї, їх, над, повідомленням, республіки, саме, були, нібито, ua, підтримати, тсн, youtube, обстріли, україну, них, території, зі, того, за]   \n",
              "...                                                                                                                                                                                                                                                                                                                                                                                                                                                                                                                               ...   \n",
              "6416                       [сфальсифікує, псевдорефрендум, опозицію, збройний, прийнятного, обраного, ймовірністю, тимчасової, результату, приєднання, мирний, досягти, придушити, осені, широкомасштабний, голосування, опір, великою, британська, спробу, херсонської, колихаєва, ігоря, провести, територіях, затримали, водночас, триває, голову, міського, ймовірно, 28, неї, херсона, окупації, окупованих, тимчасово, розвідка, повідомляє, щодо, росія, щоб, області, року, 2022, росіяни, може, до, для, червня, за, на, рф]   \n",
              "6423                                                                                                                                                            [міграційній, новоазовську, получити, паспорту, реєстрацію, званій, прийому, подати, службі, документи, довідку, донецьку, документів, розпочали, спочатку, процедуру, громадянам, словами, андрющенко, петро, міського, отримання, маріуполі, голови, написав, радник, окупанти, днр, його, російського, це, російські, потрібно, для, потім, так, за, вже, рф, про]   \n",
              "6426  [warпідписатися, клаптик, цивілізації, розміром, терористами, захоплено, вибратися, aw, жовтий, звільняє, повернеться, живуть, європейських, синьо, свободи, держав, територіях, кожен, квадратних, площа, джерело, пекла, кілометрів, war, досі, майже, можливості, навіть, 120, українців, against, землі, було, окупації, окупованих, тисяч, життя, прапор, деяких, нині, української, від, росія, мають, російськими, там, українці, але, ua, підтримати, тсн, youtube, під, ніж, більше, це, україни, які, не, за, на, та]   \n",
              "6432                                                                                                                                                                                                                                                                                                                                                                                                                                    [коростені, очікуємо, офіційної, житомирської, вибух, інформації, повідомляють, області, про]   \n",
              "6436                                                                                                                                                                                 [загорнута, потаповою, анастасією, калінською, анною, вболівальницю, цинциннаті, wta, скандальний, росіянками, трибуни, змушували, матчу, кваліфікації, прийшла, національний, матчі, турніру, трапився, інцидент, прапором, гру, 1000, українським, американському, покинути, подивитися, жінка, прапор, час, під, україни, яка, була, на, між]   \n",
              "\n",
              "      true_reaction  pred_reaction  \n",
              "15                0              1  \n",
              "19                1              0  \n",
              "22                1              0  \n",
              "25                0              1  \n",
              "29                0              1  \n",
              "...             ...            ...  \n",
              "6416              0              1  \n",
              "6423              0              1  \n",
              "6426              0              1  \n",
              "6432              0              1  \n",
              "6436              0              1  \n",
              "\n",
              "[1172 rows x 3 columns]"
            ],
            "text/html": [
              "\n",
              "  <div id=\"df-36f4d5a5-feb1-42ea-89f8-c9f5e7ff8134\">\n",
              "    <div class=\"colab-df-container\">\n",
              "      <div>\n",
              "<style scoped>\n",
              "    .dataframe tbody tr th:only-of-type {\n",
              "        vertical-align: middle;\n",
              "    }\n",
              "\n",
              "    .dataframe tbody tr th {\n",
              "        vertical-align: top;\n",
              "    }\n",
              "\n",
              "    .dataframe thead th {\n",
              "        text-align: right;\n",
              "    }\n",
              "</style>\n",
              "<table border=\"1\" class=\"dataframe\">\n",
              "  <thead>\n",
              "    <tr style=\"text-align: right;\">\n",
              "      <th></th>\n",
              "      <th>text</th>\n",
              "      <th>true_reaction</th>\n",
              "      <th>pred_reaction</th>\n",
              "    </tr>\n",
              "  </thead>\n",
              "  <tbody>\n",
              "    <tr>\n",
              "      <th>15</th>\n",
              "      <td>[окопуватись, тривогокупанти, стадію, посилені, позиційної, реагувати, попередив, перевести, оборонної, тижнями, взяли, сирени, найближчими, розумію, посилити, ракетні, тактику, намагається, операції, росія, бути, можуть, зараз, будуть, це, україни, обстріли, вони, війну, потрібно, україні, жданов, олег, експерт, військовий, як, повітряних, на, про]</td>\n",
              "      <td>0</td>\n",
              "      <td>1</td>\n",
              "    </tr>\n",
              "    <tr>\n",
              "      <th>19</th>\n",
              "      <td>[соціологія, переселених, залишитись, центральні, закарпаття, показує, полтаві, їхали, евакуювати, регіони, говоримо, переселенців, полтавщині, хочуть, донецької, львівська, повномасштабної, 94, більшість, місяці, західні, найбільше, осіб, жити, 200, перші, ірина, верещук, сказала, тис, людей, область, із, області, ми, це, україни, війни, що, коли, сьогодні, планують, на, та, про]</td>\n",
              "      <td>1</td>\n",
              "      <td>0</td>\n",
              "    </tr>\n",
              "    <tr>\n",
              "      <th>22</th>\n",
              "      <td>[розгорілася, захопленому, стався, загарбники, вибух, азовсталі, вибуху, самі, маріуполі, внаслідок, постраждали, пожежі, військами, російськими, яка, після, на]</td>\n",
              "      <td>1</td>\n",
              "      <td>0</td>\n",
              "    </tr>\n",
              "    <tr>\n",
              "      <th>25</th>\n",
              "      <td>[ейфелеву, євдокименко, ротару, онук, сторіз, знімків, парижа, сторінки, розмістив, зумів, невдалої, парубок, легендарної, фотографії, схоже, софії, співачки, вежу, instagram, анатолій, втекти, своєї, спроби, ці, таки, видно, вдалося, вулиці, молдови, йому, виїхати, повідомив, столиці, франції, прокоментував, яких, україни, ніяк, до, як, після, само, так, не, на, декілька, та]</td>\n",
              "      <td>0</td>\n",
              "      <td>1</td>\n",
              "    </tr>\n",
              "    <tr>\n",
              "      <th>29</th>\n",
              "      <td>[складами, схоже, запущені, придністров, помітили, звинувачують, дрони, традиційно, мвс, новини, невизнаної, стрілецької, військовими, останні, все, нашої, здійснили, крім, зброї, їх, над, повідомленням, республіки, саме, були, нібито, ua, підтримати, тсн, youtube, обстріли, україну, них, території, зі, того, за]</td>\n",
              "      <td>0</td>\n",
              "      <td>1</td>\n",
              "    </tr>\n",
              "    <tr>\n",
              "      <th>...</th>\n",
              "      <td>...</td>\n",
              "      <td>...</td>\n",
              "      <td>...</td>\n",
              "    </tr>\n",
              "    <tr>\n",
              "      <th>6416</th>\n",
              "      <td>[сфальсифікує, псевдорефрендум, опозицію, збройний, прийнятного, обраного, ймовірністю, тимчасової, результату, приєднання, мирний, досягти, придушити, осені, широкомасштабний, голосування, опір, великою, британська, спробу, херсонської, колихаєва, ігоря, провести, територіях, затримали, водночас, триває, голову, міського, ймовірно, 28, неї, херсона, окупації, окупованих, тимчасово, розвідка, повідомляє, щодо, росія, щоб, області, року, 2022, росіяни, може, до, для, червня, за, на, рф]</td>\n",
              "      <td>0</td>\n",
              "      <td>1</td>\n",
              "    </tr>\n",
              "    <tr>\n",
              "      <th>6423</th>\n",
              "      <td>[міграційній, новоазовську, получити, паспорту, реєстрацію, званій, прийому, подати, службі, документи, довідку, донецьку, документів, розпочали, спочатку, процедуру, громадянам, словами, андрющенко, петро, міського, отримання, маріуполі, голови, написав, радник, окупанти, днр, його, російського, це, російські, потрібно, для, потім, так, за, вже, рф, про]</td>\n",
              "      <td>0</td>\n",
              "      <td>1</td>\n",
              "    </tr>\n",
              "    <tr>\n",
              "      <th>6426</th>\n",
              "      <td>[warпідписатися, клаптик, цивілізації, розміром, терористами, захоплено, вибратися, aw, жовтий, звільняє, повернеться, живуть, європейських, синьо, свободи, держав, територіях, кожен, квадратних, площа, джерело, пекла, кілометрів, war, досі, майже, можливості, навіть, 120, українців, against, землі, було, окупації, окупованих, тисяч, життя, прапор, деяких, нині, української, від, росія, мають, російськими, там, українці, але, ua, підтримати, тсн, youtube, під, ніж, більше, це, україни, які, не, за, на, та]</td>\n",
              "      <td>0</td>\n",
              "      <td>1</td>\n",
              "    </tr>\n",
              "    <tr>\n",
              "      <th>6432</th>\n",
              "      <td>[коростені, очікуємо, офіційної, житомирської, вибух, інформації, повідомляють, області, про]</td>\n",
              "      <td>0</td>\n",
              "      <td>1</td>\n",
              "    </tr>\n",
              "    <tr>\n",
              "      <th>6436</th>\n",
              "      <td>[загорнута, потаповою, анастасією, калінською, анною, вболівальницю, цинциннаті, wta, скандальний, росіянками, трибуни, змушували, матчу, кваліфікації, прийшла, національний, матчі, турніру, трапився, інцидент, прапором, гру, 1000, українським, американському, покинути, подивитися, жінка, прапор, час, під, україни, яка, була, на, між]</td>\n",
              "      <td>0</td>\n",
              "      <td>1</td>\n",
              "    </tr>\n",
              "  </tbody>\n",
              "</table>\n",
              "<p>1172 rows × 3 columns</p>\n",
              "</div>\n",
              "      <button class=\"colab-df-convert\" onclick=\"convertToInteractive('df-36f4d5a5-feb1-42ea-89f8-c9f5e7ff8134')\"\n",
              "              title=\"Convert this dataframe to an interactive table.\"\n",
              "              style=\"display:none;\">\n",
              "        \n",
              "  <svg xmlns=\"http://www.w3.org/2000/svg\" height=\"24px\"viewBox=\"0 0 24 24\"\n",
              "       width=\"24px\">\n",
              "    <path d=\"M0 0h24v24H0V0z\" fill=\"none\"/>\n",
              "    <path d=\"M18.56 5.44l.94 2.06.94-2.06 2.06-.94-2.06-.94-.94-2.06-.94 2.06-2.06.94zm-11 1L8.5 8.5l.94-2.06 2.06-.94-2.06-.94L8.5 2.5l-.94 2.06-2.06.94zm10 10l.94 2.06.94-2.06 2.06-.94-2.06-.94-.94-2.06-.94 2.06-2.06.94z\"/><path d=\"M17.41 7.96l-1.37-1.37c-.4-.4-.92-.59-1.43-.59-.52 0-1.04.2-1.43.59L10.3 9.45l-7.72 7.72c-.78.78-.78 2.05 0 2.83L4 21.41c.39.39.9.59 1.41.59.51 0 1.02-.2 1.41-.59l7.78-7.78 2.81-2.81c.8-.78.8-2.07 0-2.86zM5.41 20L4 18.59l7.72-7.72 1.47 1.35L5.41 20z\"/>\n",
              "  </svg>\n",
              "      </button>\n",
              "      \n",
              "  <style>\n",
              "    .colab-df-container {\n",
              "      display:flex;\n",
              "      flex-wrap:wrap;\n",
              "      gap: 12px;\n",
              "    }\n",
              "\n",
              "    .colab-df-convert {\n",
              "      background-color: #E8F0FE;\n",
              "      border: none;\n",
              "      border-radius: 50%;\n",
              "      cursor: pointer;\n",
              "      display: none;\n",
              "      fill: #1967D2;\n",
              "      height: 32px;\n",
              "      padding: 0 0 0 0;\n",
              "      width: 32px;\n",
              "    }\n",
              "\n",
              "    .colab-df-convert:hover {\n",
              "      background-color: #E2EBFA;\n",
              "      box-shadow: 0px 1px 2px rgba(60, 64, 67, 0.3), 0px 1px 3px 1px rgba(60, 64, 67, 0.15);\n",
              "      fill: #174EA6;\n",
              "    }\n",
              "\n",
              "    [theme=dark] .colab-df-convert {\n",
              "      background-color: #3B4455;\n",
              "      fill: #D2E3FC;\n",
              "    }\n",
              "\n",
              "    [theme=dark] .colab-df-convert:hover {\n",
              "      background-color: #434B5C;\n",
              "      box-shadow: 0px 1px 3px 1px rgba(0, 0, 0, 0.15);\n",
              "      filter: drop-shadow(0px 1px 2px rgba(0, 0, 0, 0.3));\n",
              "      fill: #FFFFFF;\n",
              "    }\n",
              "  </style>\n",
              "\n",
              "      <script>\n",
              "        const buttonEl =\n",
              "          document.querySelector('#df-36f4d5a5-feb1-42ea-89f8-c9f5e7ff8134 button.colab-df-convert');\n",
              "        buttonEl.style.display =\n",
              "          google.colab.kernel.accessAllowed ? 'block' : 'none';\n",
              "\n",
              "        async function convertToInteractive(key) {\n",
              "          const element = document.querySelector('#df-36f4d5a5-feb1-42ea-89f8-c9f5e7ff8134');\n",
              "          const dataTable =\n",
              "            await google.colab.kernel.invokeFunction('convertToInteractive',\n",
              "                                                     [key], {});\n",
              "          if (!dataTable) return;\n",
              "\n",
              "          const docLinkHtml = 'Like what you see? Visit the ' +\n",
              "            '<a target=\"_blank\" href=https://colab.research.google.com/notebooks/data_table.ipynb>data table notebook</a>'\n",
              "            + ' to learn more about interactive tables.';\n",
              "          element.innerHTML = '';\n",
              "          dataTable['output_type'] = 'display_data';\n",
              "          await google.colab.output.renderOutput(dataTable, element);\n",
              "          const docLink = document.createElement('div');\n",
              "          docLink.innerHTML = docLinkHtml;\n",
              "          element.appendChild(docLink);\n",
              "        }\n",
              "      </script>\n",
              "    </div>\n",
              "  </div>\n",
              "  "
            ]
          },
          "metadata": {},
          "execution_count": 27
        }
      ]
    },
    {
      "cell_type": "code",
      "source": [
        "Y_test_ti[Y_test_ti == 1].shape"
      ],
      "metadata": {
        "colab": {
          "base_uri": "https://localhost:8080/"
        },
        "id": "9wanP1Z27W0H",
        "outputId": "6d967209-dd2a-48d5-a57e-055791a007ac"
      },
      "execution_count": 28,
      "outputs": [
        {
          "output_type": "execute_result",
          "data": {
            "text/plain": [
              "(4000,)"
            ]
          },
          "metadata": {},
          "execution_count": 28
        }
      ]
    },
    {
      "cell_type": "code",
      "source": [
        "Y_test_ti.shape"
      ],
      "metadata": {
        "colab": {
          "base_uri": "https://localhost:8080/"
        },
        "id": "-SRafKqXFLer",
        "outputId": "28701941-b9eb-4725-8931-5fae7a16f1b1"
      },
      "execution_count": 29,
      "outputs": [
        {
          "output_type": "execute_result",
          "data": {
            "text/plain": [
              "(6437,)"
            ]
          },
          "metadata": {},
          "execution_count": 29
        }
      ]
    },
    {
      "cell_type": "code",
      "source": [
        "misclass.loc[(misclass.true_reaction == 1) & (misclass.pred_reaction == 0)].shape"
      ],
      "metadata": {
        "colab": {
          "base_uri": "https://localhost:8080/"
        },
        "id": "2Ys_4qYm6WuU",
        "outputId": "5b7070c7-33fe-4953-b77f-73bbccfedfd6"
      },
      "execution_count": 30,
      "outputs": [
        {
          "output_type": "execute_result",
          "data": {
            "text/plain": [
              "(363, 3)"
            ]
          },
          "metadata": {},
          "execution_count": 30
        }
      ]
    },
    {
      "cell_type": "markdown",
      "source": [
        "#SVC"
      ],
      "metadata": {
        "id": "LqkdqDSa0CVU"
      }
    },
    {
      "cell_type": "code",
      "source": [
        "import numpy as np\n",
        "from sklearn.pipeline import make_pipeline\n",
        "from sklearn.preprocessing import StandardScaler\n",
        "from sklearn.svm import SVC\n",
        "\n",
        "X = bow_ti\n",
        "Y = data.reaction_type\n",
        "\n",
        "svc_tf_idf = make_pipeline(StandardScaler(with_mean=False), SVC(C = 1, gamma='auto'))\n",
        "svc_tf_idf.fit(X_train_ti, Y_train_ti)"
      ],
      "metadata": {
        "colab": {
          "base_uri": "https://localhost:8080/"
        },
        "id": "w3I2fzYa6GfY",
        "outputId": "69f22de4-492d-4547-cfba-8f88e880de1b"
      },
      "execution_count": 31,
      "outputs": [
        {
          "output_type": "execute_result",
          "data": {
            "text/plain": [
              "Pipeline(steps=[('standardscaler', StandardScaler(with_mean=False)),\n",
              "                ('svc', SVC(C=1, gamma='auto'))])"
            ]
          },
          "metadata": {},
          "execution_count": 31
        }
      ]
    },
    {
      "cell_type": "code",
      "source": [
        "Y_pred_test = svc_tf_idf.predict(X_test_ti)\n",
        "Y_pred_train = svc_tf_idf.predict(X_train_ti)"
      ],
      "metadata": {
        "id": "_iMelUeo6W4i"
      },
      "execution_count": 32,
      "outputs": []
    },
    {
      "cell_type": "code",
      "source": [
        "from sklearn.metrics import accuracy_score\n",
        "\n",
        "print('Test set accuracy:', accuracy_score(Y_test_ti, Y_pred_test))\n",
        "print('Train set accuracy:', accuracy_score(Y_train_ti, Y_pred_train))"
      ],
      "metadata": {
        "colab": {
          "base_uri": "https://localhost:8080/"
        },
        "id": "OjWsJBTi6agp",
        "outputId": "6d53e0fa-1fba-4f28-bc45-e826e7053ab4"
      },
      "execution_count": 33,
      "outputs": [
        {
          "output_type": "stream",
          "name": "stdout",
          "text": [
            "Test set accuracy: 0.7829734348298897\n",
            "Train set accuracy: 0.9823545079238247\n"
          ]
        }
      ]
    },
    {
      "cell_type": "code",
      "source": [
        "from sklearn.metrics import f1_score\n",
        "\n",
        "print('Test set F1 score:', f1_score(Y_test_ti, Y_pred_test))\n",
        "print('Train set F1 score:', f1_score(Y_train_ti, Y_pred_train))"
      ],
      "metadata": {
        "colab": {
          "base_uri": "https://localhost:8080/"
        },
        "id": "eLOtlrLZA5TY",
        "outputId": "715c04f1-669f-400b-d8d6-27d9ec8d4b3f"
      },
      "execution_count": 34,
      "outputs": [
        {
          "output_type": "stream",
          "name": "stdout",
          "text": [
            "Test set F1 score: 0.8481026421659237\n",
            "Train set F1 score: 0.9859229747675963\n"
          ]
        }
      ]
    },
    {
      "cell_type": "code",
      "source": [
        "svc_cv = make_pipeline(StandardScaler(with_mean=False), SVC(C = 1, gamma='auto'))\n",
        "svc_cv.fit(X_train_cv, Y_train_cv)"
      ],
      "metadata": {
        "colab": {
          "base_uri": "https://localhost:8080/"
        },
        "id": "uqicPIZZOHeo",
        "outputId": "8078e74b-27e5-4a41-f6a8-0309cdf87338"
      },
      "execution_count": 35,
      "outputs": [
        {
          "output_type": "execute_result",
          "data": {
            "text/plain": [
              "Pipeline(steps=[('standardscaler', StandardScaler(with_mean=False)),\n",
              "                ('svc', SVC(C=1, gamma='auto'))])"
            ]
          },
          "metadata": {},
          "execution_count": 35
        }
      ]
    },
    {
      "cell_type": "code",
      "source": [
        "Y_pred_test = svc_cv.predict(X_test_cv)\n",
        "Y_pred_train = svc_cv.predict(X_train_cv)"
      ],
      "metadata": {
        "id": "Q0jtIHGnRVgW"
      },
      "execution_count": 36,
      "outputs": []
    },
    {
      "cell_type": "code",
      "source": [
        "print('Test set accuracy:', accuracy_score(Y_test_cv, Y_pred_test))\n",
        "print('Train set accuracy:', accuracy_score(Y_train_cv, Y_pred_train))\n",
        "\n",
        "print('Test set F1 score:', f1_score(Y_test_cv, Y_pred_test))\n",
        "print('Train set F1 score:', f1_score(Y_train_cv, Y_pred_train))"
      ],
      "metadata": {
        "colab": {
          "base_uri": "https://localhost:8080/"
        },
        "id": "3QHyr3swO8hY",
        "outputId": "fb4e7f42-5a05-4f51-9ba5-0ae56585abbe"
      },
      "execution_count": 37,
      "outputs": [
        {
          "output_type": "stream",
          "name": "stdout",
          "text": [
            "Test set accuracy: 0.7907410284293925\n",
            "Train set accuracy: 0.9687708083632974\n",
            "Test set F1 score: 0.8531880108991826\n",
            "Train set F1 score: 0.9753844538917755\n"
          ]
        }
      ]
    },
    {
      "cell_type": "markdown",
      "source": [
        "#ROC"
      ],
      "metadata": {
        "id": "x9tQgUdm04i1"
      }
    },
    {
      "cell_type": "markdown",
      "source": [
        "So now we have 4 models:\n",
        "- nb_cv\n",
        "- nb_tf_idf\n",
        "- svc_cv\n",
        "- svc_tf_idf\n"
      ],
      "metadata": {
        "id": "uW5DbCgx0oq-"
      }
    },
    {
      "cell_type": "code",
      "source": [
        "import matplotlib.pyplot as plt\n",
        "\n",
        "from sklearn.metrics import roc_curve, auc\n",
        "\n",
        "nb_cv_score = nb_cv.predict_proba(X_test_cv)\n",
        "nb_tf_idf_score = nb_tf_idf.predict_proba(X_test_ti)\n",
        "#svc_cv_score = svc_cv.predict_proba(X_test_cv)\n",
        "#svc_tf_idf_score = svc_tf_idf.predict_proba(X_test_ti)\n",
        "\n",
        "fpr_nb_cv_gnb, tpr_nb_cv_gnb, thresholds_gnb = roc_curve(Y_test_cv, nb_cv_score[:, 1])\n",
        "fpr_nb_tf_idf, tpr_nb_tf_idf, _ = roc_curve(Y_test_ti, nb_tf_idf_score[:, 1])\n",
        "#fpr_svc_cv, tpr_svc_cv, _ = roc_curve(Y_test_cv, svc_cv_score[:, 1])\n",
        "#fpr_svc_tf_idf, tpr_svc_tf_idf, _ = roc_curve(Y_test_ti, svc_tf_idf_score[:, 1]) \n",
        "\n",
        "#plt.plot(fpr_svc_cv, tpr_svc_cv, marker='.', label = 'svc_cv')\n",
        "#plt.plot(fpr_svc_tf_idf, tpr_svc_tf_idf, marker='.', label = 'svc_tf_idf')\n",
        "plt.plot(fpr_nb_tf_idf, tpr_nb_tf_idf, marker='.', label='nb_ti')\n",
        "plt.plot(fpr_nb_cv_gnb, tpr_nb_cv_gnb, marker='.', label='nb_cv')\n"
      ],
      "metadata": {
        "colab": {
          "base_uri": "https://localhost:8080/",
          "height": 282
        },
        "id": "Al6gB9uN01Ps",
        "outputId": "5b927de2-de48-42a6-8b0f-c51b6221054c"
      },
      "execution_count": 48,
      "outputs": [
        {
          "output_type": "execute_result",
          "data": {
            "text/plain": [
              "[<matplotlib.lines.Line2D at 0x7faa27c4a410>]"
            ]
          },
          "metadata": {},
          "execution_count": 48
        },
        {
          "output_type": "display_data",
          "data": {
            "text/plain": [
              "<Figure size 432x288 with 1 Axes>"
            ],
            "image/png": "[encoded data removed]"
          },
          "metadata": {
            "needs_background": "light"
          }
        }
      ]
    }
  ]
}