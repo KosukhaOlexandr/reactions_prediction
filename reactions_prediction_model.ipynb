{
  "cells": [
    {
      "cell_type": "markdown",
      "metadata": {
        "id": "view-in-github",
        "colab_type": "text"
      },
      "source": [
        "<a href=\"https://colab.research.google.com/github/KosukhaOlexandr/reactions_prediction/blob/main/reactions_prediction_model.ipynb\" target=\"_parent\"><img src=\"https://colab.research.google.com/assets/colab-badge.svg\" alt=\"Open In Colab\"/></a>"
      ]
    },
    {
      "cell_type": "code",
      "execution_count": null,
      "metadata": {
        "colab": {
          "base_uri": "https://localhost:8080/"
        },
        "id": "Aa3PD_kF8D27",
        "outputId": "a9deb536-6184-4816-fe2b-0e35d7d9f660"
      },
      "outputs": [
        {
          "output_type": "stream",
          "name": "stdout",
          "text": [
            "Mounted at /content/drive/\n"
          ]
        }
      ],
      "source": [
        "from google.colab import drive\n",
        "drive.mount('/content/drive/')"
      ]
    },
    {
      "cell_type": "code",
      "execution_count": null,
      "metadata": {
        "id": "5VPgHPv18G5E"
      },
      "outputs": [],
      "source": [
        "import pandas as pd\n",
        "\n",
        "with open('/content/drive/MyDrive/reaction_prediction/concatenated_pos_neg.csv') as f:\n",
        "  data = pd.read_csv(f, index_col = 0)"
      ]
    },
    {
      "cell_type": "code",
      "execution_count": null,
      "metadata": {
        "id": "toU2lFzO8P2K",
        "colab": {
          "base_uri": "https://localhost:8080/",
          "height": 423
        },
        "outputId": "cd13713a-3dcf-48e3-9dcf-5f299486c1da"
      },
      "outputs": [
        {
          "output_type": "execute_result",
          "data": {
            "text/plain": [
              "                                                msg_text  reaction_type\n",
              "0      чий борщ у п’ятницю липня юнеско вирішить долю...              1\n",
              "1      зруйнований міст у демидові на київщині планую...              1\n",
              "2      безперечно головне слово сьогодні зміїний мабу...              1\n",
              "3      прокремлівське видання общественная служба нов...              1\n",
              "4      продовжується відвантаження боєприпасів продов...              1\n",
              "...                                                  ...            ...\n",
              "63489  жителі черкас сьогодні на окраїні міста з до г...              1\n",
              "63490  командування впс зсу під час нальоту окупантів...              1\n",
              "63491       увага повітряна тривога у вінниці і черкасах              0\n",
              "63492  увага у києві оголошена повітряна тривога прос...              0\n",
              "63493  увага херсон повітряна тривога просимо всіх те...              0\n",
              "\n",
              "[63494 rows x 2 columns]"
            ],
            "text/html": [
              "\n",
              "  <div id=\"df-23d097c3-9d17-42b0-9af6-b7018697039e\">\n",
              "    <div class=\"colab-df-container\">\n",
              "      <div>\n",
              "<style scoped>\n",
              "    .dataframe tbody tr th:only-of-type {\n",
              "        vertical-align: middle;\n",
              "    }\n",
              "\n",
              "    .dataframe tbody tr th {\n",
              "        vertical-align: top;\n",
              "    }\n",
              "\n",
              "    .dataframe thead th {\n",
              "        text-align: right;\n",
              "    }\n",
              "</style>\n",
              "<table border=\"1\" class=\"dataframe\">\n",
              "  <thead>\n",
              "    <tr style=\"text-align: right;\">\n",
              "      <th></th>\n",
              "      <th>msg_text</th>\n",
              "      <th>reaction_type</th>\n",
              "    </tr>\n",
              "  </thead>\n",
              "  <tbody>\n",
              "    <tr>\n",
              "      <th>0</th>\n",
              "      <td>чий борщ у п’ятницю липня юнеско вирішить долю...</td>\n",
              "      <td>1</td>\n",
              "    </tr>\n",
              "    <tr>\n",
              "      <th>1</th>\n",
              "      <td>зруйнований міст у демидові на київщині планую...</td>\n",
              "      <td>1</td>\n",
              "    </tr>\n",
              "    <tr>\n",
              "      <th>2</th>\n",
              "      <td>безперечно головне слово сьогодні зміїний мабу...</td>\n",
              "      <td>1</td>\n",
              "    </tr>\n",
              "    <tr>\n",
              "      <th>3</th>\n",
              "      <td>прокремлівське видання общественная служба нов...</td>\n",
              "      <td>1</td>\n",
              "    </tr>\n",
              "    <tr>\n",
              "      <th>4</th>\n",
              "      <td>продовжується відвантаження боєприпасів продов...</td>\n",
              "      <td>1</td>\n",
              "    </tr>\n",
              "    <tr>\n",
              "      <th>...</th>\n",
              "      <td>...</td>\n",
              "      <td>...</td>\n",
              "    </tr>\n",
              "    <tr>\n",
              "      <th>63489</th>\n",
              "      <td>жителі черкас сьогодні на окраїні міста з до г...</td>\n",
              "      <td>1</td>\n",
              "    </tr>\n",
              "    <tr>\n",
              "      <th>63490</th>\n",
              "      <td>командування впс зсу під час нальоту окупантів...</td>\n",
              "      <td>1</td>\n",
              "    </tr>\n",
              "    <tr>\n",
              "      <th>63491</th>\n",
              "      <td>увага повітряна тривога у вінниці і черкасах</td>\n",
              "      <td>0</td>\n",
              "    </tr>\n",
              "    <tr>\n",
              "      <th>63492</th>\n",
              "      <td>увага у києві оголошена повітряна тривога прос...</td>\n",
              "      <td>0</td>\n",
              "    </tr>\n",
              "    <tr>\n",
              "      <th>63493</th>\n",
              "      <td>увага херсон повітряна тривога просимо всіх те...</td>\n",
              "      <td>0</td>\n",
              "    </tr>\n",
              "  </tbody>\n",
              "</table>\n",
              "<p>63494 rows × 2 columns</p>\n",
              "</div>\n",
              "      <button class=\"colab-df-convert\" onclick=\"convertToInteractive('df-23d097c3-9d17-42b0-9af6-b7018697039e')\"\n",
              "              title=\"Convert this dataframe to an interactive table.\"\n",
              "              style=\"display:none;\">\n",
              "        \n",
              "  <svg xmlns=\"http://www.w3.org/2000/svg\" height=\"24px\"viewBox=\"0 0 24 24\"\n",
              "       width=\"24px\">\n",
              "    <path d=\"M0 0h24v24H0V0z\" fill=\"none\"/>\n",
              "    <path d=\"M18.56 5.44l.94 2.06.94-2.06 2.06-.94-2.06-.94-.94-2.06-.94 2.06-2.06.94zm-11 1L8.5 8.5l.94-2.06 2.06-.94-2.06-.94L8.5 2.5l-.94 2.06-2.06.94zm10 10l.94 2.06.94-2.06 2.06-.94-2.06-.94-.94-2.06-.94 2.06-2.06.94z\"/><path d=\"M17.41 7.96l-1.37-1.37c-.4-.4-.92-.59-1.43-.59-.52 0-1.04.2-1.43.59L10.3 9.45l-7.72 7.72c-.78.78-.78 2.05 0 2.83L4 21.41c.39.39.9.59 1.41.59.51 0 1.02-.2 1.41-.59l7.78-7.78 2.81-2.81c.8-.78.8-2.07 0-2.86zM5.41 20L4 18.59l7.72-7.72 1.47 1.35L5.41 20z\"/>\n",
              "  </svg>\n",
              "      </button>\n",
              "      \n",
              "  <style>\n",
              "    .colab-df-container {\n",
              "      display:flex;\n",
              "      flex-wrap:wrap;\n",
              "      gap: 12px;\n",
              "    }\n",
              "\n",
              "    .colab-df-convert {\n",
              "      background-color: #E8F0FE;\n",
              "      border: none;\n",
              "      border-radius: 50%;\n",
              "      cursor: pointer;\n",
              "      display: none;\n",
              "      fill: #1967D2;\n",
              "      height: 32px;\n",
              "      padding: 0 0 0 0;\n",
              "      width: 32px;\n",
              "    }\n",
              "\n",
              "    .colab-df-convert:hover {\n",
              "      background-color: #E2EBFA;\n",
              "      box-shadow: 0px 1px 2px rgba(60, 64, 67, 0.3), 0px 1px 3px 1px rgba(60, 64, 67, 0.15);\n",
              "      fill: #174EA6;\n",
              "    }\n",
              "\n",
              "    [theme=dark] .colab-df-convert {\n",
              "      background-color: #3B4455;\n",
              "      fill: #D2E3FC;\n",
              "    }\n",
              "\n",
              "    [theme=dark] .colab-df-convert:hover {\n",
              "      background-color: #434B5C;\n",
              "      box-shadow: 0px 1px 3px 1px rgba(0, 0, 0, 0.15);\n",
              "      filter: drop-shadow(0px 1px 2px rgba(0, 0, 0, 0.3));\n",
              "      fill: #FFFFFF;\n",
              "    }\n",
              "  </style>\n",
              "\n",
              "      <script>\n",
              "        const buttonEl =\n",
              "          document.querySelector('#df-23d097c3-9d17-42b0-9af6-b7018697039e button.colab-df-convert');\n",
              "        buttonEl.style.display =\n",
              "          google.colab.kernel.accessAllowed ? 'block' : 'none';\n",
              "\n",
              "        async function convertToInteractive(key) {\n",
              "          const element = document.querySelector('#df-23d097c3-9d17-42b0-9af6-b7018697039e');\n",
              "          const dataTable =\n",
              "            await google.colab.kernel.invokeFunction('convertToInteractive',\n",
              "                                                     [key], {});\n",
              "          if (!dataTable) return;\n",
              "\n",
              "          const docLinkHtml = 'Like what you see? Visit the ' +\n",
              "            '<a target=\"_blank\" href=https://colab.research.google.com/notebooks/data_table.ipynb>data table notebook</a>'\n",
              "            + ' to learn more about interactive tables.';\n",
              "          element.innerHTML = '';\n",
              "          dataTable['output_type'] = 'display_data';\n",
              "          await google.colab.output.renderOutput(dataTable, element);\n",
              "          const docLink = document.createElement('div');\n",
              "          docLink.innerHTML = docLinkHtml;\n",
              "          element.appendChild(docLink);\n",
              "        }\n",
              "      </script>\n",
              "    </div>\n",
              "  </div>\n",
              "  "
            ]
          },
          "metadata": {},
          "execution_count": 3
        }
      ],
      "source": [
        "data"
      ]
    },
    {
      "cell_type": "markdown",
      "metadata": {
        "id": "UjaxuFTc0E8a"
      },
      "source": [
        "#Naive Bayes"
      ]
    },
    {
      "cell_type": "markdown",
      "metadata": {
        "id": "z23v7gV262Pr"
      },
      "source": [
        "##Count Vectorizer"
      ]
    },
    {
      "cell_type": "code",
      "execution_count": null,
      "metadata": {
        "id": "kXu2-50TrXF-"
      },
      "outputs": [],
      "source": [
        "import numpy as np\n",
        "from sklearn.feature_extraction.text import CountVectorizer\n",
        "count_vec = CountVectorizer()\n",
        "bow = count_vec.fit_transform(data.msg_text)\n",
        "\n",
        "X = bow\n",
        "Y = data.reaction_type"
      ]
    },
    {
      "cell_type": "code",
      "execution_count": null,
      "metadata": {
        "id": "hos3pKugAbrq"
      },
      "outputs": [],
      "source": [
        "from sklearn.model_selection import train_test_split\n",
        "X_train_cv, X_test_cv, Y_train_cv, Y_test_cv = train_test_split(X, Y, test_size = 0.20, stratify = Y, random_state=42)"
      ]
    },
    {
      "cell_type": "code",
      "execution_count": null,
      "metadata": {
        "id": "QGYyoT79BV1o"
      },
      "outputs": [],
      "source": [
        "from sklearn.naive_bayes import MultinomialNB\n",
        "nb_cv = MultinomialNB(alpha = 0.01).fit(X_train_cv, Y_train_cv)"
      ]
    },
    {
      "cell_type": "code",
      "execution_count": null,
      "metadata": {
        "id": "y9-eYR83BvVV"
      },
      "outputs": [],
      "source": [
        "Y_pred_test = nb_cv.predict(X_test_cv)\n",
        "Y_pred_train = nb_cv.predict(X_train_cv)"
      ]
    },
    {
      "cell_type": "code",
      "execution_count": null,
      "metadata": {
        "id": "cr3p0g8tXcIG",
        "colab": {
          "base_uri": "https://localhost:8080/"
        },
        "outputId": "23de2365-72b9-4f16-ef83-15f878623526"
      },
      "outputs": [
        {
          "output_type": "stream",
          "name": "stdout",
          "text": [
            "Test set accuracy: 0.8180171667060399\n",
            "Train set accuracy: 0.9152278767595236\n"
          ]
        }
      ],
      "source": [
        "from sklearn.metrics import accuracy_score\n",
        "\n",
        "print('Test set accuracy:', accuracy_score(Y_test_cv, Y_pred_test))\n",
        "print('Train set accuracy:', accuracy_score(Y_train_cv, Y_pred_train))"
      ]
    },
    {
      "cell_type": "code",
      "execution_count": null,
      "metadata": {
        "id": "IjWgBItbR3eg",
        "colab": {
          "base_uri": "https://localhost:8080/"
        },
        "outputId": "25ec72e7-2774-496f-8263-d1afbcbbfe75"
      },
      "outputs": [
        {
          "output_type": "stream",
          "name": "stdout",
          "text": [
            "Test set F1 score: 0.8431838230304675\n",
            "Train set F1 score: 0.9256458074319658\n"
          ]
        }
      ],
      "source": [
        "from sklearn.metrics import f1_score\n",
        "\n",
        "print('Test set F1 score:', f1_score(Y_test_cv, Y_pred_test))\n",
        "print('Train set F1 score:', f1_score(Y_train_cv, Y_pred_train))"
      ]
    },
    {
      "cell_type": "markdown",
      "metadata": {
        "id": "DZCVlm5b65JS"
      },
      "source": [
        "##TF-IDF Vectorizer"
      ]
    },
    {
      "cell_type": "code",
      "execution_count": null,
      "metadata": {
        "id": "wFeCnhzCVGC5",
        "colab": {
          "base_uri": "https://localhost:8080/"
        },
        "outputId": "851cf7fb-3d27-4a5c-8536-66ef6432078d"
      },
      "outputs": [
        {
          "output_type": "execute_result",
          "data": {
            "text/plain": [
              "<63494x119493 sparse matrix of type '<class 'numpy.float64'>'\n",
              "\twith 2479084 stored elements in Compressed Sparse Row format>"
            ]
          },
          "metadata": {},
          "execution_count": 10
        }
      ],
      "source": [
        "import numpy as np\n",
        "from sklearn.feature_extraction.text import TfidfVectorizer\n",
        "\n",
        "tf_idf_vec = TfidfVectorizer()\n",
        "bow_ti = tf_idf_vec.fit_transform(data.msg_text)\n",
        "#bow_ti = np.array(bow_ti.todense())\n",
        "bow_ti"
      ]
    },
    {
      "cell_type": "code",
      "execution_count": null,
      "metadata": {
        "id": "WXahwCeJVYvJ"
      },
      "outputs": [],
      "source": [
        "from sklearn.model_selection import train_test_split\n",
        "from sklearn.naive_bayes import MultinomialNB\n",
        "\n",
        "X = bow_ti\n",
        "Y = data.reaction_type\n",
        "\n",
        "X_train_ti, X_test_ti, Y_train_ti, Y_test_ti = train_test_split(X, Y, test_size = 0.20, stratify = Y, random_state = 42)\n",
        "\n",
        "nb_tf_idf = MultinomialNB(alpha = 0.01).fit(X_train_ti, Y_train_ti)"
      ]
    },
    {
      "cell_type": "code",
      "execution_count": null,
      "metadata": {
        "id": "yk2fMqRUVs0C"
      },
      "outputs": [],
      "source": [
        "Y_pred_test = nb_tf_idf.predict(X_test_ti)\n",
        "Y_pred_train = nb_tf_idf.predict(X_train_ti)"
      ]
    },
    {
      "cell_type": "code",
      "execution_count": null,
      "metadata": {
        "id": "OHLzxC8CVvU3",
        "colab": {
          "base_uri": "https://localhost:8080/"
        },
        "outputId": "b6914e75-2bda-4716-ee5b-4e2c16779306"
      },
      "outputs": [
        {
          "output_type": "stream",
          "name": "stdout",
          "text": [
            "Test set accuracy: 0.8257343097881723\n",
            "Train set accuracy: 0.9244216950487253\n"
          ]
        }
      ],
      "source": [
        "from sklearn.metrics import accuracy_score\n",
        "\n",
        "print('Test set accuracy:', accuracy_score(Y_test_ti, Y_pred_test))\n",
        "print('Train set accuracy:', accuracy_score(Y_train_ti, Y_pred_train))"
      ]
    },
    {
      "cell_type": "code",
      "execution_count": null,
      "metadata": {
        "id": "5uHWelF4YM47",
        "colab": {
          "base_uri": "https://localhost:8080/"
        },
        "outputId": "1b30e3b0-04cf-4480-b847-6da9e5072f39"
      },
      "outputs": [
        {
          "output_type": "stream",
          "name": "stdout",
          "text": [
            "Test set F1 score: 0.8563080319459775\n",
            "Train set F1 score: 0.9357887166106343\n"
          ]
        }
      ],
      "source": [
        "from sklearn.metrics import f1_score\n",
        "\n",
        "print('Test set F1 score:', f1_score(Y_test_ti, Y_pred_test))\n",
        "print('Train set F1 score:', f1_score(Y_train_ti, Y_pred_train))"
      ]
    },
    {
      "cell_type": "markdown",
      "metadata": {
        "id": "veO4YMhtz8e-"
      },
      "source": [
        "#Misscalssified analysis"
      ]
    },
    {
      "cell_type": "code",
      "execution_count": null,
      "metadata": {
        "id": "bke6J0WNj0Tx"
      },
      "outputs": [],
      "source": [
        "X_test_ser = pd.Series(tf_idf_vec.inverse_transform(X_test_ti))"
      ]
    },
    {
      "cell_type": "code",
      "execution_count": null,
      "metadata": {
        "id": "DT83MlR1maEE",
        "colab": {
          "base_uri": "https://localhost:8080/"
        },
        "outputId": "542ee128-44df-49b8-e8e7-ef68063616ed"
      },
      "outputs": [
        {
          "output_type": "execute_result",
          "data": {
            "text/plain": [
              "4        0\n",
              "7        1\n",
              "13       1\n",
              "30       0\n",
              "41       1\n",
              "        ..\n",
              "12659    0\n",
              "12665    0\n",
              "12667    0\n",
              "12683    0\n",
              "12694    0\n",
              "Name: reaction_type, Length: 2213, dtype: int64"
            ]
          },
          "metadata": {},
          "execution_count": 16
        }
      ],
      "source": [
        "Y_test_ti.reset_index(drop = True).loc[(Y_test_ti.reset_index(drop = True) != pd.Series(Y_pred_test))]"
      ]
    },
    {
      "cell_type": "code",
      "execution_count": null,
      "metadata": {
        "id": "_wz4V_2Kj8S9",
        "colab": {
          "base_uri": "https://localhost:8080/",
          "height": 780
        },
        "outputId": "5bbc79fa-4d12-478c-cd0f-f63b85635065"
      },
      "outputs": [
        {
          "output_type": "execute_result",
          "data": {
            "text/plain": [
              "                                                                                                                                                                                                                                                                                                                                                                                                                                                                                                                                                                                                                                                                                                                                                                                                                                                                                                                                                                                                                                                  text  \\\n",
              "4                                                                                                                                                                                                                                                                                                                                                                                                                                 [існувала, ігната, вітань, різна, завдавала, деяку, переміщень, існуватиме, полковника, безумовно, використовувала, юрія, використати, готуватися, надалі, служби, зрозуміло, днем, мусимо, речника, загроза, велике, використовує, скоро, повномасштабної, готові, дати, командування, такі, цих, інформацію, незалежності, словами, завжди, інші, противник, цього, агресії, територію, інформація, нас, днів, перших, гур, щодо, від, росія, мають, бути, треба, раніше, зсу, звідти, наразі, ми, ударів, україни, україну, тому, може, свято, наступу, до, білорусі, для, що, сил, повітряних, день, за, на, та]   \n",
              "7      [денежникове, проукраїнськиналаштованих, овт, контрдиверсійних, переселення, лікарняних, горлівка, штормове, доставлено, важкопоранених, електропідстанції, енергетичної, фермерів, примусове, вивезено, уразили, застосовано, повному, останніх, околиці, київській, львівській, зазнавати, збито, зрк, завдала, вінницькій, наша, детальніше, авіація, закладів, північно, силами, минулого, удари, масованого, крилатих, тижня, позицію, уточнюється, тес, приводом, тец, особового, зайнятій, район, воїни, дій, завдав, населених, здійснив, складу, оперативна, попередньою, комплексу, ракетного, зенітного, пунктів, генштабу, військовослужбовців, близько, жителів, позиціях, озброєння, продовжує, будинки, житлові, єктах, доби, зведенні, зазнали, залпового, систем, реактивних, києві, обстрілів, районах, областях, вторгнення, ночі, протягом, противник, дня, противника, зосередження, наших, цієї, нашої, було, інфраструктури, об, військ, міста, місті, тимчасово, інформація, втрат, луганської, позиції, західної, ...]   \n",
              "13                                                                                                                                                                                                                                                                                                                                                                                                                                                                                                                                                                                                                                                                                                                                                                                                                                                                                                                                            [точнісінько, шахед, стратегічні, влучають, gepard, німецького, комунікації, фото, захисники, наші, зсу]   \n",
              "30                                                                                                                                                                                                                                                                                                                                                                                                                                                                                                                                                                                                                      [топонімії, деколонізацію, висловиться, географічних, визначатися, пропагують, символізують, часі, назвою, новомосковська, заборонити, бажання, назви, перейменування, зареєстрований, єктів, врахувати, чекає, тоді, мешканців, більшість, буде, вважає, війні, дніпропетровщині, мер, словами, якщо, об, міста, влада, перемоги, пропонують, депутати, законопроєкт, раді, треба, його, зараз, для, що, не, за, на, рф, про]   \n",
              "41                                                                                                                                                                                                                                                                                                                                                                                                                                                                                                                                                                                                                                                                                                                                                                                                                                                 [автобусної, впала, зірвалась, золочівському, надзвичайники, садовий, прильотів, зупинки, працюють, ракета, місці, роботі, було, львові, повідомив, ппо, завдяки, біля, зараз, але, районі, не, на]   \n",
              "...                                                                                                                                                                                                                                                                                                                                                                                                                                                                                                                                                                                                                                                                                                                                                                                                                                                                                                                                                                                                                                                ...   \n",
              "12659                                                                                                                                                                                                                                                                                                                                                                                                                                                                                                                                                                                                                                                                                                                                                                                  [убити, попасної, перехопили, військовополонених, озброєнь, атакує, наказ, обстрілюють, бої, видів, розвідники, розмови, постійно, луганщині, йдеться, йдуть, місті, позиції, ворог, всіх, усіх, російських, яких, зсу, окупантів, українські, районі, на, про]   \n",
              "12665                                                                                                                                                                                                                                                                                                                                                                                                                                                                                                                                                                                                                                                                                                                                                                                                                                                                                          [розбрату, яблуком, неоднозначно, згадав, конфліктів, назвавши, одесу, символом, найкрасивіших, вирішення, світі, яке, одним, путін, бути, місто, може]   \n",
              "12667                                                                                                                                                                                                                                                                                                                                                                                                                                                                                                                                                                                                                                                                                                       [учепитися, перетерли, белта, оголошувати, мобілізація, слідом, місток, брехня, перекинути, жодної, створити, планує, мобілізацію, пропагандистів, країні, буде, ситуацію, мобілізації, якщо, нас, цей, намагаються, повідомляє, заявив, лукашенко, треба, їм, би, вас, щось, це, нічого, росії, ця, що, видання, не, за, на, рф, те, про]   \n",
              "12683                                                                                                                                                                                                                                                                                                                                                                                                                                                                                                                                                                                                                                                                                                                                                                                                                                [червоний, направити, оленівці, загибелі, хрест, пораненим, експертів, подій, провести, розслідування, оон, готові, хоче, групу, просить, полонених, допомогти, місця, доступ, щоб, він, також, українських, для]   \n",
              "12694                                                                                                                                                                                                                                                                                                                                                                                  [поразці, вихваляють, сталінський, кухарем, пригожин, пригожина, метод, фюрера, обличчям, наказу, харковом, наближений, вербування, олігарх, євген, блогери, говорять, загальну, засновник, вагнер, пвк, експерти, американського, найманців, називають, вводить, аналітики, деякі, isw, вивчення, шойгу, інститут, звинувачують, сергія, успіх, уникнути, замінити, постійно, кремлівські, кремлю, мобілізацію, участі, країні, російської, міністра, навіть, спецоперації, якого, стає, повідомляють, званої, дозволяє, має, він, путіна, диктатора, президента, військові, під, це, вони, оборони, україні, росії, війни, до, для, що, російський, так, про]   \n",
              "\n",
              "       true_reaction  pred_reaction  \n",
              "4                  0              1  \n",
              "7                  1              0  \n",
              "13                 1              0  \n",
              "30                 0              1  \n",
              "41                 1              0  \n",
              "...              ...            ...  \n",
              "12659              0              1  \n",
              "12665              0              1  \n",
              "12667              0              1  \n",
              "12683              0              1  \n",
              "12694              0              1  \n",
              "\n",
              "[2213 rows x 3 columns]"
            ],
            "text/html": [
              "\n",
              "  <div id=\"df-e7d21886-4d06-4c36-bf75-1ecdd41164b7\">\n",
              "    <div class=\"colab-df-container\">\n",
              "      <div>\n",
              "<style scoped>\n",
              "    .dataframe tbody tr th:only-of-type {\n",
              "        vertical-align: middle;\n",
              "    }\n",
              "\n",
              "    .dataframe tbody tr th {\n",
              "        vertical-align: top;\n",
              "    }\n",
              "\n",
              "    .dataframe thead th {\n",
              "        text-align: right;\n",
              "    }\n",
              "</style>\n",
              "<table border=\"1\" class=\"dataframe\">\n",
              "  <thead>\n",
              "    <tr style=\"text-align: right;\">\n",
              "      <th></th>\n",
              "      <th>text</th>\n",
              "      <th>true_reaction</th>\n",
              "      <th>pred_reaction</th>\n",
              "    </tr>\n",
              "  </thead>\n",
              "  <tbody>\n",
              "    <tr>\n",
              "      <th>4</th>\n",
              "      <td>[існувала, ігната, вітань, різна, завдавала, деяку, переміщень, існуватиме, полковника, безумовно, використовувала, юрія, використати, готуватися, надалі, служби, зрозуміло, днем, мусимо, речника, загроза, велике, використовує, скоро, повномасштабної, готові, дати, командування, такі, цих, інформацію, незалежності, словами, завжди, інші, противник, цього, агресії, територію, інформація, нас, днів, перших, гур, щодо, від, росія, мають, бути, треба, раніше, зсу, звідти, наразі, ми, ударів, україни, україну, тому, може, свято, наступу, до, білорусі, для, що, сил, повітряних, день, за, на, та]</td>\n",
              "      <td>0</td>\n",
              "      <td>1</td>\n",
              "    </tr>\n",
              "    <tr>\n",
              "      <th>7</th>\n",
              "      <td>[денежникове, проукраїнськиналаштованих, овт, контрдиверсійних, переселення, лікарняних, горлівка, штормове, доставлено, важкопоранених, електропідстанції, енергетичної, фермерів, примусове, вивезено, уразили, застосовано, повному, останніх, околиці, київській, львівській, зазнавати, збито, зрк, завдала, вінницькій, наша, детальніше, авіація, закладів, північно, силами, минулого, удари, масованого, крилатих, тижня, позицію, уточнюється, тес, приводом, тец, особового, зайнятій, район, воїни, дій, завдав, населених, здійснив, складу, оперативна, попередньою, комплексу, ракетного, зенітного, пунктів, генштабу, військовослужбовців, близько, жителів, позиціях, озброєння, продовжує, будинки, житлові, єктах, доби, зведенні, зазнали, залпового, систем, реактивних, києві, обстрілів, районах, областях, вторгнення, ночі, протягом, противник, дня, противника, зосередження, наших, цієї, нашої, було, інфраструктури, об, військ, міста, місті, тимчасово, інформація, втрат, луганської, позиції, західної, ...]</td>\n",
              "      <td>1</td>\n",
              "      <td>0</td>\n",
              "    </tr>\n",
              "    <tr>\n",
              "      <th>13</th>\n",
              "      <td>[точнісінько, шахед, стратегічні, влучають, gepard, німецького, комунікації, фото, захисники, наші, зсу]</td>\n",
              "      <td>1</td>\n",
              "      <td>0</td>\n",
              "    </tr>\n",
              "    <tr>\n",
              "      <th>30</th>\n",
              "      <td>[топонімії, деколонізацію, висловиться, географічних, визначатися, пропагують, символізують, часі, назвою, новомосковська, заборонити, бажання, назви, перейменування, зареєстрований, єктів, врахувати, чекає, тоді, мешканців, більшість, буде, вважає, війні, дніпропетровщині, мер, словами, якщо, об, міста, влада, перемоги, пропонують, депутати, законопроєкт, раді, треба, його, зараз, для, що, не, за, на, рф, про]</td>\n",
              "      <td>0</td>\n",
              "      <td>1</td>\n",
              "    </tr>\n",
              "    <tr>\n",
              "      <th>41</th>\n",
              "      <td>[автобусної, впала, зірвалась, золочівському, надзвичайники, садовий, прильотів, зупинки, працюють, ракета, місці, роботі, було, львові, повідомив, ппо, завдяки, біля, зараз, але, районі, не, на]</td>\n",
              "      <td>1</td>\n",
              "      <td>0</td>\n",
              "    </tr>\n",
              "    <tr>\n",
              "      <th>...</th>\n",
              "      <td>...</td>\n",
              "      <td>...</td>\n",
              "      <td>...</td>\n",
              "    </tr>\n",
              "    <tr>\n",
              "      <th>12659</th>\n",
              "      <td>[убити, попасної, перехопили, військовополонених, озброєнь, атакує, наказ, обстрілюють, бої, видів, розвідники, розмови, постійно, луганщині, йдеться, йдуть, місті, позиції, ворог, всіх, усіх, російських, яких, зсу, окупантів, українські, районі, на, про]</td>\n",
              "      <td>0</td>\n",
              "      <td>1</td>\n",
              "    </tr>\n",
              "    <tr>\n",
              "      <th>12665</th>\n",
              "      <td>[розбрату, яблуком, неоднозначно, згадав, конфліктів, назвавши, одесу, символом, найкрасивіших, вирішення, світі, яке, одним, путін, бути, місто, може]</td>\n",
              "      <td>0</td>\n",
              "      <td>1</td>\n",
              "    </tr>\n",
              "    <tr>\n",
              "      <th>12667</th>\n",
              "      <td>[учепитися, перетерли, белта, оголошувати, мобілізація, слідом, місток, брехня, перекинути, жодної, створити, планує, мобілізацію, пропагандистів, країні, буде, ситуацію, мобілізації, якщо, нас, цей, намагаються, повідомляє, заявив, лукашенко, треба, їм, би, вас, щось, це, нічого, росії, ця, що, видання, не, за, на, рф, те, про]</td>\n",
              "      <td>0</td>\n",
              "      <td>1</td>\n",
              "    </tr>\n",
              "    <tr>\n",
              "      <th>12683</th>\n",
              "      <td>[червоний, направити, оленівці, загибелі, хрест, пораненим, експертів, подій, провести, розслідування, оон, готові, хоче, групу, просить, полонених, допомогти, місця, доступ, щоб, він, також, українських, для]</td>\n",
              "      <td>0</td>\n",
              "      <td>1</td>\n",
              "    </tr>\n",
              "    <tr>\n",
              "      <th>12694</th>\n",
              "      <td>[поразці, вихваляють, сталінський, кухарем, пригожин, пригожина, метод, фюрера, обличчям, наказу, харковом, наближений, вербування, олігарх, євген, блогери, говорять, загальну, засновник, вагнер, пвк, експерти, американського, найманців, називають, вводить, аналітики, деякі, isw, вивчення, шойгу, інститут, звинувачують, сергія, успіх, уникнути, замінити, постійно, кремлівські, кремлю, мобілізацію, участі, країні, російської, міністра, навіть, спецоперації, якого, стає, повідомляють, званої, дозволяє, має, він, путіна, диктатора, президента, військові, під, це, вони, оборони, україні, росії, війни, до, для, що, російський, так, про]</td>\n",
              "      <td>0</td>\n",
              "      <td>1</td>\n",
              "    </tr>\n",
              "  </tbody>\n",
              "</table>\n",
              "<p>2213 rows × 3 columns</p>\n",
              "</div>\n",
              "      <button class=\"colab-df-convert\" onclick=\"convertToInteractive('df-e7d21886-4d06-4c36-bf75-1ecdd41164b7')\"\n",
              "              title=\"Convert this dataframe to an interactive table.\"\n",
              "              style=\"display:none;\">\n",
              "        \n",
              "  <svg xmlns=\"http://www.w3.org/2000/svg\" height=\"24px\"viewBox=\"0 0 24 24\"\n",
              "       width=\"24px\">\n",
              "    <path d=\"M0 0h24v24H0V0z\" fill=\"none\"/>\n",
              "    <path d=\"M18.56 5.44l.94 2.06.94-2.06 2.06-.94-2.06-.94-.94-2.06-.94 2.06-2.06.94zm-11 1L8.5 8.5l.94-2.06 2.06-.94-2.06-.94L8.5 2.5l-.94 2.06-2.06.94zm10 10l.94 2.06.94-2.06 2.06-.94-2.06-.94-.94-2.06-.94 2.06-2.06.94z\"/><path d=\"M17.41 7.96l-1.37-1.37c-.4-.4-.92-.59-1.43-.59-.52 0-1.04.2-1.43.59L10.3 9.45l-7.72 7.72c-.78.78-.78 2.05 0 2.83L4 21.41c.39.39.9.59 1.41.59.51 0 1.02-.2 1.41-.59l7.78-7.78 2.81-2.81c.8-.78.8-2.07 0-2.86zM5.41 20L4 18.59l7.72-7.72 1.47 1.35L5.41 20z\"/>\n",
              "  </svg>\n",
              "      </button>\n",
              "      \n",
              "  <style>\n",
              "    .colab-df-container {\n",
              "      display:flex;\n",
              "      flex-wrap:wrap;\n",
              "      gap: 12px;\n",
              "    }\n",
              "\n",
              "    .colab-df-convert {\n",
              "      background-color: #E8F0FE;\n",
              "      border: none;\n",
              "      border-radius: 50%;\n",
              "      cursor: pointer;\n",
              "      display: none;\n",
              "      fill: #1967D2;\n",
              "      height: 32px;\n",
              "      padding: 0 0 0 0;\n",
              "      width: 32px;\n",
              "    }\n",
              "\n",
              "    .colab-df-convert:hover {\n",
              "      background-color: #E2EBFA;\n",
              "      box-shadow: 0px 1px 2px rgba(60, 64, 67, 0.3), 0px 1px 3px 1px rgba(60, 64, 67, 0.15);\n",
              "      fill: #174EA6;\n",
              "    }\n",
              "\n",
              "    [theme=dark] .colab-df-convert {\n",
              "      background-color: #3B4455;\n",
              "      fill: #D2E3FC;\n",
              "    }\n",
              "\n",
              "    [theme=dark] .colab-df-convert:hover {\n",
              "      background-color: #434B5C;\n",
              "      box-shadow: 0px 1px 3px 1px rgba(0, 0, 0, 0.15);\n",
              "      filter: drop-shadow(0px 1px 2px rgba(0, 0, 0, 0.3));\n",
              "      fill: #FFFFFF;\n",
              "    }\n",
              "  </style>\n",
              "\n",
              "      <script>\n",
              "        const buttonEl =\n",
              "          document.querySelector('#df-e7d21886-4d06-4c36-bf75-1ecdd41164b7 button.colab-df-convert');\n",
              "        buttonEl.style.display =\n",
              "          google.colab.kernel.accessAllowed ? 'block' : 'none';\n",
              "\n",
              "        async function convertToInteractive(key) {\n",
              "          const element = document.querySelector('#df-e7d21886-4d06-4c36-bf75-1ecdd41164b7');\n",
              "          const dataTable =\n",
              "            await google.colab.kernel.invokeFunction('convertToInteractive',\n",
              "                                                     [key], {});\n",
              "          if (!dataTable) return;\n",
              "\n",
              "          const docLinkHtml = 'Like what you see? Visit the ' +\n",
              "            '<a target=\"_blank\" href=https://colab.research.google.com/notebooks/data_table.ipynb>data table notebook</a>'\n",
              "            + ' to learn more about interactive tables.';\n",
              "          element.innerHTML = '';\n",
              "          dataTable['output_type'] = 'display_data';\n",
              "          await google.colab.output.renderOutput(dataTable, element);\n",
              "          const docLink = document.createElement('div');\n",
              "          docLink.innerHTML = docLinkHtml;\n",
              "          element.appendChild(docLink);\n",
              "        }\n",
              "      </script>\n",
              "    </div>\n",
              "  </div>\n",
              "  "
            ]
          },
          "metadata": {},
          "execution_count": 17
        }
      ],
      "source": [
        "pd.set_option('display.max_colwidth', None)\n",
        "misclass = pd.concat([X_test_ser.loc[(Y_test_ti.reset_index(drop = True) != pd.Series(Y_pred_test))],\n",
        "          Y_test_ti.reset_index(drop = True).loc[(Y_test_ti.reset_index(drop = True) != pd.Series(Y_pred_test))],\n",
        "          pd.Series(Y_pred_test).loc[(Y_test_ti.reset_index(drop = True) != pd.Series(Y_pred_test))]], axis = 1)\n",
        "misclass.columns = ['text', 'true_reaction', 'pred_reaction']\n",
        "misclass"
      ]
    },
    {
      "cell_type": "code",
      "execution_count": null,
      "metadata": {
        "id": "9wanP1Z27W0H",
        "colab": {
          "base_uri": "https://localhost:8080/"
        },
        "outputId": "8a7cf932-fcb9-4b8d-e0f7-1b386b2440e9"
      },
      "outputs": [
        {
          "output_type": "execute_result",
          "data": {
            "text/plain": [
              "(7330,)"
            ]
          },
          "metadata": {},
          "execution_count": 18
        }
      ],
      "source": [
        "Y_test_ti[Y_test_ti == 1].shape"
      ]
    },
    {
      "cell_type": "code",
      "execution_count": null,
      "metadata": {
        "id": "-SRafKqXFLer",
        "colab": {
          "base_uri": "https://localhost:8080/"
        },
        "outputId": "d49c6be2-cdea-41e3-c564-884636864087"
      },
      "outputs": [
        {
          "output_type": "execute_result",
          "data": {
            "text/plain": [
              "(12699,)"
            ]
          },
          "metadata": {},
          "execution_count": 19
        }
      ],
      "source": [
        "Y_test_ti.shape"
      ]
    },
    {
      "cell_type": "code",
      "execution_count": null,
      "metadata": {
        "id": "2Ys_4qYm6WuU",
        "colab": {
          "base_uri": "https://localhost:8080/"
        },
        "outputId": "66d93104-28e9-4a07-81ea-4bda9a7ebc96"
      },
      "outputs": [
        {
          "output_type": "execute_result",
          "data": {
            "text/plain": [
              "(736, 3)"
            ]
          },
          "metadata": {},
          "execution_count": 20
        }
      ],
      "source": [
        "misclass.loc[(misclass.true_reaction == 1) & (misclass.pred_reaction == 0)].shape"
      ]
    },
    {
      "cell_type": "markdown",
      "metadata": {
        "id": "LqkdqDSa0CVU"
      },
      "source": [
        "#SVC"
      ]
    },
    {
      "cell_type": "markdown",
      "source": [
        "### TF-IDF"
      ],
      "metadata": {
        "id": "AqbRaZg5TnbU"
      }
    },
    {
      "cell_type": "code",
      "execution_count": null,
      "metadata": {
        "id": "w3I2fzYa6GfY",
        "colab": {
          "base_uri": "https://localhost:8080/",
          "height": 127
        },
        "outputId": "96f1e030-5573-4be4-8165-d5d4774f67b0"
      },
      "outputs": [
        {
          "output_type": "execute_result",
          "data": {
            "text/plain": [
              "Pipeline(steps=[('standardscaler', StandardScaler(with_mean=False)),\n",
              "                ('svc', SVC(C=1, gamma='auto'))])"
            ],
            "text/html": [
              "<style>#sk-container-id-1 {color: black;background-color: white;}#sk-container-id-1 pre{padding: 0;}#sk-container-id-1 div.sk-toggleable {background-color: white;}#sk-container-id-1 label.sk-toggleable__label {cursor: pointer;display: block;width: 100%;margin-bottom: 0;padding: 0.3em;box-sizing: border-box;text-align: center;}#sk-container-id-1 label.sk-toggleable__label-arrow:before {content: \"▸\";float: left;margin-right: 0.25em;color: #696969;}#sk-container-id-1 label.sk-toggleable__label-arrow:hover:before {color: black;}#sk-container-id-1 div.sk-estimator:hover label.sk-toggleable__label-arrow:before {color: black;}#sk-container-id-1 div.sk-toggleable__content {max-height: 0;max-width: 0;overflow: hidden;text-align: left;background-color: #f0f8ff;}#sk-container-id-1 div.sk-toggleable__content pre {margin: 0.2em;color: black;border-radius: 0.25em;background-color: #f0f8ff;}#sk-container-id-1 input.sk-toggleable__control:checked~div.sk-toggleable__content {max-height: 200px;max-width: 100%;overflow: auto;}#sk-container-id-1 input.sk-toggleable__control:checked~label.sk-toggleable__label-arrow:before {content: \"▾\";}#sk-container-id-1 div.sk-estimator input.sk-toggleable__control:checked~label.sk-toggleable__label {background-color: #d4ebff;}#sk-container-id-1 div.sk-label input.sk-toggleable__control:checked~label.sk-toggleable__label {background-color: #d4ebff;}#sk-container-id-1 input.sk-hidden--visually {border: 0;clip: rect(1px 1px 1px 1px);clip: rect(1px, 1px, 1px, 1px);height: 1px;margin: -1px;overflow: hidden;padding: 0;position: absolute;width: 1px;}#sk-container-id-1 div.sk-estimator {font-family: monospace;background-color: #f0f8ff;border: 1px dotted black;border-radius: 0.25em;box-sizing: border-box;margin-bottom: 0.5em;}#sk-container-id-1 div.sk-estimator:hover {background-color: #d4ebff;}#sk-container-id-1 div.sk-parallel-item::after {content: \"\";width: 100%;border-bottom: 1px solid gray;flex-grow: 1;}#sk-container-id-1 div.sk-label:hover label.sk-toggleable__label {background-color: #d4ebff;}#sk-container-id-1 div.sk-serial::before {content: \"\";position: absolute;border-left: 1px solid gray;box-sizing: border-box;top: 0;bottom: 0;left: 50%;z-index: 0;}#sk-container-id-1 div.sk-serial {display: flex;flex-direction: column;align-items: center;background-color: white;padding-right: 0.2em;padding-left: 0.2em;position: relative;}#sk-container-id-1 div.sk-item {position: relative;z-index: 1;}#sk-container-id-1 div.sk-parallel {display: flex;align-items: stretch;justify-content: center;background-color: white;position: relative;}#sk-container-id-1 div.sk-item::before, #sk-container-id-1 div.sk-parallel-item::before {content: \"\";position: absolute;border-left: 1px solid gray;box-sizing: border-box;top: 0;bottom: 0;left: 50%;z-index: -1;}#sk-container-id-1 div.sk-parallel-item {display: flex;flex-direction: column;z-index: 1;position: relative;background-color: white;}#sk-container-id-1 div.sk-parallel-item:first-child::after {align-self: flex-end;width: 50%;}#sk-container-id-1 div.sk-parallel-item:last-child::after {align-self: flex-start;width: 50%;}#sk-container-id-1 div.sk-parallel-item:only-child::after {width: 0;}#sk-container-id-1 div.sk-dashed-wrapped {border: 1px dashed gray;margin: 0 0.4em 0.5em 0.4em;box-sizing: border-box;padding-bottom: 0.4em;background-color: white;}#sk-container-id-1 div.sk-label label {font-family: monospace;font-weight: bold;display: inline-block;line-height: 1.2em;}#sk-container-id-1 div.sk-label-container {text-align: center;}#sk-container-id-1 div.sk-container {/* jupyter's `normalize.less` sets `[hidden] { display: none; }` but bootstrap.min.css set `[hidden] { display: none !important; }` so we also need the `!important` here to be able to override the default hidden behavior on the sphinx rendered scikit-learn.org. See: https://github.com/scikit-learn/scikit-learn/issues/21755 */display: inline-block !important;position: relative;}#sk-container-id-1 div.sk-text-repr-fallback {display: none;}</style><div id=\"sk-container-id-1\" class=\"sk-top-container\"><div class=\"sk-text-repr-fallback\"><pre>Pipeline(steps=[(&#x27;standardscaler&#x27;, StandardScaler(with_mean=False)),\n",
              "                (&#x27;svc&#x27;, SVC(C=1, gamma=&#x27;auto&#x27;))])</pre><b>In a Jupyter environment, please rerun this cell to show the HTML representation or trust the notebook. <br />On GitHub, the HTML representation is unable to render, please try loading this page with nbviewer.org.</b></div><div class=\"sk-container\" hidden><div class=\"sk-item sk-dashed-wrapped\"><div class=\"sk-label-container\"><div class=\"sk-label sk-toggleable\"><input class=\"sk-toggleable__control sk-hidden--visually\" id=\"sk-estimator-id-1\" type=\"checkbox\" ><label for=\"sk-estimator-id-1\" class=\"sk-toggleable__label sk-toggleable__label-arrow\">Pipeline</label><div class=\"sk-toggleable__content\"><pre>Pipeline(steps=[(&#x27;standardscaler&#x27;, StandardScaler(with_mean=False)),\n",
              "                (&#x27;svc&#x27;, SVC(C=1, gamma=&#x27;auto&#x27;))])</pre></div></div></div><div class=\"sk-serial\"><div class=\"sk-item\"><div class=\"sk-estimator sk-toggleable\"><input class=\"sk-toggleable__control sk-hidden--visually\" id=\"sk-estimator-id-2\" type=\"checkbox\" ><label for=\"sk-estimator-id-2\" class=\"sk-toggleable__label sk-toggleable__label-arrow\">StandardScaler</label><div class=\"sk-toggleable__content\"><pre>StandardScaler(with_mean=False)</pre></div></div></div><div class=\"sk-item\"><div class=\"sk-estimator sk-toggleable\"><input class=\"sk-toggleable__control sk-hidden--visually\" id=\"sk-estimator-id-3\" type=\"checkbox\" ><label for=\"sk-estimator-id-3\" class=\"sk-toggleable__label sk-toggleable__label-arrow\">SVC</label><div class=\"sk-toggleable__content\"><pre>SVC(C=1, gamma=&#x27;auto&#x27;)</pre></div></div></div></div></div></div></div>"
            ]
          },
          "metadata": {},
          "execution_count": 21
        }
      ],
      "source": [
        "import numpy as np\n",
        "from sklearn.pipeline import make_pipeline\n",
        "from sklearn.preprocessing import StandardScaler\n",
        "from sklearn.svm import SVC\n",
        "\n",
        "X = bow_ti\n",
        "Y = data.reaction_type\n",
        "\n",
        "svc_tf_idf = make_pipeline(StandardScaler(with_mean=False), SVC(C = 1, gamma='auto'))\n",
        "svc_tf_idf.fit(X_train_ti, Y_train_ti)"
      ]
    },
    {
      "cell_type": "code",
      "execution_count": null,
      "metadata": {
        "id": "_iMelUeo6W4i"
      },
      "outputs": [],
      "source": [
        "Y_pred_test = svc_tf_idf.predict(X_test_ti)\n",
        "Y_pred_train = svc_tf_idf.predict(X_train_ti)"
      ]
    },
    {
      "cell_type": "code",
      "execution_count": null,
      "metadata": {
        "id": "OjWsJBTi6agp",
        "colab": {
          "base_uri": "https://localhost:8080/"
        },
        "outputId": "9a8acb25-7dca-47a1-85ae-bf8fa6cfc1f3"
      },
      "outputs": [
        {
          "output_type": "stream",
          "name": "stdout",
          "text": [
            "Test set accuracy: 0.8132136388692023\n",
            "Train set accuracy: 0.9776355940545329\n"
          ]
        }
      ],
      "source": [
        "from sklearn.metrics import accuracy_score\n",
        "\n",
        "print('Test set accuracy:', accuracy_score(Y_test_ti, Y_pred_test))\n",
        "print('Train set accuracy:', accuracy_score(Y_train_ti, Y_pred_train))"
      ]
    },
    {
      "cell_type": "code",
      "execution_count": null,
      "metadata": {
        "id": "eLOtlrLZA5TY",
        "colab": {
          "base_uri": "https://localhost:8080/"
        },
        "outputId": "cf4d4614-b820-4cab-d585-a5acc36be527"
      },
      "outputs": [
        {
          "output_type": "stream",
          "name": "stdout",
          "text": [
            "Test set F1 score: 0.8550122249388752\n",
            "Train set F1 score: 0.9807353140686474\n"
          ]
        }
      ],
      "source": [
        "from sklearn.metrics import f1_score\n",
        "\n",
        "print('Test set F1 score:', f1_score(Y_test_ti, Y_pred_test))\n",
        "print('Train set F1 score:', f1_score(Y_train_ti, Y_pred_train))"
      ]
    },
    {
      "cell_type": "markdown",
      "source": [
        "### Count Vectorizer"
      ],
      "metadata": {
        "id": "2tkK3Qb7TqJO"
      }
    },
    {
      "cell_type": "code",
      "execution_count": null,
      "metadata": {
        "id": "uqicPIZZOHeo",
        "colab": {
          "base_uri": "https://localhost:8080/",
          "height": 127
        },
        "outputId": "b0d78df2-b200-4083-c4a6-79861d1da54d"
      },
      "outputs": [
        {
          "output_type": "execute_result",
          "data": {
            "text/plain": [
              "Pipeline(steps=[('standardscaler', StandardScaler(with_mean=False)),\n",
              "                ('svc', SVC(C=1, gamma='auto'))])"
            ],
            "text/html": [
              "<style>#sk-container-id-2 {color: black;background-color: white;}#sk-container-id-2 pre{padding: 0;}#sk-container-id-2 div.sk-toggleable {background-color: white;}#sk-container-id-2 label.sk-toggleable__label {cursor: pointer;display: block;width: 100%;margin-bottom: 0;padding: 0.3em;box-sizing: border-box;text-align: center;}#sk-container-id-2 label.sk-toggleable__label-arrow:before {content: \"▸\";float: left;margin-right: 0.25em;color: #696969;}#sk-container-id-2 label.sk-toggleable__label-arrow:hover:before {color: black;}#sk-container-id-2 div.sk-estimator:hover label.sk-toggleable__label-arrow:before {color: black;}#sk-container-id-2 div.sk-toggleable__content {max-height: 0;max-width: 0;overflow: hidden;text-align: left;background-color: #f0f8ff;}#sk-container-id-2 div.sk-toggleable__content pre {margin: 0.2em;color: black;border-radius: 0.25em;background-color: #f0f8ff;}#sk-container-id-2 input.sk-toggleable__control:checked~div.sk-toggleable__content {max-height: 200px;max-width: 100%;overflow: auto;}#sk-container-id-2 input.sk-toggleable__control:checked~label.sk-toggleable__label-arrow:before {content: \"▾\";}#sk-container-id-2 div.sk-estimator input.sk-toggleable__control:checked~label.sk-toggleable__label {background-color: #d4ebff;}#sk-container-id-2 div.sk-label input.sk-toggleable__control:checked~label.sk-toggleable__label {background-color: #d4ebff;}#sk-container-id-2 input.sk-hidden--visually {border: 0;clip: rect(1px 1px 1px 1px);clip: rect(1px, 1px, 1px, 1px);height: 1px;margin: -1px;overflow: hidden;padding: 0;position: absolute;width: 1px;}#sk-container-id-2 div.sk-estimator {font-family: monospace;background-color: #f0f8ff;border: 1px dotted black;border-radius: 0.25em;box-sizing: border-box;margin-bottom: 0.5em;}#sk-container-id-2 div.sk-estimator:hover {background-color: #d4ebff;}#sk-container-id-2 div.sk-parallel-item::after {content: \"\";width: 100%;border-bottom: 1px solid gray;flex-grow: 1;}#sk-container-id-2 div.sk-label:hover label.sk-toggleable__label {background-color: #d4ebff;}#sk-container-id-2 div.sk-serial::before {content: \"\";position: absolute;border-left: 1px solid gray;box-sizing: border-box;top: 0;bottom: 0;left: 50%;z-index: 0;}#sk-container-id-2 div.sk-serial {display: flex;flex-direction: column;align-items: center;background-color: white;padding-right: 0.2em;padding-left: 0.2em;position: relative;}#sk-container-id-2 div.sk-item {position: relative;z-index: 1;}#sk-container-id-2 div.sk-parallel {display: flex;align-items: stretch;justify-content: center;background-color: white;position: relative;}#sk-container-id-2 div.sk-item::before, #sk-container-id-2 div.sk-parallel-item::before {content: \"\";position: absolute;border-left: 1px solid gray;box-sizing: border-box;top: 0;bottom: 0;left: 50%;z-index: -1;}#sk-container-id-2 div.sk-parallel-item {display: flex;flex-direction: column;z-index: 1;position: relative;background-color: white;}#sk-container-id-2 div.sk-parallel-item:first-child::after {align-self: flex-end;width: 50%;}#sk-container-id-2 div.sk-parallel-item:last-child::after {align-self: flex-start;width: 50%;}#sk-container-id-2 div.sk-parallel-item:only-child::after {width: 0;}#sk-container-id-2 div.sk-dashed-wrapped {border: 1px dashed gray;margin: 0 0.4em 0.5em 0.4em;box-sizing: border-box;padding-bottom: 0.4em;background-color: white;}#sk-container-id-2 div.sk-label label {font-family: monospace;font-weight: bold;display: inline-block;line-height: 1.2em;}#sk-container-id-2 div.sk-label-container {text-align: center;}#sk-container-id-2 div.sk-container {/* jupyter's `normalize.less` sets `[hidden] { display: none; }` but bootstrap.min.css set `[hidden] { display: none !important; }` so we also need the `!important` here to be able to override the default hidden behavior on the sphinx rendered scikit-learn.org. See: https://github.com/scikit-learn/scikit-learn/issues/21755 */display: inline-block !important;position: relative;}#sk-container-id-2 div.sk-text-repr-fallback {display: none;}</style><div id=\"sk-container-id-2\" class=\"sk-top-container\"><div class=\"sk-text-repr-fallback\"><pre>Pipeline(steps=[(&#x27;standardscaler&#x27;, StandardScaler(with_mean=False)),\n",
              "                (&#x27;svc&#x27;, SVC(C=1, gamma=&#x27;auto&#x27;))])</pre><b>In a Jupyter environment, please rerun this cell to show the HTML representation or trust the notebook. <br />On GitHub, the HTML representation is unable to render, please try loading this page with nbviewer.org.</b></div><div class=\"sk-container\" hidden><div class=\"sk-item sk-dashed-wrapped\"><div class=\"sk-label-container\"><div class=\"sk-label sk-toggleable\"><input class=\"sk-toggleable__control sk-hidden--visually\" id=\"sk-estimator-id-4\" type=\"checkbox\" ><label for=\"sk-estimator-id-4\" class=\"sk-toggleable__label sk-toggleable__label-arrow\">Pipeline</label><div class=\"sk-toggleable__content\"><pre>Pipeline(steps=[(&#x27;standardscaler&#x27;, StandardScaler(with_mean=False)),\n",
              "                (&#x27;svc&#x27;, SVC(C=1, gamma=&#x27;auto&#x27;))])</pre></div></div></div><div class=\"sk-serial\"><div class=\"sk-item\"><div class=\"sk-estimator sk-toggleable\"><input class=\"sk-toggleable__control sk-hidden--visually\" id=\"sk-estimator-id-5\" type=\"checkbox\" ><label for=\"sk-estimator-id-5\" class=\"sk-toggleable__label sk-toggleable__label-arrow\">StandardScaler</label><div class=\"sk-toggleable__content\"><pre>StandardScaler(with_mean=False)</pre></div></div></div><div class=\"sk-item\"><div class=\"sk-estimator sk-toggleable\"><input class=\"sk-toggleable__control sk-hidden--visually\" id=\"sk-estimator-id-6\" type=\"checkbox\" ><label for=\"sk-estimator-id-6\" class=\"sk-toggleable__label sk-toggleable__label-arrow\">SVC</label><div class=\"sk-toggleable__content\"><pre>SVC(C=1, gamma=&#x27;auto&#x27;)</pre></div></div></div></div></div></div></div>"
            ]
          },
          "metadata": {},
          "execution_count": 25
        }
      ],
      "source": [
        "svc_cv = make_pipeline(StandardScaler(with_mean=False), SVC(C = 1, gamma='auto'))\n",
        "svc_cv.fit(X_train_cv, Y_train_cv)"
      ]
    },
    {
      "cell_type": "code",
      "execution_count": null,
      "metadata": {
        "id": "Q0jtIHGnRVgW"
      },
      "outputs": [],
      "source": [
        "Y_pred_test = svc_cv.predict(X_test_cv)\n",
        "Y_pred_train = svc_cv.predict(X_train_cv)"
      ]
    },
    {
      "cell_type": "code",
      "execution_count": null,
      "metadata": {
        "id": "3QHyr3swO8hY",
        "colab": {
          "base_uri": "https://localhost:8080/"
        },
        "outputId": "3b889dc1-7f18-47fe-c52e-fc3baa5e990b"
      },
      "outputs": [
        {
          "output_type": "stream",
          "name": "stdout",
          "text": [
            "Test set accuracy: 0.8195133475076778\n",
            "Train set accuracy: 0.9668865045772221\n",
            "Test set F1 score: 0.8567679040119985\n",
            "Train set F1 score: 0.9714692811344438\n"
          ]
        }
      ],
      "source": [
        "print('Test set accuracy:', accuracy_score(Y_test_cv, Y_pred_test))\n",
        "print('Train set accuracy:', accuracy_score(Y_train_cv, Y_pred_train))\n",
        "\n",
        "print('Test set F1 score:', f1_score(Y_test_cv, Y_pred_test))\n",
        "print('Train set F1 score:', f1_score(Y_train_cv, Y_pred_train))"
      ]
    },
    {
      "cell_type": "markdown",
      "metadata": {
        "id": "x9tQgUdm04i1"
      },
      "source": [
        "#ROC"
      ]
    },
    {
      "cell_type": "markdown",
      "metadata": {
        "id": "uW5DbCgx0oq-"
      },
      "source": [
        "So now we have 4 models:\n",
        "- nb_cv\n",
        "- nb_tf_idf\n",
        "- svc_cv\n",
        "- svc_tf_idf\n"
      ]
    },
    {
      "cell_type": "code",
      "execution_count": null,
      "metadata": {
        "id": "Al6gB9uN01Ps",
        "colab": {
          "base_uri": "https://localhost:8080/",
          "height": 283
        },
        "outputId": "90786b5c-f277-4525-ca79-1bc41ed949bc"
      },
      "outputs": [
        {
          "output_type": "execute_result",
          "data": {
            "text/plain": [
              "[<matplotlib.lines.Line2D at 0x7f4ab736dac0>]"
            ]
          },
          "metadata": {},
          "execution_count": 28
        },
        {
          "output_type": "display_data",
          "data": {
            "text/plain": [
              "<Figure size 432x288 with 1 Axes>"
            ],
            "image/png": "[encoded data removed]"
          },
          "metadata": {
            "needs_background": "light"
          }
        }
      ],
      "source": [
        "import matplotlib.pyplot as plt\n",
        "\n",
        "from sklearn.metrics import roc_curve, auc\n",
        "\n",
        "nb_cv_score = nb_cv.predict_proba(X_test_cv)\n",
        "nb_tf_idf_score = nb_tf_idf.predict_proba(X_test_ti)\n",
        "#svc_cv_score = svc_cv.predict_proba(X_test_cv)\n",
        "#svc_tf_idf_score = svc_tf_idf.predict_proba(X_test_ti)\n",
        "\n",
        "fpr_nb_cv_gnb, tpr_nb_cv_gnb, thresholds_gnb = roc_curve(Y_test_cv, nb_cv_score[:, 1])\n",
        "fpr_nb_tf_idf, tpr_nb_tf_idf, _ = roc_curve(Y_test_ti, nb_tf_idf_score[:, 1])\n",
        "#fpr_svc_cv, tpr_svc_cv, _ = roc_curve(Y_test_cv, svc_cv_score[:, 1])\n",
        "#fpr_svc_tf_idf, tpr_svc_tf_idf, _ = roc_curve(Y_test_ti, svc_tf_idf_score[:, 1]) \n",
        "\n",
        "#plt.plot(fpr_svc_cv, tpr_svc_cv, marker='.', label = 'svc_cv')\n",
        "#plt.plot(fpr_svc_tf_idf, tpr_svc_tf_idf, marker='.', label = 'svc_tf_idf')\n",
        "plt.plot(fpr_nb_tf_idf, tpr_nb_tf_idf, marker='.', label='nb_ti')\n",
        "plt.plot(fpr_nb_cv_gnb, tpr_nb_cv_gnb, marker='.', label='nb_cv')\n"
      ]
    },
    {
      "cell_type": "markdown",
      "metadata": {
        "id": "ZOjkE9UW5gHF"
      },
      "source": [
        "# Choosing and saving the best model"
      ]
    },
    {
      "cell_type": "markdown",
      "metadata": {
        "id": "KZRF_55M5sUk"
      },
      "source": [
        "The best model so far is Naive Bayes with TF-IDF vectorization and f1_score 0.86"
      ]
    },
    {
      "cell_type": "code",
      "execution_count": null,
      "metadata": {
        "id": "P2irTvQC56A5"
      },
      "outputs": [],
      "source": [
        "# we need to save vectorizer and fitter\n",
        "from joblib import dump, load\n",
        "\n",
        "dump(tf_idf_vec, '/content/drive/My Drive/reaction_prediction/vectorizer.joblib')\n",
        "dump(nb_tf_idf, '/content/drive/My Drive/reaction_prediction/model.joblib')\n",
        "\n",
        "# saving training set\n",
        "data.to_csv('/content/drive/My Drive/reaction_prediction/train_set.csv')"
      ]
    }
  ],
  "metadata": {
    "colab": {
      "provenance": [],
      "authorship_tag": "ABX9TyPDwu/ppcJlN7lRpObSjo3C",
      "include_colab_link": true
    },
    "kernelspec": {
      "display_name": "Python 3",
      "name": "python3"
    },
    "language_info": {
      "name": "python"
    }
  },
  "nbformat": 4,
  "nbformat_minor": 0
}