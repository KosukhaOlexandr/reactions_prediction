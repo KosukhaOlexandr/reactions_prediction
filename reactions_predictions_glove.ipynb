{
  "cells": [
    {
      "cell_type": "markdown",
      "metadata": {
        "id": "view-in-github",
        "colab_type": "text"
      },
      "source": [
        "<a href=\"https://colab.research.google.com/github/KosukhaOlexandr/reactions_prediction/blob/main/reactions_predictions_glove.ipynb\" target=\"_parent\"><img src=\"https://colab.research.google.com/assets/colab-badge.svg\" alt=\"Open In Colab\"/></a>"
      ]
    },
    {
      "cell_type": "code",
      "execution_count": null,
      "metadata": {
        "id": "MICCB4UJlbKF"
      },
      "outputs": [],
      "source": [
        "import numpy as np\n",
        "import pandas as pd\n",
        "import seaborn as sns\n",
        "import nltk\n",
        "from nltk.tokenize import word_tokenize,sent_tokenize\n",
        "from bs4 import BeautifulSoup\n",
        "import re,string,unicodedata\n",
        "from keras.preprocessing import text, sequence\n",
        "from sklearn.metrics import classification_report,confusion_matrix,accuracy_score\n",
        "from sklearn.model_selection import train_test_split\n",
        "from string import punctuation\n",
        "from nltk import pos_tag\n",
        "from nltk.corpus import wordnet\n",
        "import keras\n",
        "from keras.models import Sequential\n",
        "from keras.layers import Dense,Embedding,LSTM,Dropout, GRU\n",
        "from keras.callbacks import ReduceLROnPlateau\n",
        "from keras.callbacks import LearningRateScheduler\n",
        "import tensorflow as tf"
      ]
    },
    {
      "cell_type": "code",
      "execution_count": null,
      "metadata": {
        "colab": {
          "base_uri": "https://localhost:8080/"
        },
        "id": "sPJHrBHvh1-f",
        "outputId": "6c3c127e-8a30-4212-83e9-096f3126d68f"
      },
      "outputs": [
        {
          "output_type": "stream",
          "name": "stdout",
          "text": [
            "Drive already mounted at /content/drive/; to attempt to forcibly remount, call drive.mount(\"/content/drive/\", force_remount=True).\n"
          ]
        }
      ],
      "source": [
        "gdrive_pref = '/content/drive/My Drive/reaction_prediction/'\n",
        "#gdrive_pref = ''\n",
        "\n",
        "if gdrive_pref != '':\n",
        "  from google.colab import drive\n",
        "  drive.mount('/content/drive/')"
      ]
    },
    {
      "cell_type": "code",
      "execution_count": null,
      "metadata": {
        "id": "xVXTSXFiI-TX"
      },
      "outputs": [],
      "source": [
        "cased = True"
      ]
    },
    {
      "cell_type": "code",
      "execution_count": null,
      "metadata": {
        "id": "0wPg-aJhkO8i"
      },
      "outputs": [],
      "source": [
        "import pandas as pd\n",
        "\n",
        "if cased:\n",
        "  data = 'concatenated_pos_neg_bert.csv'\n",
        "else:\n",
        "  data = 'concatenated_pos_neg.csv'\n",
        "\n",
        "with open(f'/content/drive/MyDrive/reaction_prediction/{data}') as f:\n",
        "#with open(f'{data}') as f:\n",
        "  data = pd.read_csv(f, index_col = 0)"
      ]
    },
    {
      "cell_type": "code",
      "execution_count": null,
      "metadata": {
        "colab": {
          "base_uri": "https://localhost:8080/"
        },
        "id": "aCTpMAjmBl8b",
        "outputId": "41aaa7da-b5cd-4cda-9158-6b7d9349d7e0"
      },
      "outputs": [
        {
          "output_type": "execute_result",
          "data": {
            "text/plain": [
              "(63494, 2)"
            ]
          },
          "metadata": {},
          "execution_count": 5
        }
      ],
      "source": [
        "data.shape"
      ]
    },
    {
      "cell_type": "code",
      "execution_count": null,
      "metadata": {
        "id": "U9cuf8gUm8u-"
      },
      "outputs": [],
      "source": [
        "news_emb = True\n",
        "\n",
        "if news_emb:\n",
        "  emb_pref = 'news'\n",
        "else:\n",
        "  emb_pref = 'ubercorpus'\n",
        "\n",
        "if cased:\n",
        "  emb_cased = 'cased'\n",
        "else:\n",
        "  emb_cased = 'lowercased'\n",
        "\n",
        "\n",
        "EMBEDDING_FILE = f'{gdrive_pref}embeddings/{emb_pref}.{emb_cased}.tokenized.glove.300d'"
      ]
    },
    {
      "cell_type": "code",
      "execution_count": null,
      "metadata": {
        "colab": {
          "base_uri": "https://localhost:8080/"
        },
        "id": "OljItTj6kAcU",
        "outputId": "81e3d2b6-3850-43df-d88f-29ff7b15463d"
      },
      "outputs": [
        {
          "output_type": "stream",
          "name": "stdout",
          "text": [
            "/content/drive/My Drive/reaction_prediction/embeddings/news.cased.tokenized.glove.300d\n"
          ]
        }
      ],
      "source": [
        "print(EMBEDDING_FILE)"
      ]
    },
    {
      "cell_type": "code",
      "execution_count": null,
      "metadata": {
        "colab": {
          "base_uri": "https://localhost:8080/"
        },
        "id": "pqqGmr1Jt4WU",
        "outputId": "e2097b67-a273-4f00-959c-8af2c9c0b888"
      },
      "outputs": [
        {
          "output_type": "stream",
          "name": "stdout",
          "text": [
            "Train data: 50795\n",
            "Valid data: 6350\n",
            "Test data: 6349\n"
          ]
        }
      ],
      "source": [
        "#x_train, x_test, y_train, y_test = train_test_split(data.msg_text, data.reaction_type, random_state = 0)\n",
        "\n",
        "test_fraction = 0.1\n",
        "validation_fraction = 0.1\n",
        "\n",
        "train_to_rest = validation_fraction + test_fraction\n",
        "test_to_valid = validation_fraction / train_to_rest\n",
        "\n",
        "x_train, restx, y_train, resty = train_test_split(data.msg_text, data.reaction_type, random_state=0, test_size=train_to_rest)\n",
        "\n",
        "x_test, x_valid, y_test, y_valid = train_test_split(restx, resty, random_state=0, test_size=test_to_valid)\n",
        "\n",
        "print('Train data:', x_train.shape[0])\n",
        "print('Valid data:', x_valid.shape[0])\n",
        "print('Test data:', x_test.shape[0])"
      ]
    },
    {
      "cell_type": "markdown",
      "metadata": {
        "id": "rmuX8NS6be41"
      },
      "source": [
        "#Tokenizing:"
      ]
    },
    {
      "cell_type": "code",
      "execution_count": null,
      "metadata": {
        "id": "27I7hTpZucvy"
      },
      "outputs": [],
      "source": [
        "max_features = 20000\n",
        "maxlen = 300"
      ]
    },
    {
      "cell_type": "code",
      "execution_count": null,
      "metadata": {
        "id": "EHrnQyACuw6Q"
      },
      "outputs": [],
      "source": [
        "tokenizer = text.Tokenizer(num_words=max_features)\n",
        "tokenizer.fit_on_texts(x_train)\n",
        "tokenized_train = tokenizer.texts_to_sequences(x_train)\n",
        "x_train = keras.utils.pad_sequences(tokenized_train, maxlen=maxlen)"
      ]
    },
    {
      "cell_type": "code",
      "execution_count": null,
      "metadata": {
        "id": "JOZOpugCu4_R"
      },
      "outputs": [],
      "source": [
        "tokenized_test = tokenizer.texts_to_sequences(x_test)\n",
        "X_test = keras.utils.pad_sequences(tokenized_test, maxlen=maxlen)"
      ]
    },
    {
      "cell_type": "code",
      "execution_count": null,
      "metadata": {
        "id": "2CPWro20u7mA"
      },
      "outputs": [],
      "source": [
        "def get_coefs(word, *arr): \n",
        "    return word, np.asarray(arr, dtype='float32')\n",
        "embeddings_index = dict(get_coefs(*o.rstrip().rsplit(' ')) for o in open(EMBEDDING_FILE))"
      ]
    },
    {
      "cell_type": "code",
      "execution_count": null,
      "metadata": {
        "colab": {
          "base_uri": "https://localhost:8080/"
        },
        "id": "Ow7cXopVu-UO",
        "outputId": "56d93802-1327-4b03-bd54-d87bf3688940"
      },
      "outputs": [
        {
          "output_type": "stream",
          "name": "stderr",
          "text": [
            "/usr/local/lib/python3.9/dist-packages/IPython/core/interactiveshell.py:3473: FutureWarning: arrays to stack must be passed as a \"sequence\" type such as list or tuple. Support for non-sequence iterables such as generators is deprecated as of NumPy 1.16 and will raise an error in the future.\n",
            "  if (await self.run_code(code, result,  async_=asy)):\n"
          ]
        }
      ],
      "source": [
        "all_embs = np.stack(embeddings_index.values())\n",
        "emb_mean,emb_std = all_embs.mean(), all_embs.std()\n",
        "embed_size = all_embs.shape[1]\n",
        "\n",
        "word_index = tokenizer.word_index\n",
        "nb_words = min(max_features, len(word_index))\n",
        "#change below line if computing normal stats is too slow\n",
        "embedding_matrix = embedding_matrix = np.random.normal(emb_mean, emb_std, (nb_words, embed_size))\n",
        "n_all = 0\n",
        "n_exist = 0\n",
        "for word, i in word_index.items():\n",
        "    if i >= max_features: \n",
        "      continue\n",
        "    embedding_vector = embeddings_index.get(word)\n",
        "    if embedding_vector is not None: \n",
        "      embedding_matrix[i] = embedding_vector\n",
        "      n_exist += 1\n",
        "    n_all += 1"
      ]
    },
    {
      "cell_type": "code",
      "execution_count": null,
      "metadata": {
        "colab": {
          "base_uri": "https://localhost:8080/"
        },
        "id": "dOWzxo6ZgKbC",
        "outputId": "83c5d3a7-78d0-44b9-f569-26d77f7a7201"
      },
      "outputs": [
        {
          "output_type": "stream",
          "name": "stdout",
          "text": [
            "19999 16738 0.8369418470923546\n"
          ]
        }
      ],
      "source": [
        "print(n_all, n_exist, n_exist/n_all)"
      ]
    },
    {
      "cell_type": "code",
      "execution_count": null,
      "metadata": {
        "colab": {
          "base_uri": "https://localhost:8080/"
        },
        "id": "91eyyK6HBmAW",
        "outputId": "4f560f2f-8d33-48b2-a38a-d9063a08cefb"
      },
      "outputs": [
        {
          "output_type": "stream",
          "name": "stdout",
          "text": [
            "Looking in indexes: https://pypi.org/simple, https://us-python.pkg.dev/colab-wheels/public/simple/\n",
            "Requirement already satisfied: tensorflow-addons in /usr/local/lib/python3.9/dist-packages (0.19.0)\n",
            "Requirement already satisfied: packaging in /usr/local/lib/python3.9/dist-packages (from tensorflow-addons) (23.0)\n",
            "Requirement already satisfied: typeguard>=2.7 in /usr/local/lib/python3.9/dist-packages (from tensorflow-addons) (3.0.2)\n",
            "Requirement already satisfied: typing-extensions>=4.4.0 in /usr/local/lib/python3.9/dist-packages (from typeguard>=2.7->tensorflow-addons) (4.5.0)\n",
            "Requirement already satisfied: importlib-metadata>=3.6 in /usr/local/lib/python3.9/dist-packages (from typeguard>=2.7->tensorflow-addons) (6.1.0)\n",
            "Requirement already satisfied: zipp>=0.5 in /usr/local/lib/python3.9/dist-packages (from importlib-metadata>=3.6->typeguard>=2.7->tensorflow-addons) (3.15.0)\n"
          ]
        }
      ],
      "source": [
        "!pip install tensorflow-addons"
      ]
    },
    {
      "cell_type": "markdown",
      "metadata": {
        "id": "V6_23ncusDhq"
      },
      "source": [
        "# LSTM_NN:"
      ]
    },
    {
      "cell_type": "code",
      "execution_count": null,
      "metadata": {
        "id": "1yJTI0XyvFdC"
      },
      "outputs": [],
      "source": [
        "batch_size = 2048\n",
        "epochs = 20\n",
        "embed_size = 300"
      ]
    },
    {
      "cell_type": "code",
      "execution_count": null,
      "metadata": {
        "id": "xpSfDKV2webM"
      },
      "outputs": [],
      "source": [
        "learning_rate_reduction_plateau = ReduceLROnPlateau(monitor='val_accuracy', patience = 2, verbose=1,factor=0.5, min_lr=0.00001)"
      ]
    },
    {
      "cell_type": "code",
      "execution_count": null,
      "metadata": {
        "id": "_hQUSbm-zYpk"
      },
      "outputs": [],
      "source": [
        "def scheduler(epoch, lr):\n",
        "  if epoch < 12:\n",
        "    return lr\n",
        "  else:\n",
        "    return lr * tf.math.exp(-0.05)\n",
        "\n",
        "learning_rate_reduction_decay = LearningRateScheduler(schedule = scheduler, verbose = 1)"
      ]
    },
    {
      "cell_type": "code",
      "execution_count": null,
      "metadata": {
        "colab": {
          "base_uri": "https://localhost:8080/"
        },
        "id": "Z3-I1ssdwCJe",
        "outputId": "ae4346c9-1ca1-4426-fdea-2f60c38ee942"
      },
      "outputs": [
        {
          "output_type": "stream",
          "name": "stderr",
          "text": [
            "/usr/local/lib/python3.9/dist-packages/tensorflow_addons/utils/ensure_tf_install.py:53: UserWarning: Tensorflow Addons supports using Python ops for all Tensorflow versions above or equal to 2.9.0 and strictly below 2.12.0 (nightly versions are not supported). \n",
            " The versions of TensorFlow you are currently using is 2.12.0 and is not supported. \n",
            "Some things might work, some things might not.\n",
            "If you were to encounter a bug, do not file an issue.\n",
            "If you want to make sure you're using a tested and supported configuration, either change the TensorFlow version or the TensorFlow Addons's version. \n",
            "You can find the compatibility matrix in TensorFlow Addon's readme:\n",
            "https://github.com/tensorflow/addons\n",
            "  warnings.warn(\n",
            "WARNING:tensorflow:Layer lstm will not use cuDNN kernels since it doesn't meet the criteria. It will use a generic GPU kernel as fallback when running on GPU.\n",
            "WARNING:tensorflow:Layer lstm_1 will not use cuDNN kernels since it doesn't meet the criteria. It will use a generic GPU kernel as fallback when running on GPU.\n"
          ]
        }
      ],
      "source": [
        "import tensorflow_addons as tfa\n",
        "#Defining Neural Network\n",
        "model = Sequential()\n",
        "#Non-trainable embeddidng layer\n",
        "model.add(Embedding(max_features, output_dim=embed_size, weights=[embedding_matrix], input_length=maxlen, trainable=False))\n",
        "#LSTM \n",
        "model.add(LSTM(units=128 , return_sequences = True , recurrent_dropout = 0.2 , dropout = 0.15))\n",
        "model.add(LSTM(units=64, recurrent_dropout = 0.2 , dropout = 0.17))\n",
        "model.add(Dense(units = 32 , activation = 'relu'))\n",
        "model.add(Dense(1, activation='sigmoid'))\n",
        "model.compile(optimizer=keras.optimizers.Adam(learning_rate = 0.005), loss='binary_crossentropy', \n",
        "              metrics=['accuracy', tfa.metrics.F1Score(num_classes = 1, threshold = 0.5)])"
      ]
    },
    {
      "cell_type": "code",
      "execution_count": null,
      "metadata": {
        "colab": {
          "base_uri": "https://localhost:8080/"
        },
        "id": "AG75Iz91wFoS",
        "outputId": "21533a16-ca3b-42c7-daf7-6830392c6cdb"
      },
      "outputs": [
        {
          "output_type": "stream",
          "name": "stdout",
          "text": [
            "Model: \"sequential\"\n",
            "_________________________________________________________________\n",
            " Layer (type)                Output Shape              Param #   \n",
            "=================================================================\n",
            " embedding (Embedding)       (None, 300, 300)          6000000   \n",
            "                                                                 \n",
            " lstm (LSTM)                 (None, 300, 128)          219648    \n",
            "                                                                 \n",
            " lstm_1 (LSTM)               (None, 64)                49408     \n",
            "                                                                 \n",
            " dense (Dense)               (None, 32)                2080      \n",
            "                                                                 \n",
            " dense_1 (Dense)             (None, 1)                 33        \n",
            "                                                                 \n",
            "=================================================================\n",
            "Total params: 6,271,169\n",
            "Trainable params: 271,169\n",
            "Non-trainable params: 6,000,000\n",
            "_________________________________________________________________\n"
          ]
        }
      ],
      "source": [
        "model.summary()"
      ]
    },
    {
      "cell_type": "code",
      "execution_count": null,
      "metadata": {
        "colab": {
          "base_uri": "https://localhost:8080/"
        },
        "id": "BLYvayl3wIL4",
        "outputId": "c4563641-5758-4297-a620-e37711db6c40"
      },
      "outputs": [
        {
          "output_type": "stream",
          "name": "stdout",
          "text": [
            "\n",
            "Epoch 1: LearningRateScheduler setting learning rate to 0.004999999888241291.\n",
            "Epoch 1/20\n",
            "25/25 [==============================] - 89s 3s/step - loss: 0.5158 - accuracy: 0.7465 - f1_score: 0.7996 - val_loss: 0.4377 - val_accuracy: 0.7878 - val_f1_score: 0.8356 - lr: 0.0050\n",
            "\n",
            "Epoch 2: LearningRateScheduler setting learning rate to 0.004999999888241291.\n",
            "Epoch 2/20\n",
            "25/25 [==============================] - 70s 3s/step - loss: 0.4094 - accuracy: 0.8055 - f1_score: 0.8427 - val_loss: 0.3909 - val_accuracy: 0.8110 - val_f1_score: 0.8488 - lr: 0.0050\n",
            "\n",
            "Epoch 3: LearningRateScheduler setting learning rate to 0.004999999888241291.\n",
            "Epoch 3/20\n",
            "25/25 [==============================] - 66s 3s/step - loss: 0.3716 - accuracy: 0.8246 - f1_score: 0.8568 - val_loss: 0.3658 - val_accuracy: 0.8304 - val_f1_score: 0.8619 - lr: 0.0050\n",
            "\n",
            "Epoch 4: LearningRateScheduler setting learning rate to 0.004999999888241291.\n",
            "Epoch 4/20\n",
            "25/25 [==============================] - 66s 3s/step - loss: 0.3443 - accuracy: 0.8407 - f1_score: 0.8690 - val_loss: 0.3457 - val_accuracy: 0.8386 - val_f1_score: 0.8688 - lr: 0.0050\n",
            "\n",
            "Epoch 5: LearningRateScheduler setting learning rate to 0.004999999888241291.\n",
            "Epoch 5/20\n",
            "25/25 [==============================] - 65s 3s/step - loss: 0.3175 - accuracy: 0.8560 - f1_score: 0.8820 - val_loss: 0.3318 - val_accuracy: 0.8496 - val_f1_score: 0.8753 - lr: 0.0050\n",
            "\n",
            "Epoch 6: LearningRateScheduler setting learning rate to 0.004999999888241291.\n",
            "Epoch 6/20\n",
            "25/25 [==============================] - 67s 3s/step - loss: 0.2940 - accuracy: 0.8681 - f1_score: 0.8906 - val_loss: 0.3228 - val_accuracy: 0.8540 - val_f1_score: 0.8782 - lr: 0.0050\n",
            "\n",
            "Epoch 7: LearningRateScheduler setting learning rate to 0.004999999888241291.\n",
            "Epoch 7/20\n",
            "25/25 [==============================] - 65s 3s/step - loss: 0.2695 - accuracy: 0.8801 - f1_score: 0.9000 - val_loss: 0.3189 - val_accuracy: 0.8562 - val_f1_score: 0.8799 - lr: 0.0050\n",
            "\n",
            "Epoch 8: LearningRateScheduler setting learning rate to 0.004999999888241291.\n",
            "Epoch 8/20\n",
            "25/25 [==============================] - 66s 3s/step - loss: 0.2460 - accuracy: 0.8906 - f1_score: 0.9080 - val_loss: 0.3200 - val_accuracy: 0.8616 - val_f1_score: 0.8832 - lr: 0.0050\n",
            "\n",
            "Epoch 9: LearningRateScheduler setting learning rate to 0.004999999888241291.\n",
            "Epoch 9/20\n",
            "25/25 [==============================] - 66s 3s/step - loss: 0.2258 - accuracy: 0.8997 - f1_score: 0.9153 - val_loss: 0.3217 - val_accuracy: 0.8597 - val_f1_score: 0.8814 - lr: 0.0050\n",
            "\n",
            "Epoch 10: LearningRateScheduler setting learning rate to 0.004999999888241291.\n",
            "Epoch 10/20\n",
            "25/25 [==============================] - 68s 3s/step - loss: 0.2105 - accuracy: 0.9080 - f1_score: 0.9222 - val_loss: 0.3661 - val_accuracy: 0.8567 - val_f1_score: 0.8728 - lr: 0.0050\n",
            "\n",
            "Epoch 11: LearningRateScheduler setting learning rate to 0.004999999888241291.\n",
            "Epoch 11/20\n",
            "25/25 [==============================] - 66s 3s/step - loss: 0.1865 - accuracy: 0.9211 - f1_score: 0.9328 - val_loss: 0.3452 - val_accuracy: 0.8589 - val_f1_score: 0.8799 - lr: 0.0050\n",
            "\n",
            "Epoch 12: LearningRateScheduler setting learning rate to 0.004999999888241291.\n",
            "Epoch 12/20\n",
            "25/25 [==============================] - 65s 3s/step - loss: 0.1708 - accuracy: 0.9273 - f1_score: 0.9379 - val_loss: 0.3798 - val_accuracy: 0.8611 - val_f1_score: 0.8829 - lr: 0.0050\n",
            "\n",
            "Epoch 13: LearningRateScheduler setting learning rate to 0.004756147041916847.\n",
            "Epoch 13/20\n",
            "25/25 [==============================] - 69s 3s/step - loss: 0.1445 - accuracy: 0.9402 - f1_score: 0.9489 - val_loss: 0.3924 - val_accuracy: 0.8576 - val_f1_score: 0.8755 - lr: 0.0048\n",
            "\n",
            "Epoch 14: LearningRateScheduler setting learning rate to 0.004524187184870243.\n",
            "Epoch 14/20\n",
            "25/25 [==============================] - 65s 3s/step - loss: 0.1307 - accuracy: 0.9473 - f1_score: 0.9549 - val_loss: 0.4275 - val_accuracy: 0.8442 - val_f1_score: 0.8632 - lr: 0.0045\n",
            "\n",
            "Epoch 15: LearningRateScheduler setting learning rate to 0.004303540103137493.\n",
            "Epoch 15/20\n",
            "25/25 [==============================] - 67s 3s/step - loss: 0.1168 - accuracy: 0.9532 - f1_score: 0.9598 - val_loss: 0.4393 - val_accuracy: 0.8513 - val_f1_score: 0.8697 - lr: 0.0043\n",
            "\n",
            "Epoch 16: LearningRateScheduler setting learning rate to 0.004093653988093138.\n",
            "Epoch 16/20\n",
            "25/25 [==============================] - 66s 3s/step - loss: 0.0992 - accuracy: 0.9608 - f1_score: 0.9663 - val_loss: 0.4808 - val_accuracy: 0.8480 - val_f1_score: 0.8668 - lr: 0.0041\n",
            "\n",
            "Epoch 17: LearningRateScheduler setting learning rate to 0.0038940042722970247.\n",
            "Epoch 17/20\n",
            "25/25 [==============================] - 69s 3s/step - loss: 0.0891 - accuracy: 0.9655 - f1_score: 0.9703 - val_loss: 0.4953 - val_accuracy: 0.8557 - val_f1_score: 0.8770 - lr: 0.0039\n",
            "\n",
            "Epoch 18: LearningRateScheduler setting learning rate to 0.0037040915340185165.\n",
            "Epoch 18/20\n",
            "25/25 [==============================] - 66s 3s/step - loss: 0.0788 - accuracy: 0.9693 - f1_score: 0.9736 - val_loss: 0.5417 - val_accuracy: 0.8560 - val_f1_score: 0.8755 - lr: 0.0037\n",
            "\n",
            "Epoch 19: LearningRateScheduler setting learning rate to 0.003523441031575203.\n",
            "Epoch 19/20\n",
            "25/25 [==============================] - 68s 3s/step - loss: 0.0689 - accuracy: 0.9744 - f1_score: 0.9779 - val_loss: 0.6003 - val_accuracy: 0.8582 - val_f1_score: 0.8768 - lr: 0.0035\n",
            "\n",
            "Epoch 20: LearningRateScheduler setting learning rate to 0.0033516008406877518.\n",
            "Epoch 20/20\n",
            "25/25 [==============================] - 70s 3s/step - loss: 0.0656 - accuracy: 0.9750 - f1_score: 0.9785 - val_loss: 0.5570 - val_accuracy: 0.8497 - val_f1_score: 0.8692 - lr: 0.0034\n"
          ]
        }
      ],
      "source": [
        "history = model.fit(x_train, y_train, batch_size = batch_size , validation_data = (X_test,y_test) , epochs = epochs , callbacks = [learning_rate_reduction_decay])"
      ]
    },
    {
      "cell_type": "code",
      "execution_count": null,
      "metadata": {
        "id": "UE6szb0dgmo9",
        "colab": {
          "base_uri": "https://localhost:8080/"
        },
        "outputId": "b6197f5f-81d4-44c0-be32-69c187bb916b"
      },
      "outputs": [
        {
          "output_type": "execute_result",
          "data": {
            "text/plain": [
              "(6350, 300)"
            ]
          },
          "metadata": {},
          "execution_count": 22
        }
      ],
      "source": [
        "tokenized_test_valid = tokenizer.texts_to_sequences(x_valid)\n",
        "X_valid = keras.utils.pad_sequences(tokenized_test_valid, maxlen=maxlen)\n",
        "X_valid.shape"
      ]
    },
    {
      "cell_type": "code",
      "execution_count": null,
      "metadata": {
        "id": "gVwdzADbWLpN",
        "colab": {
          "base_uri": "https://localhost:8080/",
          "height": 91
        },
        "outputId": "6347145f-bc03-430c-bf89-6751796dc89b"
      },
      "outputs": [
        {
          "output_type": "execute_result",
          "data": {
            "text/plain": [
              "'Окупанти не підуть із Запорізької АЕС, поки Україна не виб’є їх звідти. Тому зараз потрібно мінімізувати всі загрози, які можуть виникнути внаслідок обстрілів ЗАЕС з боку російських військових. Про це заявив військовий експерт Олег Жданов в коментарі для ТСН: \"Поки ми їх звідти не виб’ємо, вони звідти самостійно не підуть. Демілітаризацію Росія теж в жодному разі не підтримає. Вони хочуть її контролювати. Вони будуть будь-яким способом перешкоджати передаванню електроенергії до української енергомережі. Навіщо нам ці ігрища з небезпекою такого великого і потужного ядерного об’єкту?\"'"
            ],
            "application/vnd.google.colaboratory.intrinsic+json": {
              "type": "string"
            }
          },
          "metadata": {},
          "execution_count": 23
        }
      ],
      "source": [
        "x_valid.iloc[4]"
      ]
    },
    {
      "cell_type": "code",
      "execution_count": null,
      "metadata": {
        "id": "eSmkuZXAMPT0",
        "colab": {
          "base_uri": "https://localhost:8080/"
        },
        "outputId": "d841a3bf-da59-4c3f-d7a7-4af0b5be5031"
      },
      "outputs": [
        {
          "output_type": "execute_result",
          "data": {
            "text/plain": [
              "<tf.Tensor: shape=(5, 1), dtype=float32, numpy=\n",
              "array([[9.9123013e-01],\n",
              "       [8.5197502e-01],\n",
              "       [5.0121912e-06],\n",
              "       [9.9949133e-01],\n",
              "       [8.1976205e-01]], dtype=float32)>"
            ]
          },
          "metadata": {},
          "execution_count": 24
        }
      ],
      "source": [
        "model(X_valid[0:5, :].reshape(-1, 300))"
      ]
    },
    {
      "cell_type": "code",
      "execution_count": null,
      "metadata": {
        "id": "qEWYABTo-72X",
        "colab": {
          "base_uri": "https://localhost:8080/"
        },
        "outputId": "6f34403a-d199-4d15-9317-f6dfc774e28a"
      },
      "outputs": [
        {
          "output_type": "stream",
          "name": "stdout",
          "text": [
            "Бюст Пушкіна демонтували у Кременчуці на Полтавщині А листопада бульвар, що носив його ім‘я переіменували на бульвар Українського Відродження.\n",
            "[    0     0     0     0     0     0     0     0     0     0     0     0\n",
            "     0     0     0     0     0     0     0     0     0     0     0     0\n",
            "     0     0     0     0     0     0     0     0     0     0     0     0\n",
            "     0     0     0     0     0     0     0     0     0     0     0     0\n",
            "     0     0     0     0     0     0     0     0     0     0     0     0\n",
            "     0     0     0     0     0     0     0     0     0     0     0     0\n",
            "     0     0     0     0     0     0     0     0     0     0     0     0\n",
            "     0     0     0     0     0     0     0     0     0     0     0     0\n",
            "     0     0     0     0     0     0     0     0     0     0     0     0\n",
            "     0     0     0     0     0     0     0     0     0     0     0     0\n",
            "     0     0     0     0     0     0     0     0     0     0     0     0\n",
            "     0     0     0     0     0     0     0     0     0     0     0     0\n",
            "     0     0     0     0     0     0     0     0     0     0     0     0\n",
            "     0     0     0     0     0     0     0     0     0     0     0     0\n",
            "     0     0     0     0     0     0     0     0     0     0     0     0\n",
            "     0     0     0     0     0     0     0     0     0     0     0     0\n",
            "     0     0     0     0     0     0     0     0     0     0     0     0\n",
            "     0     0     0     0     0     0     0     0     0     0     0     0\n",
            "     0     0     0     0     0     0     0     0     0     0     0     0\n",
            "     0     0     0     0     0     0     0     0     0     0     0     0\n",
            "     0     0     0     0     0     0     0     0     0     0     0     0\n",
            "     0     0     0     0     0     0     0     0     0     0     0     0\n",
            "     0     0     0     0     0     0     0     0     0     0     0     0\n",
            "     0     0     0     0     0     0     0     0     0     0     0 17516\n",
            "  7056     2  4905     1  4466    19   626     7    44     1   273  9422]\n"
          ]
        }
      ],
      "source": [
        "print(x_valid.iloc[0])\n",
        "print(X_valid[0])"
      ]
    },
    {
      "cell_type": "code",
      "execution_count": null,
      "metadata": {
        "id": "C4xqclnZWQrX"
      },
      "outputs": [],
      "source": []
    },
    {
      "cell_type": "code",
      "execution_count": null,
      "metadata": {
        "id": "kD4glWjmy6iv",
        "colab": {
          "base_uri": "https://localhost:8080/",
          "height": 448
        },
        "outputId": "bf70c543-8ab7-49f4-eaab-b7a55474875a"
      },
      "outputs": [
        {
          "output_type": "execute_result",
          "data": {
            "text/plain": [
              "<Axes: >"
            ]
          },
          "metadata": {},
          "execution_count": 26
        },
        {
          "output_type": "display_data",
          "data": {
            "text/plain": [
              "<Figure size 640x480 with 1 Axes>"
            ],
            "image/png": "[encoded data removed]"
          },
          "metadata": {}
        }
      ],
      "source": [
        "history_df = pd.DataFrame(history.history)\n",
        "history_df.loc[:, ['loss', 'val_loss']].plot()"
      ]
    },
    {
      "cell_type": "code",
      "execution_count": null,
      "metadata": {
        "id": "TSwh2AdjwK_3",
        "colab": {
          "base_uri": "https://localhost:8080/"
        },
        "outputId": "77eb9f11-098a-4aa9-a43a-5e0d2f4646d1"
      },
      "outputs": [
        {
          "output_type": "stream",
          "name": "stdout",
          "text": [
            "1588/1588 [==============================] - 298s 188ms/step - loss: 0.0202 - accuracy: 0.9952 - f1_score: 0.9959\n",
            "Accuracy of the model on Training Data is -  99.52357411384583 %\n",
            "199/199 [==============================] - 37s 187ms/step - loss: 0.5570 - accuracy: 0.8497 - f1_score: 0.8692\n",
            "Accuracy of the model on Testing Data is -  84.97400879859924 %\n",
            "199/199 [==============================] - 37s 184ms/step - loss: 0.5546 - accuracy: 0.8584 - f1_score: 0.8770\n",
            "Accuracy of the model on Validation Data is -  85.84251999855042 %\n"
          ]
        }
      ],
      "source": [
        "print(\"Accuracy of the model on Training Data is - \" , model.evaluate(x_train,y_train)[1]*100 , \"%\")\n",
        "print(\"Accuracy of the model on Testing Data is - \" , model.evaluate(X_test,y_test)[1]*100 , \"%\")\n",
        "print(\"Accuracy of the model on Validation Data is - \" , model.evaluate(X_valid,y_valid)[1]*100 , \"%\")"
      ]
    },
    {
      "cell_type": "markdown",
      "metadata": {
        "id": "bXbF8qL6lhtc"
      },
      "source": [
        "#GRU_NN"
      ]
    },
    {
      "cell_type": "code",
      "execution_count": null,
      "metadata": {
        "id": "QgZTfvIAloNY"
      },
      "outputs": [],
      "source": [
        "batch_size = 2048\n",
        "epochs = 20"
      ]
    },
    {
      "cell_type": "code",
      "execution_count": null,
      "metadata": {
        "id": "TxvIxYX_G5Ec"
      },
      "outputs": [],
      "source": [
        "def gru_scheduler(epoch, lr):\n",
        "  if epoch < 12:\n",
        "    return lr\n",
        "  else:\n",
        "    return lr * tf.math.exp(-0.05)\n",
        "\n",
        "learning_rate_reduction_decay = LearningRateScheduler(schedule = scheduler, verbose = 1)"
      ]
    },
    {
      "cell_type": "code",
      "execution_count": null,
      "metadata": {
        "colab": {
          "base_uri": "https://localhost:8080/"
        },
        "id": "21pkcdCjHpCq",
        "outputId": "fbb0a748-d5b1-48d3-cf15-22398a41961d"
      },
      "outputs": [
        {
          "output_type": "stream",
          "name": "stderr",
          "text": [
            "WARNING:tensorflow:Layer gru will not use cuDNN kernels since it doesn't meet the criteria. It will use a generic GPU kernel as fallback when running on GPU.\n",
            "WARNING:tensorflow:Layer gru_1 will not use cuDNN kernels since it doesn't meet the criteria. It will use a generic GPU kernel as fallback when running on GPU.\n"
          ]
        }
      ],
      "source": [
        "import tensorflow_addons as tfa\n",
        "#Defining Neural Network\n",
        "model = Sequential()\n",
        "#Non-trainable embeddidng layer\n",
        "model.add(Embedding(max_features, output_dim=embed_size, weights=[embedding_matrix], input_length=maxlen, trainable=False))\n",
        "#LSTM \n",
        "model.add(GRU(units=128, activation='tanh', recurrent_activation='sigmoid', return_sequences = True, recurrent_dropout = 0.2 , dropout = 0.3))\n",
        "model.add(GRU(units=64, activation='tanh', recurrent_activation='sigmoid', recurrent_dropout = 0.25 , dropout = 0.25))\n",
        "model.add(Dense(units = 32 , activation = 'relu'))\n",
        "model.add(Dense(1, activation='sigmoid'))\n",
        "model.compile(optimizer=keras.optimizers.Adam(learning_rate = 0.005), loss='binary_crossentropy', \n",
        "              metrics=['accuracy', tfa.metrics.F1Score(num_classes = 1, threshold = 0.5)])"
      ]
    },
    {
      "cell_type": "code",
      "execution_count": null,
      "metadata": {
        "colab": {
          "base_uri": "https://localhost:8080/"
        },
        "id": "SKCJWbTkJujt",
        "outputId": "46221a7c-ae0a-44a5-ff3a-c670e5774f1f"
      },
      "outputs": [
        {
          "output_type": "stream",
          "name": "stdout",
          "text": [
            "Model: \"sequential_1\"\n",
            "_________________________________________________________________\n",
            " Layer (type)                Output Shape              Param #   \n",
            "=================================================================\n",
            " embedding_1 (Embedding)     (None, 300, 300)          6000000   \n",
            "                                                                 \n",
            " gru (GRU)                   (None, 300, 128)          165120    \n",
            "                                                                 \n",
            " gru_1 (GRU)                 (None, 64)                37248     \n",
            "                                                                 \n",
            " dense_2 (Dense)             (None, 32)                2080      \n",
            "                                                                 \n",
            " dense_3 (Dense)             (None, 1)                 33        \n",
            "                                                                 \n",
            "=================================================================\n",
            "Total params: 6,204,481\n",
            "Trainable params: 204,481\n",
            "Non-trainable params: 6,000,000\n",
            "_________________________________________________________________\n"
          ]
        }
      ],
      "source": [
        "model.summary()"
      ]
    },
    {
      "cell_type": "code",
      "execution_count": null,
      "metadata": {
        "colab": {
          "base_uri": "https://localhost:8080/"
        },
        "id": "CRDIotfFKP19",
        "outputId": "0e47e1b0-443e-402c-aa68-f41da87cdbcf"
      },
      "outputs": [
        {
          "output_type": "stream",
          "name": "stdout",
          "text": [
            "\n",
            "Epoch 1: LearningRateScheduler setting learning rate to 0.004999999888241291.\n",
            "Epoch 1/20\n",
            "25/25 [==============================] - 69s 3s/step - loss: 0.5258 - accuracy: 0.7376 - f1_score: 0.7953 - val_loss: 0.4510 - val_accuracy: 0.7899 - val_f1_score: 0.8348 - lr: 0.0050\n",
            "\n",
            "Epoch 2: LearningRateScheduler setting learning rate to 0.004999999888241291.\n",
            "Epoch 2/20\n",
            "25/25 [==============================] - 60s 2s/step - loss: 0.4144 - accuracy: 0.8010 - f1_score: 0.8399 - val_loss: 0.3807 - val_accuracy: 0.8157 - val_f1_score: 0.8499 - lr: 0.0050\n",
            "\n",
            "Epoch 3: LearningRateScheduler setting learning rate to 0.004999999888241291.\n",
            "Epoch 3/20\n",
            "25/25 [==============================] - 61s 2s/step - loss: 0.3724 - accuracy: 0.8237 - f1_score: 0.8572 - val_loss: 0.3551 - val_accuracy: 0.8274 - val_f1_score: 0.8588 - lr: 0.0050\n",
            "\n",
            "Epoch 4: LearningRateScheduler setting learning rate to 0.004999999888241291.\n",
            "Epoch 4/20\n",
            "25/25 [==============================] - 60s 2s/step - loss: 0.3457 - accuracy: 0.8396 - f1_score: 0.8686 - val_loss: 0.3461 - val_accuracy: 0.8430 - val_f1_score: 0.8712 - lr: 0.0050\n",
            "\n",
            "Epoch 5: LearningRateScheduler setting learning rate to 0.004999999888241291.\n",
            "Epoch 5/20\n",
            "25/25 [==============================] - 62s 3s/step - loss: 0.3256 - accuracy: 0.8508 - f1_score: 0.8775 - val_loss: 0.3240 - val_accuracy: 0.8526 - val_f1_score: 0.8749 - lr: 0.0050\n",
            "\n",
            "Epoch 6: LearningRateScheduler setting learning rate to 0.004999999888241291.\n",
            "Epoch 6/20\n",
            "25/25 [==============================] - 61s 2s/step - loss: 0.3081 - accuracy: 0.8618 - f1_score: 0.8850 - val_loss: 0.3244 - val_accuracy: 0.8486 - val_f1_score: 0.8671 - lr: 0.0050\n",
            "\n",
            "Epoch 7: LearningRateScheduler setting learning rate to 0.004999999888241291.\n",
            "Epoch 7/20\n",
            "25/25 [==============================] - 60s 2s/step - loss: 0.2908 - accuracy: 0.8691 - f1_score: 0.8905 - val_loss: 0.3184 - val_accuracy: 0.8584 - val_f1_score: 0.8829 - lr: 0.0050\n",
            "\n",
            "Epoch 8: LearningRateScheduler setting learning rate to 0.004999999888241291.\n",
            "Epoch 8/20\n",
            "25/25 [==============================] - 60s 2s/step - loss: 0.2727 - accuracy: 0.8790 - f1_score: 0.8987 - val_loss: 0.3218 - val_accuracy: 0.8540 - val_f1_score: 0.8735 - lr: 0.0050\n",
            "\n",
            "Epoch 9: LearningRateScheduler setting learning rate to 0.004999999888241291.\n",
            "Epoch 9/20\n",
            "25/25 [==============================] - 63s 2s/step - loss: 0.2566 - accuracy: 0.8872 - f1_score: 0.9050 - val_loss: 0.3159 - val_accuracy: 0.8592 - val_f1_score: 0.8784 - lr: 0.0050\n",
            "\n",
            "Epoch 10: LearningRateScheduler setting learning rate to 0.004999999888241291.\n",
            "Epoch 10/20\n",
            "25/25 [==============================] - 59s 2s/step - loss: 0.2426 - accuracy: 0.8945 - f1_score: 0.9110 - val_loss: 0.3204 - val_accuracy: 0.8616 - val_f1_score: 0.8823 - lr: 0.0050\n",
            "\n",
            "Epoch 11: LearningRateScheduler setting learning rate to 0.004999999888241291.\n",
            "Epoch 11/20\n",
            "25/25 [==============================] - 61s 2s/step - loss: 0.2280 - accuracy: 0.9007 - f1_score: 0.9159 - val_loss: 0.3312 - val_accuracy: 0.8634 - val_f1_score: 0.8838 - lr: 0.0050\n",
            "\n",
            "Epoch 12: LearningRateScheduler setting learning rate to 0.004999999888241291.\n",
            "Epoch 12/20\n",
            "25/25 [==============================] - 60s 2s/step - loss: 0.2155 - accuracy: 0.9078 - f1_score: 0.9217 - val_loss: 0.3311 - val_accuracy: 0.8579 - val_f1_score: 0.8791 - lr: 0.0050\n",
            "\n",
            "Epoch 13: LearningRateScheduler setting learning rate to 0.004756147041916847.\n",
            "Epoch 13/20\n",
            "25/25 [==============================] - 61s 2s/step - loss: 0.2079 - accuracy: 0.9098 - f1_score: 0.9233 - val_loss: 0.3570 - val_accuracy: 0.8578 - val_f1_score: 0.8772 - lr: 0.0048\n",
            "\n",
            "Epoch 14: LearningRateScheduler setting learning rate to 0.004524187184870243.\n",
            "Epoch 14/20\n",
            "25/25 [==============================] - 62s 2s/step - loss: 0.1978 - accuracy: 0.9163 - f1_score: 0.9286 - val_loss: 0.3644 - val_accuracy: 0.8597 - val_f1_score: 0.8817 - lr: 0.0045\n",
            "\n",
            "Epoch 15: LearningRateScheduler setting learning rate to 0.004303540103137493.\n",
            "Epoch 15/20\n",
            "25/25 [==============================] - 59s 2s/step - loss: 0.1840 - accuracy: 0.9234 - f1_score: 0.9347 - val_loss: 0.3820 - val_accuracy: 0.8619 - val_f1_score: 0.8830 - lr: 0.0043\n",
            "\n",
            "Epoch 16: LearningRateScheduler setting learning rate to 0.004093653988093138.\n",
            "Epoch 16/20\n",
            "25/25 [==============================] - 62s 2s/step - loss: 0.1794 - accuracy: 0.9243 - f1_score: 0.9354 - val_loss: 0.3698 - val_accuracy: 0.8631 - val_f1_score: 0.8824 - lr: 0.0041\n",
            "\n",
            "Epoch 17: LearningRateScheduler setting learning rate to 0.0038940042722970247.\n",
            "Epoch 17/20\n",
            "25/25 [==============================] - 62s 2s/step - loss: 0.1706 - accuracy: 0.9280 - f1_score: 0.9383 - val_loss: 0.3839 - val_accuracy: 0.8600 - val_f1_score: 0.8792 - lr: 0.0039\n",
            "\n",
            "Epoch 18: LearningRateScheduler setting learning rate to 0.0037040915340185165.\n",
            "Epoch 18/20\n",
            "25/25 [==============================] - 60s 2s/step - loss: 0.1642 - accuracy: 0.9322 - f1_score: 0.9419 - val_loss: 0.3996 - val_accuracy: 0.8644 - val_f1_score: 0.8858 - lr: 0.0037\n",
            "\n",
            "Epoch 19: LearningRateScheduler setting learning rate to 0.003523441031575203.\n",
            "Epoch 19/20\n",
            "25/25 [==============================] - 61s 2s/step - loss: 0.1641 - accuracy: 0.9324 - f1_score: 0.9422 - val_loss: 0.3911 - val_accuracy: 0.8617 - val_f1_score: 0.8826 - lr: 0.0035\n",
            "\n",
            "Epoch 20: LearningRateScheduler setting learning rate to 0.0033516008406877518.\n",
            "Epoch 20/20\n",
            "25/25 [==============================] - 59s 2s/step - loss: 0.1519 - accuracy: 0.9369 - f1_score: 0.9460 - val_loss: 0.4029 - val_accuracy: 0.8611 - val_f1_score: 0.8805 - lr: 0.0034\n"
          ]
        }
      ],
      "source": [
        "history = model.fit(x_train, y_train, batch_size = batch_size , validation_data = (X_test,y_test) , epochs = epochs , callbacks = [learning_rate_reduction_decay])"
      ]
    },
    {
      "cell_type": "code",
      "execution_count": null,
      "metadata": {
        "colab": {
          "base_uri": "https://localhost:8080/",
          "height": 448
        },
        "id": "lFxo3TRcKSPi",
        "outputId": "407a27cb-a5f3-4c36-e280-559cd2d175b7"
      },
      "outputs": [
        {
          "output_type": "execute_result",
          "data": {
            "text/plain": [
              "<Axes: >"
            ]
          },
          "metadata": {},
          "execution_count": 33
        },
        {
          "output_type": "display_data",
          "data": {
            "text/plain": [
              "<Figure size 640x480 with 1 Axes>"
            ],
            "image/png": "[encoded data removed]"
          },
          "metadata": {}
        }
      ],
      "source": [
        "history_df = pd.DataFrame(history.history)\n",
        "history_df.loc[:, ['loss', 'val_loss']].plot()"
      ]
    },
    {
      "cell_type": "code",
      "execution_count": null,
      "metadata": {
        "colab": {
          "base_uri": "https://localhost:8080/"
        },
        "id": "n65zoSh1KTZ0",
        "outputId": "6dfa5900-a673-4470-d42d-5a73fe8dbd1d"
      },
      "outputs": [
        {
          "output_type": "stream",
          "name": "stdout",
          "text": [
            "1588/1588 [==============================] - 284s 179ms/step - loss: 0.0664 - accuracy: 0.9782 - f1_score: 0.9813\n",
            "Accuracy of the model on Training Data is -  97.82459139823914 %\n",
            "199/199 [==============================] - 35s 176ms/step - loss: 0.4029 - accuracy: 0.8611 - f1_score: 0.8805\n",
            "Accuracy of the model on Testing Data is -  86.10804677009583 %\n",
            "199/199 [==============================] - 35s 175ms/step - loss: 0.4202 - accuracy: 0.8581 - f1_score: 0.8775\n",
            "Accuracy of the model on Validation Data is -  85.8110249042511 %\n"
          ]
        }
      ],
      "source": [
        "print(\"Accuracy of the model on Training Data is - \" , model.evaluate(x_train,y_train)[1]*100 , \"%\")\n",
        "print(\"Accuracy of the model on Testing Data is - \" , model.evaluate(X_test,y_test)[1]*100 , \"%\")\n",
        "print(\"Accuracy of the model on Validation Data is - \" , model.evaluate(X_valid,y_valid)[1]*100 , \"%\")"
      ]
    }
  ],
  "metadata": {
    "accelerator": "GPU",
    "colab": {
      "provenance": [],
      "authorship_tag": "ABX9TyNRtgm05u/ry6ghYByDdDvk",
      "include_colab_link": true
    },
    "gpuClass": "standard",
    "kernelspec": {
      "display_name": "Python 3",
      "name": "python3"
    },
    "language_info": {
      "name": "python"
    }
  },
  "nbformat": 4,
  "nbformat_minor": 0
}